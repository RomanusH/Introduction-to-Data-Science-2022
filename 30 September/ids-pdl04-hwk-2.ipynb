{
 "cells": [
  {
   "cell_type": "markdown",
   "metadata": {},
   "source": [
    "**ids-pdl04-hwk.ipynb**: This Jupyter notebook is provided by Joachim Vogt for the _Python Data Lab_ of the module _Introduction to Data Science_ offered in Fall 2022 at Jacobs University Bremen. Module instructors are Hilke Brockmann, Adalbert Wilhelm, and Joachim Vogt. Jupyter notebooks and other learning resources are available from a dedicated _module platform_."
   ]
  },
  {
   "cell_type": "markdown",
   "metadata": {},
   "source": [
    "# Homework assignments: NumPy basics"
   ]
  },
  {
   "cell_type": "markdown",
   "metadata": {},
   "source": [
    "The homework assignments in this notebook supplement the tutorial *NumPy basics*.\n",
    "\n",
    "- Solve the assignments according to the instructions.\n",
    "- Upload the completed notebook to the module platform.\n",
    "- Do not forget to enter your name in the markdown cell below.\n",
    "\n",
    "The homework set carries a total of 20 points. Square brackets in the assignment titles specify individual point contributions."
   ]
  },
  {
   "cell_type": "markdown",
   "metadata": {},
   "source": [
    "## Name: Hikmat Vugarli"
   ]
  },
  {
   "cell_type": "markdown",
   "metadata": {},
   "source": [
    "---\n",
    "---"
   ]
  },
  {
   "cell_type": "markdown",
   "metadata": {},
   "source": [
    "## Preparation"
   ]
  },
  {
   "cell_type": "markdown",
   "metadata": {},
   "source": [
    "Import the NumPy module in the standard way (prefix `np`)."
   ]
  },
  {
   "cell_type": "code",
   "execution_count": 2,
   "metadata": {},
   "outputs": [],
   "source": [
    "import numpy as np"
   ]
  },
  {
   "cell_type": "markdown",
   "metadata": {},
   "source": [
    "On the module platform you find data files of the form `pdl04dat_SID.txt` where `SID` is a three-digit student ID. Each file contains three timeseries of synthetic temperature measurements, provided for demonstrating the assignment *Functions of NumPy arrays*.\n",
    "\n",
    "- Identify the file `pdl04dat_SID.txt` with your personal student ID `SID`, then upload it to the working directory, i.e., the folder where this Jupyter notebook resides.\n",
    "- The files `pdl04dat_100.txt` and `pdl04sol_100.txt` are provided to demonstrate the assignment. Upload the two files also to the working directory."
   ]
  },
  {
   "cell_type": "markdown",
   "metadata": {},
   "source": [
    "## Assignment: NumPy arrays from Python lists [3]"
   ]
  },
  {
   "cell_type": "markdown",
   "metadata": {},
   "source": [
    "Complete the code cell below according to the instructions included as comments. In each case the resulting NumPy array and its `dtype` are to be displayed using the function `print()`."
   ]
  },
  {
   "cell_type": "code",
   "execution_count": 3,
   "metadata": {},
   "outputs": [
    {
     "name": "stdout",
     "output_type": "stream",
     "text": [
      "a01: [ 3  5  7 11  3  5  7 11  3  5  7 11] int64\n",
      "a02: [ 1  5  7 11  3  5  7 11  3  5  1 11] int64\n",
      "a03: [  3   5  -7  11   3  -5   7  11  -3   5   7 -11] int64\n",
      "a04: [ 3.  5.  7. 11.  3.  5.  7. 11.  3.  5.  7. 11.] float64\n"
     ]
    }
   ],
   "source": [
    "### Consider the following one-dimensional NumPy array of integers\n",
    "a01 = np.array(3*[3,5,7,11])\n",
    "print('a01:',a01,a01.dtype)\n",
    "### Create a copy a02 of a01 with the first and the second-last element changed to unity (integer 1).\n",
    "a02 = a01.copy()\n",
    "a02[0] = 1\n",
    "a02[-2] = 1\n",
    "print('a02:',a02,a02.dtype)\n",
    "### Create a copy a03 of a01, then apply striding to reverse the sign of every third element of a04.\n",
    "a03 = a01.copy()\n",
    "a03[2:12:3] = -a03[2:12:3]\n",
    "print('a03:',a03,a03.dtype)\n",
    "### Using np.array(), create a copy a04 of a01 but with entries of type float64.\n",
    "a04 = a01.copy()\n",
    "a04 = np.asfarray(a04)\n",
    "print('a04:',a04,a04.dtype)"
   ]
  },
  {
   "cell_type": "markdown",
   "metadata": {},
   "source": [
    "## Assignment: Multi-dimensional arrays [3]"
   ]
  },
  {
   "cell_type": "markdown",
   "metadata": {},
   "source": [
    "Complete the code cell below according to the instructions included as comments. In each case the resulting NumPy array is to be displayed using the function `print()`."
   ]
  },
  {
   "cell_type": "code",
   "execution_count": 4,
   "metadata": {},
   "outputs": [
    {
     "name": "stdout",
     "output_type": "stream",
     "text": [
      "[['a' 'b' 'c' 'd' 'e']\n",
      " ['f' 'g' 'h' 'i' 'j']\n",
      " ['k' 'l' 'm' 'n' 'o']]\n",
      "[['a' 'b' 'c' '1' 'e']\n",
      " ['f' 'g' 'h' '2' 'j']\n",
      " ['k' 'l' 'm' '3' 'o']]\n",
      "[['a' 'b' 'c' 'd' 'e']\n",
      " ['f' '4' '5' '6' 'j']\n",
      " ['k' 'l' 'm' 'n' 'o']]\n",
      "[['a' '7' 'c' '7' 'e']\n",
      " ['7' 'g' '7' 'i' '7']\n",
      " ['k' '7' 'm' '7' 'o']]\n"
     ]
    }
   ],
   "source": [
    "### Consider the following two-dimensional NumPy array of strings\n",
    "a05 = np.array(list('abcdefghijklmno')).reshape(3,5)\n",
    "print(a05)\n",
    "### Create a copy a06 of a05 and change the entries 'd','i','n' to '1','2','3'\n",
    "a06 = a05.copy()\n",
    "a06[0,3] = 1\n",
    "a06[1,3] = 2\n",
    "a06[2,3] = 3\n",
    "print(a06)\n",
    "### Create a copy a07 of a05 and change the entries 'g','h','i' to '4','5','6'\n",
    "a07 = a05.copy()\n",
    "a07[1,1] = 4\n",
    "a07[1,2] = 5\n",
    "a07[1,3] = 6\n",
    "print(a07)\n",
    "### In a05, replace every second character of the alphabet with '7'.\n",
    "a05 = a05.flatten() \n",
    "a05[1:14:2] = 7\n",
    "a05 = a05.reshape(3,5)\n",
    "print(a05)"
   ]
  },
  {
   "cell_type": "markdown",
   "metadata": {},
   "source": [
    "## Assignment: Uniform NumPy arrays and range expressions [4]"
   ]
  },
  {
   "cell_type": "markdown",
   "metadata": {},
   "source": [
    "Complete the code cell below according to the instructions included as comments. More specifically, replace the occurences of `42` with meaningful NumPy functions."
   ]
  },
  {
   "cell_type": "code",
   "execution_count": 5,
   "metadata": {},
   "outputs": [
    {
     "name": "stdout",
     "output_type": "stream",
     "text": [
      "[['Hi!' 'Hi!' 'Hi!' 'Hi!' 'Hi!' 'Hi!' 'Hi!']\n",
      " ['Hi!' 'Hi!' 'Hi!' 'Hi!' 'Hi!' 'Hi!' 'Hi!']]\n",
      "[[-999.9 -999.9 -999.9 -999.9 -999.9]\n",
      " [-999.9 -999.9 -999.9 -999.9 -999.9]\n",
      " [-999.9 -999.9 -999.9 -999.9 -999.9]]\n",
      "[23 20 17 14 11]\n",
      "[-2.3 -1.9 -1.5 -1.1]\n"
     ]
    }
   ],
   "source": [
    "### Using np.full(), print a uniform NumPy array of shape (2,7) filled with the string 'Hi!'.\n",
    "hi = np.full((2,7),('Hi!'))\n",
    "print(hi)\n",
    "### Using np.ones(), print a uniform NumPy array of shape (3,5) filled with the float -999.9.\n",
    "nine = -999.9 * np.ones((3,5))\n",
    "print(nine)\n",
    "### Using np.arange(), print the one-dimensional integer array [23,20,17,14,11] (in this order).\n",
    "two = np.arange(23,8,-3)\n",
    "print(two)\n",
    "### Using np.linspace(), print the one-dimensional floating-point array [-2.3,-1.9,-1.5,-1.1].\n",
    "lin = np.linspace(-2.3,-1.1,4)\n",
    "print(lin)"
   ]
  },
  {
   "cell_type": "markdown",
   "metadata": {},
   "source": [
    "## Assignment: Array filtering using boolean masks [4]"
   ]
  },
  {
   "cell_type": "markdown",
   "metadata": {},
   "source": [
    "Complete the code cell below according to the instructions included as comments. In each case the resulting NumPy array is to be displayed using the function `print()`."
   ]
  },
  {
   "cell_type": "code",
   "execution_count": 6,
   "metadata": {},
   "outputs": [
    {
     "name": "stdout",
     "output_type": "stream",
     "text": [
      "[[ 7  9 10  6  1]\n",
      " [ 1 -9 -3  6  2]\n",
      " [ 4  5 -1 -6  2]]\n",
      "[[False False False False False]\n",
      " [False False False False False]\n",
      " [False False False  True False]]\n",
      "[[ 7  9 10  6  1]\n",
      " [ 1 -9 -3  6  2]\n",
      " [ 4  5 -1 42  2]]\n"
     ]
    }
   ],
   "source": [
    "### Consider the following two-dimensional array of integer random numbers in the interval [0,10].\n",
    "a08 = -10 + np.random.randint(21,size=(3,5))\n",
    "print(a08)\n",
    "### Create a boolean mask indicating negative numbers.\n",
    "neg = a08 < 0\n",
    "### Create a boolean mask indicating even numbers (hint: module operator %).\n",
    "even = a08 % 2 == 0\n",
    "### Create a boolean mask indicating negative even numbers.\n",
    "neven = neg & even\n",
    "print(neven)\n",
    "### Replace negative even numbers with the integer 42.\n",
    "a08[neven] = 42\n",
    "print(a08)"
   ]
  },
  {
   "cell_type": "markdown",
   "metadata": {},
   "source": [
    "## Assignment: Functions of NumPy arrays [6]"
   ]
  },
  {
   "cell_type": "markdown",
   "metadata": {},
   "source": [
    "Consider the data files of the form `pdl04dat_SID.txt` where `SID` is a three-digit student ID. Each file contains timeseries of synthetic temperature measurements over one year at three stations A, B, and C in the second, third, and fourth column (column indices 1,2,3), respectively. The first column (index 0) contains a day counter."
   ]
  },
  {
   "cell_type": "markdown",
   "metadata": {},
   "source": [
    "Complete the code cell below according to the instructions included as comments. More specifically, replace the occurences of `42` with meaningful NumPy functions.\n",
    "\n",
    "- *Mean values of indiviual columms*: these are the annual means for the three stations A, B, C.\n",
    "- *Number of maxima within columns*: for each station X, this is the number of days when the temperature measured at X is the largest of all three stations. Hint: NumPy functions `argmax()` and `sum()`.\n",
    "- *Number of minima within columns*: for each station X, this is the number of days when the temperature measured at X is the smallest of all three stations. Hint: NumPy functions `argmin()` and `sum()`."
   ]
  },
  {
   "cell_type": "code",
   "execution_count": 8,
   "metadata": {},
   "outputs": [
    {
     "ename": "OSError",
     "evalue": "pdl04dat_334.txt not found.",
     "output_type": "error",
     "traceback": [
      "\u001b[0;31m---------------------------------------------------------------------------\u001b[0m",
      "\u001b[0;31mOSError\u001b[0m                                   Traceback (most recent call last)",
      "Input \u001b[0;32mIn [8]\u001b[0m, in \u001b[0;36m<cell line: 4>\u001b[0;34m()\u001b[0m\n\u001b[1;32m      2\u001b[0m SID \u001b[38;5;241m=\u001b[39m \u001b[38;5;241m334\u001b[39m\n\u001b[1;32m      3\u001b[0m \u001b[38;5;66;03m### Store all four columns of the file pdl04dat_SID.txt in the two-dimensional array data.\u001b[39;00m\n\u001b[0;32m----> 4\u001b[0m data \u001b[38;5;241m=\u001b[39m \u001b[43mnp\u001b[49m\u001b[38;5;241;43m.\u001b[39;49m\u001b[43mgenfromtxt\u001b[49m\u001b[43m(\u001b[49m\u001b[38;5;124;43m'\u001b[39;49m\u001b[38;5;124;43mpdl04dat_\u001b[39;49m\u001b[38;5;124;43m'\u001b[39;49m\u001b[38;5;241;43m+\u001b[39;49m\u001b[38;5;28;43mstr\u001b[39;49m\u001b[43m(\u001b[49m\u001b[43mSID\u001b[49m\u001b[43m)\u001b[49m\u001b[38;5;241;43m+\u001b[39;49m\u001b[38;5;124;43m'\u001b[39;49m\u001b[38;5;124;43m.txt\u001b[39;49m\u001b[38;5;124;43m'\u001b[39;49m\u001b[43m,\u001b[49m\u001b[43mskip_header\u001b[49m\u001b[38;5;241;43m=\u001b[39;49m\u001b[38;5;241;43m1\u001b[39;49m\u001b[43m)\u001b[49m\n\u001b[1;32m      5\u001b[0m \u001b[38;5;66;03m### Remove the first column of the two-dimensional array data.\u001b[39;00m\n\u001b[1;32m      6\u001b[0m data \u001b[38;5;241m=\u001b[39m data[:,\u001b[38;5;241m1\u001b[39m:]\n",
      "File \u001b[0;32m~/opt/anaconda3/lib/python3.9/site-packages/numpy/lib/npyio.py:1793\u001b[0m, in \u001b[0;36mgenfromtxt\u001b[0;34m(fname, dtype, comments, delimiter, skip_header, skip_footer, converters, missing_values, filling_values, usecols, names, excludelist, deletechars, replace_space, autostrip, case_sensitive, defaultfmt, unpack, usemask, loose, invalid_raise, max_rows, encoding, like)\u001b[0m\n\u001b[1;32m   1791\u001b[0m     fname \u001b[38;5;241m=\u001b[39m os_fspath(fname)\n\u001b[1;32m   1792\u001b[0m \u001b[38;5;28;01mif\u001b[39;00m \u001b[38;5;28misinstance\u001b[39m(fname, \u001b[38;5;28mstr\u001b[39m):\n\u001b[0;32m-> 1793\u001b[0m     fid \u001b[38;5;241m=\u001b[39m \u001b[43mnp\u001b[49m\u001b[38;5;241;43m.\u001b[39;49m\u001b[43mlib\u001b[49m\u001b[38;5;241;43m.\u001b[39;49m\u001b[43m_datasource\u001b[49m\u001b[38;5;241;43m.\u001b[39;49m\u001b[43mopen\u001b[49m\u001b[43m(\u001b[49m\u001b[43mfname\u001b[49m\u001b[43m,\u001b[49m\u001b[43m \u001b[49m\u001b[38;5;124;43m'\u001b[39;49m\u001b[38;5;124;43mrt\u001b[39;49m\u001b[38;5;124;43m'\u001b[39;49m\u001b[43m,\u001b[49m\u001b[43m \u001b[49m\u001b[43mencoding\u001b[49m\u001b[38;5;241;43m=\u001b[39;49m\u001b[43mencoding\u001b[49m\u001b[43m)\u001b[49m\n\u001b[1;32m   1794\u001b[0m     fid_ctx \u001b[38;5;241m=\u001b[39m contextlib\u001b[38;5;241m.\u001b[39mclosing(fid)\n\u001b[1;32m   1795\u001b[0m \u001b[38;5;28;01melse\u001b[39;00m:\n",
      "File \u001b[0;32m~/opt/anaconda3/lib/python3.9/site-packages/numpy/lib/_datasource.py:193\u001b[0m, in \u001b[0;36mopen\u001b[0;34m(path, mode, destpath, encoding, newline)\u001b[0m\n\u001b[1;32m    156\u001b[0m \u001b[38;5;124;03m\"\"\"\u001b[39;00m\n\u001b[1;32m    157\u001b[0m \u001b[38;5;124;03mOpen `path` with `mode` and return the file object.\u001b[39;00m\n\u001b[1;32m    158\u001b[0m \n\u001b[0;32m   (...)\u001b[0m\n\u001b[1;32m    189\u001b[0m \n\u001b[1;32m    190\u001b[0m \u001b[38;5;124;03m\"\"\"\u001b[39;00m\n\u001b[1;32m    192\u001b[0m ds \u001b[38;5;241m=\u001b[39m DataSource(destpath)\n\u001b[0;32m--> 193\u001b[0m \u001b[38;5;28;01mreturn\u001b[39;00m \u001b[43mds\u001b[49m\u001b[38;5;241;43m.\u001b[39;49m\u001b[43mopen\u001b[49m\u001b[43m(\u001b[49m\u001b[43mpath\u001b[49m\u001b[43m,\u001b[49m\u001b[43m \u001b[49m\u001b[43mmode\u001b[49m\u001b[43m,\u001b[49m\u001b[43m \u001b[49m\u001b[43mencoding\u001b[49m\u001b[38;5;241;43m=\u001b[39;49m\u001b[43mencoding\u001b[49m\u001b[43m,\u001b[49m\u001b[43m \u001b[49m\u001b[43mnewline\u001b[49m\u001b[38;5;241;43m=\u001b[39;49m\u001b[43mnewline\u001b[49m\u001b[43m)\u001b[49m\n",
      "File \u001b[0;32m~/opt/anaconda3/lib/python3.9/site-packages/numpy/lib/_datasource.py:533\u001b[0m, in \u001b[0;36mDataSource.open\u001b[0;34m(self, path, mode, encoding, newline)\u001b[0m\n\u001b[1;32m    530\u001b[0m     \u001b[38;5;28;01mreturn\u001b[39;00m _file_openers[ext](found, mode\u001b[38;5;241m=\u001b[39mmode,\n\u001b[1;32m    531\u001b[0m                               encoding\u001b[38;5;241m=\u001b[39mencoding, newline\u001b[38;5;241m=\u001b[39mnewline)\n\u001b[1;32m    532\u001b[0m \u001b[38;5;28;01melse\u001b[39;00m:\n\u001b[0;32m--> 533\u001b[0m     \u001b[38;5;28;01mraise\u001b[39;00m \u001b[38;5;167;01mIOError\u001b[39;00m(\u001b[38;5;124m\"\u001b[39m\u001b[38;5;132;01m%s\u001b[39;00m\u001b[38;5;124m not found.\u001b[39m\u001b[38;5;124m\"\u001b[39m \u001b[38;5;241m%\u001b[39m path)\n",
      "\u001b[0;31mOSError\u001b[0m: pdl04dat_334.txt not found."
     ]
    }
   ],
   "source": [
    "### Test the code with SID=100, then use your personal student ID for the final run of the notebook.\n",
    "SID = 334\n",
    "### Store all four columns of the file pdl04dat_SID.txt in the two-dimensional array data.\n",
    "data = np.genfromtxt('pdl04dat_'+str(SID)+'.txt',skip_header=1)\n",
    "### Remove the first column of the two-dimensional array data.\n",
    "data = data[:,1:]\n",
    "### Print: student ID and empty line.\n",
    "print('\\n')\n",
    "print('Student-ID: {}'.format(SID))\n",
    "print('\\n')\n",
    "#.. Print: mean values of individual columns.\n",
    "print('Station A, annual mean: {:7.3f}'.format(42))\n",
    "print('Station B, annual mean: {:7.3f}'.format(42))\n",
    "print('Station C, annual mean: {:7.3f}'.format(42))\n",
    "print('\\n')\n",
    "#.. Print: number of maxima within columns.\n",
    "print('Station A, number of maxima: {:3d}'.format(42))\n",
    "print('Station B, number of maxima: {:3d}'.format(42))\n",
    "print('Station C, number of maxima: {:3d}'.format(42))\n",
    "print('\\n')\n",
    "#.. Print: number of minima within columns.\n",
    "print('Station A, number of minima: {:3d}'.format(42))\n",
    "print('Station B, number of minima: {:3d}'.format(42))\n",
    "print('Station C, number of minima: {:3d}'.format(42))\n",
    "print('\\n')"
   ]
  },
  {
   "cell_type": "markdown",
   "metadata": {},
   "source": [
    "Here is the output that you should obtain for `SID = 100`, i.e., for the sample data file `pdl04dat_100.txt`."
   ]
  },
  {
   "cell_type": "code",
   "execution_count": 9,
   "metadata": {},
   "outputs": [
    {
     "name": "stdout",
     "output_type": "stream",
     "text": [
      "\n",
      "Student-ID: 100\n",
      "\n",
      "Station A, annual mean: 290.611\n",
      "Station B, annual mean: 290.326\n",
      "Station C, annual mean: 290.764\n",
      "\n",
      "Station A, number of maxima: 135\n",
      "Station B, number of maxima:  92\n",
      "Station C, number of maxima: 138\n",
      "\n",
      "Station A, number of minima: 131\n",
      "Station B, number of minima: 108\n",
      "Station C, number of minima: 126\n",
      "\n",
      "\n"
     ]
    }
   ],
   "source": [
    "f = open('pdl04sol_100.txt','r')\n",
    "smpout = f.read()\n",
    "f.close()\n",
    "print(smpout)"
   ]
  },
  {
   "cell_type": "markdown",
   "metadata": {},
   "source": [
    "---\n",
    "---"
   ]
  }
 ],
 "metadata": {
  "kernelspec": {
   "display_name": "Python 3 (ipykernel)",
   "language": "python",
   "name": "python3"
  },
  "language_info": {
   "codemirror_mode": {
    "name": "ipython",
    "version": 3
   },
   "file_extension": ".py",
   "mimetype": "text/x-python",
   "name": "python",
   "nbconvert_exporter": "python",
   "pygments_lexer": "ipython3",
   "version": "3.9.13"
  }
 },
 "nbformat": 4,
 "nbformat_minor": 4
}
