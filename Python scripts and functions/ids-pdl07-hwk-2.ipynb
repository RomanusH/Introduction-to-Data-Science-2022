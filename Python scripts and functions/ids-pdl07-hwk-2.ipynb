{
 "cells": [
  {
   "cell_type": "markdown",
   "metadata": {},
   "source": [
    "**ids-pdl07-hwk.ipynb**: This Jupyter notebook is provided by Joachim Vogt for the _Python Data Lab_ of the module _Introduction to Data Science_ offered in Fall 2022 at Jacobs University Bremen. Module instructors are Hilke Brockmann, Adalbert Wilhelm, and Joachim Vogt. Jupyter notebooks and other learning resources are available from a dedicated _module platform_."
   ]
  },
  {
   "cell_type": "markdown",
   "metadata": {},
   "source": [
    "# Homework assignments: Python scripts and functions"
   ]
  },
  {
   "cell_type": "markdown",
   "metadata": {},
   "source": [
    "The homework assignments in this notebook supplement the tutorial *Python scripts and functions*.\n",
    "\n",
    "- Solve the assignments according to the instructions.\n",
    "- Upload the completed notebook to the module platform.\n",
    "- Do not forget to enter your name in the markdown cell below.\n",
    "\n",
    "The homework set carries a total of 20 points. Square brackets in the assignment titles specify individual point contributions."
   ]
  },
  {
   "cell_type": "markdown",
   "metadata": {},
   "source": [
    "## Name: "
   ]
  },
  {
   "cell_type": "markdown",
   "metadata": {},
   "source": [
    "---\n",
    "---"
   ]
  },
  {
   "cell_type": "markdown",
   "metadata": {},
   "source": [
    "## Preparation"
   ]
  },
  {
   "cell_type": "markdown",
   "metadata": {},
   "source": [
    "Import the NumPy module in the standard way (prefix `np`). From the matplotlib library import the package `pyplot` using the standard abbreviation `plt`."
   ]
  },
  {
   "cell_type": "code",
   "execution_count": 2,
   "metadata": {},
   "outputs": [],
   "source": [
    "import numpy as np\n",
    "import matplotlib.pyplot as plt\n",
    "%matplotlib inline"
   ]
  },
  {
   "cell_type": "markdown",
   "metadata": {},
   "source": [
    "On the module platform you find data files of the form `pdl07dat_SID.txt` where `SID` is a three-digit student ID, containing a set of polynomial coefficients for two of the assignments below.\n",
    "\n",
    "- Identify the file `pdl07dat_SID.txt` with your personal student ID `SID`, then upload it to the working directory, i.e., the folder where this Jupyter notebook resides.\n",
    "- The data file `pdl07dat_100.txt` and a solution file `pdl07sol_100.svg` are provided to demonstrate the assignments. Upload the files also to the working directory."
   ]
  },
  {
   "cell_type": "markdown",
   "metadata": {},
   "source": [
    "## Assignment:  Differencing of discrete variables [5]"
   ]
  },
  {
   "cell_type": "markdown",
   "metadata": {},
   "source": [
    "The differencing operation can be applied to detect gaps in supposedly contiguous time series by taking the elements $t_0,t_1,t_2,...$ of the time array, and then check the differences $t_1-t_0,t_2-t_1,t_3-t_2,...$ for deviations from the nominal sampling time $\\Delta t$. The code in the cell below constructs a time array with three gaps that are to be detected. Complete the code according to the instructions given as comments."
   ]
  },
  {
   "cell_type": "code",
   "execution_count": 3,
   "metadata": {
    "scrolled": true
   },
   "outputs": [
    {
     "name": "stdout",
     "output_type": "stream",
     "text": [
      "Constructed gap time : 1.1\n",
      "Constructed gap time : 6.3\n",
      "Constructed gap time : 9.7\n",
      "\n",
      "Array of differences : [0.1 0.1 0.1 0.1 0.1 0.1 0.1 0.1 0.1 0.1 0.2 0.1 0.1 0.1 0.1 0.1 0.1 0.1\n",
      " 0.1 0.1 0.1 0.1 0.1 0.1 0.1 0.1 0.1 0.1 0.1 0.1 0.1 0.1 0.1 0.1 0.1 0.1\n",
      " 0.1 0.1 0.1 0.1 0.1 0.1 0.1 0.1 0.1 0.1 0.1 0.1 0.1 0.1 0.1 0.1 0.1 0.1\n",
      " 0.1 0.1 0.1 0.1 0.1 0.1 0.1 0.2 0.1 0.1 0.1 0.1 0.1 0.1 0.1 0.1 0.1 0.1\n",
      " 0.1 0.1 0.1 0.1 0.1 0.1 0.1 0.1 0.1 0.1 0.1 0.1 0.1 0.1 0.1 0.1 0.1 0.1\n",
      " 0.1 0.1 0.1 0.1 0.2 0.1 0.1 0.1 0.1 0.1 0.1 0.1 0.1 0.1 0.1 0.1 0.1 0.1\n",
      " 0.1 0.1 0.1 0.1 0.1 0.1 0.1 0.1]\n",
      "[False False False False False False False False False False  True False\n",
      " False False False False False False False False False False False False\n",
      " False False False False False False False False False False False False\n",
      " False False False False False False False False False False False False\n",
      " False False False False False False False False False False False False\n",
      " False  True False False False False False False False False False False\n",
      " False False False False False False False False False False False False\n",
      " False False False False False False False False False False  True False\n",
      " False False False False False False False False False False False False\n",
      " False False False False False False False False]\n",
      "[1.  6.2 9.6]\n",
      "Constructed gap time : 1.1\n",
      "Constructed gap time : 6.3\n",
      "Constructed gap time : 9.7\n"
     ]
    }
   ],
   "source": [
    "### Define time array.\n",
    "Tsam = 0.1              #.. sampling interval\n",
    "Tmax = 12.0             #.. end time of series \n",
    "Nt = int(Tmax/Tsam)+1   #.. nominal length\n",
    "\n",
    "### Construct time array t with three gaps.\n",
    "Nt12 = int(Nt/12)\n",
    "t = np.array([])\n",
    "for k in [0,4,8]:\n",
    "    igap = np.random.randint((k+1)*Nt12,(k+3)*Nt12)\n",
    "    print('Constructed gap time : {:.1f}'.format(Tsam*igap))\n",
    "    t = np.concatenate([t,np.arange(k*Nt12,igap),np.arange(igap+1,(k+4)*Nt12)])\n",
    "t = t*Tsam\n",
    "print()\n",
    "\n",
    "### Compute the array of differences dt.\n",
    "dt = t[1:] - t[:-1]\n",
    "print('Array of differences :', dt)\n",
    "### Create a boolean mask igaps with indices where dt is at least 50% larger than Tsam.\n",
    "igaps = (dt >= 1.5 * Tsam)\n",
    "print(igaps)\n",
    "### Create the array t_before_gaps listing the times immediately before the gaps.\n",
    "t_before_gaps_1 = [i for i, x in enumerate(igaps) if x]\n",
    "t_before_gaps = t[t_before_gaps_1]\n",
    "print(t_before_gaps)\n",
    "### Add Tsam to t_before_gaps to obtain the array t_gaps with the proper gap times.\n",
    "t_gaps = t_before_gaps + Tsam \n",
    "### Print the detected gap times in the same format as the constructed gap times.\n",
    "for x in (t_gaps):\n",
    "    if x >= 12.1:\n",
    "        break\n",
    "    print('Constructed gap time : {:.1f}'.format(x))\n"
   ]
  },
  {
   "cell_type": "markdown",
   "metadata": {},
   "source": [
    "## Assignment: Python scripts [4]"
   ]
  },
  {
   "cell_type": "markdown",
   "metadata": {},
   "source": [
    "Create a new file `detect_gaps.py` to store a Python script. Take the set of instructions from the previous assigment *Differencing of NumPy Arrays* and store it in the script file. Add the necessary imports to make your script self-contained. Save the file and run the script to check if everything works as expected."
   ]
  },
  {
   "cell_type": "code",
   "execution_count": 4,
   "metadata": {},
   "outputs": [
    {
     "ename": "SyntaxError",
     "evalue": "invalid syntax (detect_gaps.py, line 3)",
     "output_type": "error",
     "traceback": [
      "\u001b[0;36m  File \u001b[0;32m~/detect_gaps.py:3\u001b[0;36m\u001b[0m\n\u001b[0;31m    %matplotlib inline\u001b[0m\n\u001b[0m    ^\u001b[0m\n\u001b[0;31mSyntaxError\u001b[0m\u001b[0;31m:\u001b[0m invalid syntax\n"
     ]
    }
   ],
   "source": [
    "run detect_gaps"
   ]
  },
  {
   "cell_type": "markdown",
   "metadata": {},
   "source": [
    "## Assignment: Python functions [4]"
   ]
  },
  {
   "cell_type": "markdown",
   "metadata": {},
   "source": [
    "Consider a polynomial in the canonical power series representation\n",
    "$$\n",
    "p(x) \\; = \\; C_0 + C_1 x + C_2 x^2 + \\ldots + C_N x^N \\; = \\; \\sum_{k=0}^N C_k x^k ~.\n",
    "$$\n",
    "The parameters $C_0,C_1,C_2,...$ are called polynomial coefficients. Since the derivative is given by\n",
    "$$\n",
    "p'(x) \\; = \\; C_1 + 2 C_2 x^2 + \\ldots + N C_N x^{N-1} \\; = \\; \\sum_{k=0}^{N-1} (k+1) C_{k+1} x^k ~,\n",
    "$$\n",
    "the coefficients $D_0,D_1,D_2,...$ in its canonical power series representation \n",
    "$$\n",
    "p'(x) \\; = \\; D_0 + D_1 x + D_2 x^2 + \\ldots + D_{N-1} x^{N-1} \\; = \\; \\sum_{k=0}^{N-1} D_k x^k\n",
    "$$\n",
    "are related to the coefficients $C_0,C_1,C_2,...$ through the formula\n",
    "$$\n",
    "D_k \\; = \\; (k+1) \\, C_{k+1} ~,~ k = 0,1,2,...,N-1 ~.\n",
    "$$"
   ]
  },
  {
   "cell_type": "markdown",
   "metadata": {},
   "source": [
    "In the code cell below, you find an incomplete Python function `polyderiv()`, accepting (on input) a list of the coefficients $C_0,C_1,...,C_N$ stored in the variable `coef`, and returning (as output) a list of the coefficients $D_0,D_1,...,D_{N-1}$. Complete the function `polyderiv()` and also the function calls in the Python code below by replacing `42` with correct variable names and instructions. Run the cell to check if you obtain the same results as the NumPy function `Polynomial.deriv()`. Note that the polynomial coefficients are read from the file `pdl07dat_SID.txt` where `SID` is your personal three-digit student ID."
   ]
  },
  {
   "cell_type": "code",
   "execution_count": 47,
   "metadata": {},
   "outputs": [
    {
     "ename": "OSError",
     "evalue": "pdl07dat_100.txt not found.",
     "output_type": "error",
     "traceback": [
      "\u001b[0;31m---------------------------------------------------------------------------\u001b[0m",
      "\u001b[0;31mOSError\u001b[0m                                   Traceback (most recent call last)",
      "Input \u001b[0;32mIn [47]\u001b[0m, in \u001b[0;36m<cell line: 22>\u001b[0;34m()\u001b[0m\n\u001b[1;32m     19\u001b[0m pdl07dat_\u001b[38;5;241m=\u001b[39m(\u001b[38;5;124m\"\u001b[39m\u001b[38;5;124mpersonal student ID\u001b[39m\u001b[38;5;124m\"\u001b[39m)\n\u001b[1;32m     21\u001b[0m \u001b[38;5;66;03m### Read from a file the coefficients of the polynomial p = p(x).\u001b[39;00m\n\u001b[0;32m---> 22\u001b[0m p0coef \u001b[38;5;241m=\u001b[39m \u001b[43mnp\u001b[49m\u001b[38;5;241;43m.\u001b[39;49m\u001b[43mloadtxt\u001b[49m\u001b[43m(\u001b[49m\u001b[38;5;124;43m'\u001b[39;49m\u001b[38;5;124;43mpdl07dat_\u001b[39;49m\u001b[38;5;124;43m'\u001b[39;49m\u001b[38;5;241;43m+\u001b[39;49m\u001b[38;5;28;43mstr\u001b[39;49m\u001b[43m(\u001b[49m\u001b[43mSID\u001b[49m\u001b[43m)\u001b[49m\u001b[38;5;241;43m+\u001b[39;49m\u001b[38;5;124;43m'\u001b[39;49m\u001b[38;5;124;43m.txt\u001b[39;49m\u001b[38;5;124;43m'\u001b[39;49m\u001b[43m)\u001b[49m\n\u001b[1;32m     23\u001b[0m \u001b[38;5;28mprint\u001b[39m(\u001b[38;5;124m'\u001b[39m\u001b[38;5;124mPolynomial coefficients : \u001b[39m\u001b[38;5;124m'\u001b[39m,p0coef)\n\u001b[1;32m     24\u001b[0m \u001b[38;5;28mprint\u001b[39m()\n",
      "File \u001b[0;32m~/opt/anaconda3/lib/python3.9/site-packages/numpy/lib/npyio.py:1067\u001b[0m, in \u001b[0;36mloadtxt\u001b[0;34m(fname, dtype, comments, delimiter, converters, skiprows, usecols, unpack, ndmin, encoding, max_rows, like)\u001b[0m\n\u001b[1;32m   1065\u001b[0m     fname \u001b[38;5;241m=\u001b[39m os_fspath(fname)\n\u001b[1;32m   1066\u001b[0m \u001b[38;5;28;01mif\u001b[39;00m _is_string_like(fname):\n\u001b[0;32m-> 1067\u001b[0m     fh \u001b[38;5;241m=\u001b[39m \u001b[43mnp\u001b[49m\u001b[38;5;241;43m.\u001b[39;49m\u001b[43mlib\u001b[49m\u001b[38;5;241;43m.\u001b[39;49m\u001b[43m_datasource\u001b[49m\u001b[38;5;241;43m.\u001b[39;49m\u001b[43mopen\u001b[49m\u001b[43m(\u001b[49m\u001b[43mfname\u001b[49m\u001b[43m,\u001b[49m\u001b[43m \u001b[49m\u001b[38;5;124;43m'\u001b[39;49m\u001b[38;5;124;43mrt\u001b[39;49m\u001b[38;5;124;43m'\u001b[39;49m\u001b[43m,\u001b[49m\u001b[43m \u001b[49m\u001b[43mencoding\u001b[49m\u001b[38;5;241;43m=\u001b[39;49m\u001b[43mencoding\u001b[49m\u001b[43m)\u001b[49m\n\u001b[1;32m   1068\u001b[0m     fencoding \u001b[38;5;241m=\u001b[39m \u001b[38;5;28mgetattr\u001b[39m(fh, \u001b[38;5;124m'\u001b[39m\u001b[38;5;124mencoding\u001b[39m\u001b[38;5;124m'\u001b[39m, \u001b[38;5;124m'\u001b[39m\u001b[38;5;124mlatin1\u001b[39m\u001b[38;5;124m'\u001b[39m)\n\u001b[1;32m   1069\u001b[0m     fh \u001b[38;5;241m=\u001b[39m \u001b[38;5;28miter\u001b[39m(fh)\n",
      "File \u001b[0;32m~/opt/anaconda3/lib/python3.9/site-packages/numpy/lib/_datasource.py:193\u001b[0m, in \u001b[0;36mopen\u001b[0;34m(path, mode, destpath, encoding, newline)\u001b[0m\n\u001b[1;32m    156\u001b[0m \u001b[38;5;124;03m\"\"\"\u001b[39;00m\n\u001b[1;32m    157\u001b[0m \u001b[38;5;124;03mOpen `path` with `mode` and return the file object.\u001b[39;00m\n\u001b[1;32m    158\u001b[0m \n\u001b[0;32m   (...)\u001b[0m\n\u001b[1;32m    189\u001b[0m \n\u001b[1;32m    190\u001b[0m \u001b[38;5;124;03m\"\"\"\u001b[39;00m\n\u001b[1;32m    192\u001b[0m ds \u001b[38;5;241m=\u001b[39m DataSource(destpath)\n\u001b[0;32m--> 193\u001b[0m \u001b[38;5;28;01mreturn\u001b[39;00m \u001b[43mds\u001b[49m\u001b[38;5;241;43m.\u001b[39;49m\u001b[43mopen\u001b[49m\u001b[43m(\u001b[49m\u001b[43mpath\u001b[49m\u001b[43m,\u001b[49m\u001b[43m \u001b[49m\u001b[43mmode\u001b[49m\u001b[43m,\u001b[49m\u001b[43m \u001b[49m\u001b[43mencoding\u001b[49m\u001b[38;5;241;43m=\u001b[39;49m\u001b[43mencoding\u001b[49m\u001b[43m,\u001b[49m\u001b[43m \u001b[49m\u001b[43mnewline\u001b[49m\u001b[38;5;241;43m=\u001b[39;49m\u001b[43mnewline\u001b[49m\u001b[43m)\u001b[49m\n",
      "File \u001b[0;32m~/opt/anaconda3/lib/python3.9/site-packages/numpy/lib/_datasource.py:533\u001b[0m, in \u001b[0;36mDataSource.open\u001b[0;34m(self, path, mode, encoding, newline)\u001b[0m\n\u001b[1;32m    530\u001b[0m     \u001b[38;5;28;01mreturn\u001b[39;00m _file_openers[ext](found, mode\u001b[38;5;241m=\u001b[39mmode,\n\u001b[1;32m    531\u001b[0m                               encoding\u001b[38;5;241m=\u001b[39mencoding, newline\u001b[38;5;241m=\u001b[39mnewline)\n\u001b[1;32m    532\u001b[0m \u001b[38;5;28;01melse\u001b[39;00m:\n\u001b[0;32m--> 533\u001b[0m     \u001b[38;5;28;01mraise\u001b[39;00m \u001b[38;5;167;01mIOError\u001b[39;00m(\u001b[38;5;124m\"\u001b[39m\u001b[38;5;132;01m%s\u001b[39;00m\u001b[38;5;124m not found.\u001b[39m\u001b[38;5;124m\"\u001b[39m \u001b[38;5;241m%\u001b[39m path)\n",
      "\u001b[0;31mOSError\u001b[0m: pdl07dat_100.txt not found."
     ]
    }
   ],
   "source": [
    "def polyderiv(coef):\n",
    "    '''\n",
    "    Compute the coefficients of a polynomial derivative.\n",
    "    Arguments\n",
    "    * coef  : list of polynomial coefficients (in ascending order).\n",
    "    On return\n",
    "    * dcoef  : list of coefficients of polynomial derivative.\n",
    "    '''\n",
    "    ### Using a list comprehension, compute coefficients dcoef.\n",
    "    dcoef = 42\n",
    "    return dcoef\n",
    "\n",
    "### Required imports.\n",
    "import numpy as np\n",
    "from numpy.polynomial import Polynomial\n",
    "\n",
    "### Test the code with SID=100, then use your personal student ID for the final run of the notebook.\n",
    "SID = 100\n",
    "pdl07dat_=(\"personal student ID\")\n",
    "\n",
    "### Read from a file the coefficients of the polynomial p = p(x).\n",
    "p0coef = np.loadtxt('pdl07dat_'+str(SID)+'.txt')\n",
    "print('Polynomial coefficients : ',p0coef)\n",
    "print()\n",
    "\n",
    "### Create the polynomial object p0 using NumPy's function Polynomial().\n",
    "p0 = Polynomial(p0coef)\n",
    "print('Polynomial p(x) : ')\n",
    "display(p0)\n",
    "print()\n",
    "\n",
    "### Compute coefficients of the first derivative.\n",
    "p1coef = polyderiv(42)\n",
    "print(\"First derivative p'(x) from own function polyderiv() : \")\n",
    "p1 = Polynomial(p1coef)\n",
    "display(p1)\n",
    "print(\"First derivative p'(x) from NumPy's Polynomial.deriv() : \")\n",
    "display(p0.deriv(m=1))\n",
    "print()\n",
    "\n",
    "### Compute coefficients of the second derivative.\n",
    "p2coef = polyderiv(42)\n",
    "print(\"Second derivative p''(x) from own function polyderiv() : \")\n",
    "display(Polynomial(p2coef))\n",
    "print(\"Second derivative p''(x) from NumPy's Polynomial.deriv() : \")\n",
    "display(p0.deriv(m=2))"
   ]
  },
  {
   "cell_type": "markdown",
   "metadata": {},
   "source": [
    "## Assignment: Function imports [7]"
   ]
  },
  {
   "cell_type": "markdown",
   "metadata": {},
   "source": [
    "Suppose an ordinary function $f = f(x)$ is approximated by discrete values $f_0,f_1,f_2,\\ldots$ on an equidistant numerical grid with grid spacing $\\Delta x$. Using centered finite differences, the second derivative $f''(x) = \\frac{\\mathrm{d}^2 f}{\\mathrm{d} x^2}$ is approximated in the interior of the numerical grid by the values\n",
    "$$\n",
    "f^{\\ast\\ast}_j \\; = \\; \\frac{f_{j+1}-2f_j+f_{j-1}}{(\\Delta x)^2} ~,~ j=1,2,\\ldots ~.\n",
    "$$\n",
    "This finite differencing approximation of the second derivative is implemented in function `eqdistdif2()` below."
   ]
  },
  {
   "cell_type": "code",
   "execution_count": null,
   "metadata": {},
   "outputs": [],
   "source": [
    "def eqdistdif2(f,deltax=1):\n",
    "    '''\n",
    "    Centered differencing approximation of the second derivative \n",
    "    for the interior points of an equidistant grid.\n",
    "    Arguments\n",
    "    * f       : grid function.\n",
    "    Keyword arguments\n",
    "    * deltax  : grid spacing.\n",
    "    On return\n",
    "    * d2fodx2 : approximation of the second derivative.\n",
    "    '''\n",
    "    d2f = f[2:] - 2*f[1:-1] + f[:-2]\n",
    "    d2fodx2 = d2f/(deltax**2)\n",
    "    return d2fodx2"
   ]
  },
  {
   "cell_type": "markdown",
   "metadata": {},
   "source": [
    "Create a module file named `eqd2.py` containing this function `eqdistdif2()` together with the two functions `eqdistgrid()` and `eqdistdif1()` from the associated tutorial notebook. Complete the code in the following cell to produce a graphics in the same format as the one shown below for the sample set of coefficients (`SID=100`).\n",
    "\n",
    "![](pdl07sol_100.svg)\n",
    "\n",
    "Using the polynomial coefficients read from the file `pdl07dat_SID.txt` where `SID` is your personal three-digit student ID, run the complete code in the following cell to check if the module file `eqd2.py` was correctly created and saved."
   ]
  },
  {
   "cell_type": "code",
   "execution_count": null,
   "metadata": {},
   "outputs": [],
   "source": [
    "### Test the code with SID=100, then use your personal student ID for the final run of the notebook.\n",
    "SID = 100\n",
    "\n",
    "### Required imports.\n",
    "import numpy as np\n",
    "from numpy.polynomial import Polynomial\n",
    "import matplotlib.pyplot as plt\n",
    "import eqd2\n",
    "\n",
    "### Read from a file the coefficients of the polynomial p = p(x).\n",
    "p0coef = np.loadtxt('pdl07dat_'+str(SID)+'.txt')\n",
    "print('Polynomial coefficients : ',p0coef)\n",
    "print()\n",
    "\n",
    "### Open a figure object with three subplots.\n",
    "fig,axs = plt.subplots(1,3,figsize=(12,5))\n",
    "\n",
    "### Define numerical grid xgrd and its interior xint.\n",
    "xgrd = eqd2.eqdistgrid(-5,11,deltax=1)\n",
    "xint = xgrd[1:-1]\n",
    "\n",
    "### Define an additional finely resolved grid only for line plots.\n",
    "xplt = np.linspace(-5,5,101)\n",
    "\n",
    "### Left plot panel: polynomial p(x).\n",
    "p0obj = Polynomial(p0coef)\n",
    "axs[0].plot(xplt,p0obj(xplt),'b:',label='Polynomial')\n",
    "### Add here the command to plot the grid function.\n",
    "axs[0].set_title('Student-ID: {}'.format(SID))\n",
    "axs[0].set_xlim((-5,5))\n",
    "### Add grid and legend.\n",
    "\n",
    "### Center plot panel: first derivative p'(x).\n",
    "p1num = eqd2.eqdistdif1(p0obj(xgrd),deltax=1)\n",
    "axs[1].plot(xplt,p0obj.deriv(m=1)(xplt),'g:')\n",
    "axs[1].plot(xint,p0obj.deriv(m=1)(xint),'g+',label='Analytical derivative')\n",
    "### Add here the plot of the numerical first derivative.\n",
    "axs[1].set_title('First derivative')\n",
    "axs[1].set_xlabel('Numerical grid coordinate x')\n",
    "axs[1].set_xlim((-5,5))\n",
    "### Add grid and legend.\n",
    "\n",
    "### Right plot panel: second derivative p''(x).\n",
    "p2num = eqd2.eqdistdif2(p0obj(xgrd),deltax=1)\n",
    "### Add here the line plot (green, dotted) of the analytical second derivative.\n",
    "axs[2].plot(xint,p0obj.deriv(m=2)(xint),'g+',label='Analytical derivative')\n",
    "### Add here the plot of the numerical second derivative.\n",
    "axs[2].set_title('Second derivative')\n",
    "axs[2].set_xlim((-5,5))\n",
    "### Add grid and legend.\n",
    "\n",
    "### Save figure to svg file.\n",
    "#fig.savefig('pdl07sol_'+str(SID)+'.svg')"
   ]
  },
  {
   "cell_type": "markdown",
   "metadata": {},
   "source": [
    "---\n",
    "---"
   ]
  }
 ],
 "metadata": {
  "kernelspec": {
   "display_name": "Python 3 (ipykernel)",
   "language": "python",
   "name": "python3"
  },
  "language_info": {
   "codemirror_mode": {
    "name": "ipython",
    "version": 3
   },
   "file_extension": ".py",
   "mimetype": "text/x-python",
   "name": "python",
   "nbconvert_exporter": "python",
   "pygments_lexer": "ipython3",
   "version": "3.9.13"
  }
 },
 "nbformat": 4,
 "nbformat_minor": 4
}
