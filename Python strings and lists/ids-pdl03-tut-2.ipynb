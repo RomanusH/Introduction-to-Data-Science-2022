{
 "cells": [
  {
   "cell_type": "markdown",
   "metadata": {},
   "source": [
    "**ids-pdl03-tut.ipynb**: This Jupyter notebook is provided by Joachim Vogt for the _Python Data Lab_ of the module _Introduction to Data Science_ offered in Fall 2022 at Jacobs University Bremen. Module instructors are Hilke Brockmann, Adalbert Wilhelm, and Joachim Vogt. Jupyter notebooks and other learning resources are available from a dedicated _module platform_."
   ]
  },
  {
   "cell_type": "markdown",
   "metadata": {},
   "source": [
    "# Python strings and lists"
   ]
  },
  {
   "cell_type": "markdown",
   "metadata": {},
   "source": [
    "This tutorial continues the discussion of Python data types and introduces important built-in data structures. Follow the instruction below to learn about\n",
    "\n",
    "- [ ] string variables,\n",
    "- [ ] type conversion,\n",
    "- [ ] lists and tuples,\n",
    "- [ ] dictionaries,\n",
    "- [ ] file input and output.\n",
    "\n",
    "If you wish to keep track of your progress, you may edit this markdown cell, check a box in the list above after having worked through the respective part of this notebook, and save the file.\n",
    "\n",
    "*Short exercises* are embedded in this notebook. *Sample solutions* can be found at the end of the document."
   ]
  },
  {
   "cell_type": "markdown",
   "metadata": {},
   "source": [
    "Documentation and online resources:\n",
    "- The Python programming language is documented at [Python.org](https://www.python.org) maintained by the Python Software Foundation (PSF)."
   ]
  },
  {
   "cell_type": "markdown",
   "metadata": {},
   "source": [
    "## Preparation"
   ]
  },
  {
   "cell_type": "markdown",
   "metadata": {},
   "source": [
    "The following data file is expected to reside in the working directory. Identify the file on the module platform and upload it to the same folder as this Jupyter notebook.\n",
    "\n",
    "- `gdp-per-capita-in-us-dollar-world-bank.csv`: GDP per capita in constant 2010 US dollars 1960-2020, published by the [World Bank, 2021-07-30](http://data.worldbank.org/data-catalog/world-development-indicators), available from [Our World in Data](https://ourworldindata.org/grapher/gdp-per-capita-in-us-dollar-world-bank)."
   ]
  },
  {
   "cell_type": "markdown",
   "metadata": {},
   "source": [
    "## Introduction to Python strings"
   ]
  },
  {
   "cell_type": "markdown",
   "metadata": {},
   "source": [
    "To familiarize with the concept of string variables, let us start with simple examples. A sequence of characters delimited by single quotes (`'Beeblebrox'`) constitutes a Python string that is then assigned to the variable `lastname`."
   ]
  },
  {
   "cell_type": "code",
   "execution_count": 1,
   "metadata": {},
   "outputs": [
    {
     "name": "stdout",
     "output_type": "stream",
     "text": [
      "Beeblebrox\n"
     ]
    }
   ],
   "source": [
    "lastname = 'Beeblebrox'\n",
    "print(lastname)"
   ]
  },
  {
   "cell_type": "markdown",
   "metadata": {},
   "source": [
    "A set of dedicated functions is associated with string variables, e.g., `count()` to check how often a certain substring occurs in a string, `capitalize()` to make the first letter a capital, `upper()` and `lower()` to convert a string to uppercase and lowercase, respectively. Try tab completion (`lastname.<Tab>`) to obtain a list of functions associated with this variable type."
   ]
  },
  {
   "cell_type": "code",
   "execution_count": 2,
   "metadata": {},
   "outputs": [],
   "source": [
    "#Tab completion: Uncomment the following line and press the <Tab> key after the period\n",
    "#lastname."
   ]
  },
  {
   "cell_type": "markdown",
   "metadata": {},
   "source": [
    "In the following code cell, uncomment individual lines to select a function and observe the output."
   ]
  },
  {
   "cell_type": "code",
   "execution_count": 3,
   "metadata": {},
   "outputs": [],
   "source": [
    "#print(lastname.count('eb'))\n",
    "#print(lastname.upper())\n",
    "#print(lastname.lower())\n",
    "#print(lastname.lower().capitalize())\n",
    "#print(lastname.replace('e','a'))"
   ]
  },
  {
   "cell_type": "markdown",
   "metadata": {},
   "source": [
    "Strings are concatentated using the `+` operator."
   ]
  },
  {
   "cell_type": "code",
   "execution_count": 4,
   "metadata": {},
   "outputs": [
    {
     "name": "stdout",
     "output_type": "stream",
     "text": [
      "Zaphod Beeblebrox\n"
     ]
    }
   ],
   "source": [
    "firstname = 'Zaphod'\n",
    "fullname = firstname + ' ' + lastname\n",
    "print(fullname)"
   ]
  },
  {
   "cell_type": "markdown",
   "metadata": {},
   "source": [
    "Individual letters are addressed by specifying its position (index) in square brackets. In Python, the first position is at index 0."
   ]
  },
  {
   "cell_type": "code",
   "execution_count": 5,
   "metadata": {},
   "outputs": [
    {
     "name": "stdout",
     "output_type": "stream",
     "text": [
      "p\n"
     ]
    }
   ],
   "source": [
    "print(fullname[2])"
   ]
  },
  {
   "cell_type": "markdown",
   "metadata": {},
   "source": [
    "Substrings can extracted through *slicing*, i.e., by specifying ranges of indices separated by a colon `:` as follows. Note that in Python, `[m:n]` gives the range from `m` to `n-1` (i.e., `n` is not included)."
   ]
  },
  {
   "cell_type": "code",
   "execution_count": 6,
   "metadata": {},
   "outputs": [
    {
     "name": "stdout",
     "output_type": "stream",
     "text": [
      "pho\n"
     ]
    }
   ],
   "source": [
    "print(fullname[2:5])"
   ]
  },
  {
   "cell_type": "markdown",
   "metadata": {},
   "source": [
    "Negative indices refer to the end of a string."
   ]
  },
  {
   "cell_type": "code",
   "execution_count": 7,
   "metadata": {},
   "outputs": [
    {
     "name": "stdout",
     "output_type": "stream",
     "text": [
      "x\n",
      "ebr\n"
     ]
    }
   ],
   "source": [
    "print(fullname[-1])\n",
    "print(fullname[-5:-2])"
   ]
  },
  {
   "cell_type": "markdown",
   "metadata": {},
   "source": [
    "## String variables"
   ]
  },
  {
   "cell_type": "markdown",
   "metadata": {},
   "source": [
    "Strings are character sequences and enclosed by single quotes, double quotes, or triple quotes. The Python string type is `str`."
   ]
  },
  {
   "cell_type": "code",
   "execution_count": 8,
   "metadata": {},
   "outputs": [
    {
     "name": "stdout",
     "output_type": "stream",
     "text": [
      "This string is defined using single quotes.\n",
      "<class 'str'>\n",
      "This string is defined using double quotes.\n",
      "<class 'str'>\n",
      "This string is defined using triple quotes.\n",
      "<class 'str'>\n"
     ]
    }
   ],
   "source": [
    "sq = 'This string is defined using single quotes.'\n",
    "print(sq)\n",
    "print(type(sq))\n",
    "dq = \"This string is defined using double quotes.\"\n",
    "print(dq)\n",
    "print(type(dq))\n",
    "tq = '''This string is defined using triple quotes.'''\n",
    "print(tq)\n",
    "print(type(tq))"
   ]
  },
  {
   "cell_type": "markdown",
   "metadata": {},
   "source": [
    "String variables containing single quotes or double quotes may be delimited with the other type of quote, or with triple quotes."
   ]
  },
  {
   "cell_type": "code",
   "execution_count": 9,
   "metadata": {},
   "outputs": [
    {
     "name": "stdout",
     "output_type": "stream",
     "text": [
      "What's the question?\n",
      "She asked, \"What's the question?\"\n"
     ]
    }
   ],
   "source": [
    "question = \"What's the question?\"\n",
    "print(question)\n",
    "sentence = '''She asked, \"What's the question?\"'''\n",
    "print(sentence)"
   ]
  },
  {
   "cell_type": "markdown",
   "metadata": {},
   "source": [
    "Not only quotes deserve special attention, also the backslash `\\`, allowing for multi-line definition of strings as follows."
   ]
  },
  {
   "cell_type": "code",
   "execution_count": 10,
   "metadata": {},
   "outputs": [
    {
     "name": "stdout",
     "output_type": "stream",
     "text": [
      "Dichlorodifluoromethane\n"
     ]
    }
   ],
   "source": [
    "CCl2F2 = 'Dichloro\\\n",
    "difluoro\\\n",
    "methane'\n",
    "print(CCl2F2)"
   ]
  },
  {
   "cell_type": "markdown",
   "metadata": {},
   "source": [
    "Special characters like quotes or the backslash are considered in Python strings by means of _escape sequences_, e.g., `\\'` for a single quote, and `\\\\` for the backslash."
   ]
  },
  {
   "cell_type": "code",
   "execution_count": 11,
   "metadata": {},
   "outputs": [
    {
     "name": "stdout",
     "output_type": "stream",
     "text": [
      "What's the question?\n",
      "a\\b\n"
     ]
    }
   ],
   "source": [
    "question = 'What\\'s the question?'\n",
    "print(question)\n",
    "ab = 'a\\\\b'\n",
    "print(ab)"
   ]
  },
  {
   "cell_type": "markdown",
   "metadata": {},
   "source": [
    "Further examples of escape sequences are `\\n` (newline), `\\t` (tab), `\\b` (backspace), `\\r` (return). In the following code cell, uncomment individual lines to select a function and observe the output."
   ]
  },
  {
   "cell_type": "code",
   "execution_count": 12,
   "metadata": {},
   "outputs": [],
   "source": [
    "#print('a\\\\b')\n",
    "#print('a\\b')\n",
    "#print('a\\tb')\n",
    "#print('a\\nb')"
   ]
  },
  {
   "cell_type": "markdown",
   "metadata": {},
   "source": [
    "Numerical values can be incorporated in Python strings using the `format()` function. "
   ]
  },
  {
   "cell_type": "code",
   "execution_count": 13,
   "metadata": {},
   "outputs": [
    {
     "name": "stdout",
     "output_type": "stream",
     "text": [
      "The number pi is 3.14159265.\n"
     ]
    }
   ],
   "source": [
    "a = 3.14159265\n",
    "str1 = 'The number pi is {}.'.format(a)\n",
    "print(str1)"
   ]
  },
  {
   "cell_type": "markdown",
   "metadata": {},
   "source": [
    "The numerical value of the function argument is inserted at the position of the curly braces `{}`. The output can be controled using format identifiers such as `.4f` producing a four-digit number."
   ]
  },
  {
   "cell_type": "code",
   "execution_count": 14,
   "metadata": {},
   "outputs": [
    {
     "name": "stdout",
     "output_type": "stream",
     "text": [
      "The number pi is 3.1416.\n"
     ]
    }
   ],
   "source": [
    "a = 3.14159265359\n",
    "str2 = 'The number pi is {:.4f}.'.format(a)\n",
    "print(str2)"
   ]
  },
  {
   "cell_type": "markdown",
   "metadata": {},
   "source": [
    "Here is an example with several arguments. "
   ]
  },
  {
   "cell_type": "code",
   "execution_count": 15,
   "metadata": {},
   "outputs": [
    {
     "name": "stdout",
     "output_type": "stream",
     "text": [
      "The numbers pi and e are 3.1416 and 2.7183, respectively.\n"
     ]
    }
   ],
   "source": [
    "a = 3.14159265359\n",
    "b = 2.71828182846\n",
    "str3 = 'The numbers pi and e are {pi:.4f} and {e:.4f}, respectively.'.format(pi=a,e=b)\n",
    "print(str3)"
   ]
  },
  {
   "cell_type": "markdown",
   "metadata": {},
   "source": [
    "### Exercise: String variables"
   ]
  },
  {
   "cell_type": "markdown",
   "metadata": {},
   "source": [
    "Inspect the following Python strings. Predict the output and double-check your assessment by uncommenting the line with respective `print()` function."
   ]
  },
  {
   "cell_type": "code",
   "execution_count": 16,
   "metadata": {},
   "outputs": [],
   "source": [
    "### Example 01\n",
    "str01 = 'jonathan' + ' ' + 'swift'\n",
    "#print(str01)\n",
    "### Example 02\n",
    "str02 = 'jonathan'.capitalize() + ' ' + 'swift'.upper()\n",
    "#print(str02)\n",
    "### Example 03\n",
    "str03 = \"Gulliver's \" + 'Travels'\n",
    "#print(str03)\n",
    "### Example 04\n",
    "str04 = str02 + ': ' + str03\n",
    "#print(str04)\n",
    "### Example 05\n",
    "str05 = 'm\\nq'\n",
    "#print(str05)\n",
    "### Example 06\n",
    "str06 = 'm\\\\nq'\n",
    "#print(str06)\n",
    "### Example 07\n",
    "str07 = 'm\\\n",
    "nq'\n",
    "#print(str07)\n",
    "### Example 08\n",
    "a = 4\n",
    "p = 3\n",
    "str08 = '{}**{} gives {}.'.format(a,p,a**p)\n",
    "#print(str08)\n",
    "### Example 09\n",
    "str09 = 'The product of {x} and {y} is {z}.'.format(z=a*p,x=p,y=a)\n",
    "#print(str09)\n",
    "import math\n",
    "### Example 10\n",
    "str10 = 'The result of exp(-1) is {:.4f}.'.format(math.exp(-1))\n",
    "#print(str10)"
   ]
  },
  {
   "cell_type": "markdown",
   "metadata": {},
   "source": [
    "## Conversion of scalar data types"
   ]
  },
  {
   "cell_type": "markdown",
   "metadata": {},
   "source": [
    "The function `format()` can be used to turn a number into a string. "
   ]
  },
  {
   "cell_type": "code",
   "execution_count": 17,
   "metadata": {},
   "outputs": [
    {
     "data": {
      "text/plain": [
       "'2.718281828'"
      ]
     },
     "execution_count": 17,
     "metadata": {},
     "output_type": "execute_result"
    }
   ],
   "source": [
    "'{}'.format(2.718281828)"
   ]
  },
  {
   "cell_type": "markdown",
   "metadata": {},
   "source": [
    "More directly, such a type conversion is done by the function `str()`."
   ]
  },
  {
   "cell_type": "code",
   "execution_count": 18,
   "metadata": {},
   "outputs": [
    {
     "data": {
      "text/plain": [
       "'2.718281828'"
      ]
     },
     "execution_count": 18,
     "metadata": {},
     "output_type": "execute_result"
    }
   ],
   "source": [
    "str(2.718281828)"
   ]
  },
  {
   "cell_type": "markdown",
   "metadata": {},
   "source": [
    "Strings containing numbers must be converted to a numerical data type before meaningful operations can be performed. Conversion from string to integer is accomplished by means of the function `int()`."
   ]
  },
  {
   "cell_type": "code",
   "execution_count": 19,
   "metadata": {},
   "outputs": [
    {
     "name": "stdout",
     "output_type": "stream",
     "text": [
      "s1=3, s2=4, s1+s1=34\n",
      "n1=3, n2=4, n1+n1=7\n"
     ]
    }
   ],
   "source": [
    "s1 = '3'\n",
    "s2 = '4'\n",
    "print('s1={}, s2={}, s1+s1={}'.format(s1,s2,s1+s2))\n",
    "n1 = int(s1)\n",
    "n2 = int(s2)\n",
    "print('n1={}, n2={}, n1+n1={}'.format(n1,n2,n1+n2))"
   ]
  },
  {
   "cell_type": "markdown",
   "metadata": {},
   "source": [
    "The function `float()` converts to floating-point numbers."
   ]
  },
  {
   "cell_type": "code",
   "execution_count": 20,
   "metadata": {},
   "outputs": [
    {
     "name": "stdout",
     "output_type": "stream",
     "text": [
      "s1=3.2, s2=4.3, s1+s1=3.24.3\n",
      "n1=3.2, n2=4.3, n1+n1=7.5\n"
     ]
    }
   ],
   "source": [
    "s1 = '3.2'\n",
    "s2 = '4.3'\n",
    "print('s1={}, s2={}, s1+s1={}'.format(s1,s2,s1+s2))\n",
    "n1 = float(s1)\n",
    "n2 = float(s2)\n",
    "print('n1={}, n2={}, n1+n1={}'.format(n1,n2,n1+n2))"
   ]
  },
  {
   "cell_type": "markdown",
   "metadata": {},
   "source": [
    "One may also convert integers to floating-point numbers. In the reverse direction, the digits are cut off."
   ]
  },
  {
   "cell_type": "code",
   "execution_count": 21,
   "metadata": {},
   "outputs": [
    {
     "name": "stdout",
     "output_type": "stream",
     "text": [
      "i1=3    : float(i1)=3.0\n",
      "f2=4.3  : int(f2)=4\n",
      "f3=-4.3 : int(f3)=-4\n"
     ]
    }
   ],
   "source": [
    "i1 = 3\n",
    "print('i1={}    : float(i1)={}'.format(i1,float(i1)))\n",
    "f2 = 4.3\n",
    "print('f2={}  : int(f2)={}'.format(f2,int(f2)))\n",
    "f3 = -4.3\n",
    "print('f3={} : int(f3)={}'.format(f3,int(f3)))"
   ]
  },
  {
   "cell_type": "markdown",
   "metadata": {},
   "source": [
    "### Exercise: Type conversion"
   ]
  },
  {
   "cell_type": "markdown",
   "metadata": {},
   "source": [
    "Complete the code cell below according to the instructions included as comments."
   ]
  },
  {
   "cell_type": "code",
   "execution_count": 22,
   "metadata": {},
   "outputs": [],
   "source": [
    "### Define two large integers differing by a small number\n",
    "i1 = 12345678901234567890\n",
    "i2 = 12345678901234567891\n",
    "### Compute and print the difference of integers i1 and i2. \n",
    "\n",
    "### Convert integers i1 and i2 to floats f1 and f2, respectively.\n",
    "\n",
    "### Compute and print the difference of floats i1 and i2.\n",
    "\n",
    "### Define three string variables containing floating-point numbers.\n",
    "\n",
    "### Convert s3, s4, s5 to floats and print the results.\n"
   ]
  },
  {
   "cell_type": "markdown",
   "metadata": {},
   "source": [
    "## Python lists"
   ]
  },
  {
   "cell_type": "markdown",
   "metadata": {},
   "source": [
    "Python lists are collections of objects of possibly different types. Lists are enclosed in square brackets `[...]`."
   ]
  },
  {
   "cell_type": "code",
   "execution_count": 23,
   "metadata": {},
   "outputs": [],
   "source": [
    "lst1 = [2,'three',4,5.6]"
   ]
  },
  {
   "cell_type": "markdown",
   "metadata": {},
   "source": [
    "Like strings, lists can be concatentated using the `+` operator."
   ]
  },
  {
   "cell_type": "code",
   "execution_count": 24,
   "metadata": {},
   "outputs": [
    {
     "name": "stdout",
     "output_type": "stream",
     "text": [
      "[2, 'three', 4, 5.6, 'seven', 8.9, 10]\n"
     ]
    }
   ],
   "source": [
    "lst2 = ['seven',8.9,10]\n",
    "lst3 = lst1 + lst2\n",
    "print(lst3)"
   ]
  },
  {
   "cell_type": "markdown",
   "metadata": {},
   "source": [
    "The number of elements in a list is returned by the function `len()`."
   ]
  },
  {
   "cell_type": "code",
   "execution_count": 25,
   "metadata": {},
   "outputs": [
    {
     "name": "stdout",
     "output_type": "stream",
     "text": [
      "Number of elements in lst1: 4\n",
      "Number of elements in lst2: 3\n",
      "Number of elements in lst3: 7\n"
     ]
    }
   ],
   "source": [
    "print('Number of elements in lst1: {}'.format(len(lst1)))\n",
    "print('Number of elements in lst2: {}'.format(len(lst2)))\n",
    "print('Number of elements in lst3: {}'.format(len(lst3)))"
   ]
  },
  {
   "cell_type": "markdown",
   "metadata": {},
   "source": [
    "Individual elements in lists can be selected using its index, analogous to individual characters in strings. In Python, the element at the first position is at index 0."
   ]
  },
  {
   "cell_type": "code",
   "execution_count": 26,
   "metadata": {},
   "outputs": [
    {
     "name": "stdout",
     "output_type": "stream",
     "text": [
      "List     : [2, 'three', 4, 5.6, 'seven', 8.9, 10]\n",
      "Position : 5\n",
      "Index    : 4\n",
      "Element  : seven\n",
      "Type     : <class 'str'>\n"
     ]
    }
   ],
   "source": [
    "print('List     :',lst3)\n",
    "pos = 5\n",
    "print('Position : {}'.format(pos))\n",
    "ind = pos-1\n",
    "print('Index    : {}'.format(ind))\n",
    "elem = lst3[ind]\n",
    "print('Element  : {}'.format(elem))\n",
    "print('Type     : {}'.format(type(elem)))"
   ]
  },
  {
   "cell_type": "markdown",
   "metadata": {},
   "source": [
    "This selection mechanism works also for ranges of the form `m:n`, addressing list elements from index `m` to index `n-1` (i.e., index `n` is not included). This is called (list) *slicing*."
   ]
  },
  {
   "cell_type": "code",
   "execution_count": 27,
   "metadata": {},
   "outputs": [
    {
     "name": "stdout",
     "output_type": "stream",
     "text": [
      "Complete list lst3      : [2, 'three', 4, 5.6, 'seven', 8.9, 10]\n",
      "Partial  list lst3[2:5] : [4, 5.6, 'seven']\n"
     ]
    }
   ],
   "source": [
    "m = 2\n",
    "n = 5\n",
    "print('Complete list lst3      :',lst3)\n",
    "print('Partial  list lst3[{}:{}] :'.format(m,n),lst3[m:n])"
   ]
  },
  {
   "cell_type": "markdown",
   "metadata": {},
   "source": [
    "The form `:n` (omission of first index) is equivalent to `0:n`. The form `m:` (omission of the second index) is equivalent to `m:n` where `n` is the length of the list (total number of list elements)."
   ]
  },
  {
   "cell_type": "code",
   "execution_count": 28,
   "metadata": {},
   "outputs": [
    {
     "name": "stdout",
     "output_type": "stream",
     "text": [
      "Complete list lst3     : [2, 'three', 4, 5.6, 'seven', 8.9, 10]\n",
      "Partial  list lst3[:4] : [2, 'three', 4, 5.6]\n",
      "Partial  list lst3[2:] : [4, 5.6, 'seven', 8.9, 10]\n"
     ]
    }
   ],
   "source": [
    "m = 2\n",
    "n = 4\n",
    "print('Complete list lst3     :',lst3)\n",
    "print('Partial  list lst3[:{}] :'.format(n),lst3[:n])\n",
    "print('Partial  list lst3[{}:] :'.format(m),lst3[m:])"
   ]
  },
  {
   "cell_type": "markdown",
   "metadata": {},
   "source": [
    "Negative indices refer to the end of a string."
   ]
  },
  {
   "cell_type": "code",
   "execution_count": 29,
   "metadata": {},
   "outputs": [
    {
     "name": "stdout",
     "output_type": "stream",
     "text": [
      "Complete list lst3     : [2, 'three', 4, 5.6, 'seven', 8.9, 10]\n",
      "Partial  list lst3[:-2] : [2, 'three', 4, 5.6, 'seven']\n",
      "Partial  list lst3[-4:] : [5.6, 'seven', 8.9, 10]\n"
     ]
    }
   ],
   "source": [
    "m = -4\n",
    "n = -2\n",
    "print('Complete list lst3     :',lst3)\n",
    "print('Partial  list lst3[:{}] :'.format(n),lst3[:n])\n",
    "print('Partial  list lst3[{}:] :'.format(m),lst3[m:])"
   ]
  },
  {
   "cell_type": "markdown",
   "metadata": {},
   "source": [
    "Adding a third index yields *strides*: `m:n:s`. E.g., to select every second element starting at the second position (index 1), one may write `1:7:2` or simply `1::2`."
   ]
  },
  {
   "cell_type": "code",
   "execution_count": 30,
   "metadata": {},
   "outputs": [
    {
     "name": "stdout",
     "output_type": "stream",
     "text": [
      "Complete list lst3        : [2, 'three', 4, 5.6, 'seven', 8.9, 10]\n",
      "Partial  list lst3[1:7:2] : ['three', 5.6, 8.9]\n",
      "Partial  list lst3[1::2]  : ['three', 5.6, 8.9]\n"
     ]
    }
   ],
   "source": [
    "m = 1\n",
    "n = 7\n",
    "s = 2\n",
    "print('Complete list lst3        :',lst3)\n",
    "print('Partial  list lst3[{}:{}:{}] :'.format(m,n,s),lst3[m:n:s])\n",
    "print('Partial  list lst3[{}::{}]  :'.format(m,s),lst3[m::s])"
   ]
  },
  {
   "cell_type": "markdown",
   "metadata": {},
   "source": [
    "Unlike tuples discussed below, lists are mutable objects, i.e., their entries can be changed, even to an object of a different type"
   ]
  },
  {
   "cell_type": "code",
   "execution_count": 31,
   "metadata": {},
   "outputs": [
    {
     "name": "stdout",
     "output_type": "stream",
     "text": [
      "lst4 : ['two', 3, 4.2, 5]\n",
      "lst4 : ['two', 3, 4.2, 'five']\n"
     ]
    }
   ],
   "source": [
    "lst4 = ['two',3,4.2,5]\n",
    "print('lst4 :',lst4)\n",
    "lst4[3] = 'five'\n",
    "print('lst4 :',lst4)"
   ]
  },
  {
   "cell_type": "markdown",
   "metadata": {},
   "source": [
    "Another notable property of lists concerns assignments to another variable. Instead of an independent copy, a so-called _view_ is produced, i.e., a second reference to the same object. Manipulating the underlying object through operations on either of the two variables affects both of them. "
   ]
  },
  {
   "cell_type": "code",
   "execution_count": 32,
   "metadata": {},
   "outputs": [
    {
     "name": "stdout",
     "output_type": "stream",
     "text": [
      "lst5 : ['cat', 'dog']\n",
      "lst6 : ['mouse', 'dog']\n",
      "lst5 : ['mouse', 'dog']\n"
     ]
    }
   ],
   "source": [
    "lst5 = ['cat','dog']\n",
    "print('lst5 :',lst5)\n",
    "lst6 = lst5\n",
    "lst6[0] = 'mouse'\n",
    "print('lst6 :',lst6)\n",
    "print('lst5 :',lst5)"
   ]
  },
  {
   "cell_type": "markdown",
   "metadata": {},
   "source": [
    "To create an independent copy of a list that can be manipulated independently, use the `copy()` method."
   ]
  },
  {
   "cell_type": "code",
   "execution_count": 33,
   "metadata": {},
   "outputs": [
    {
     "name": "stdout",
     "output_type": "stream",
     "text": [
      "lst5 : ['cat', 'dog']\n",
      "lst6 : ['mouse', 'dog']\n",
      "lst5 : ['cat', 'dog']\n"
     ]
    }
   ],
   "source": [
    "lst5 = ['cat','dog']\n",
    "print('lst5 :',lst5)\n",
    "lst6 = lst5.copy()\n",
    "lst6[0] = 'mouse'\n",
    "print('lst6 :',lst6)\n",
    "print('lst5 :',lst5)"
   ]
  },
  {
   "cell_type": "markdown",
   "metadata": {},
   "source": [
    "Tuples are like lists but immutable, i.e., their entries cannot be changed after definition. Tuples are enclosed in round parentheses while their entries are referenced using square brackets."
   ]
  },
  {
   "cell_type": "code",
   "execution_count": 34,
   "metadata": {},
   "outputs": [
    {
     "name": "stdout",
     "output_type": "stream",
     "text": [
      "(1, 2) <class 'tuple'>\n",
      "tpl[1] = 2\n"
     ]
    }
   ],
   "source": [
    "tpl = (1,2)\n",
    "print(tpl,type(tpl))\n",
    "print('tpl[1] = {}'.format(tpl[1]))"
   ]
  },
  {
   "cell_type": "markdown",
   "metadata": {},
   "source": [
    "Uncomment the instruction in the code cell below to obtain an error message showing that tuples are immutable."
   ]
  },
  {
   "cell_type": "code",
   "execution_count": 35,
   "metadata": {},
   "outputs": [],
   "source": [
    "#tpl[1] = 3"
   ]
  },
  {
   "cell_type": "markdown",
   "metadata": {},
   "source": [
    "### Exercise: Python lists"
   ]
  },
  {
   "cell_type": "markdown",
   "metadata": {},
   "source": [
    "Complete the code cell below according to the instructions included as comments."
   ]
  },
  {
   "cell_type": "code",
   "execution_count": 36,
   "metadata": {},
   "outputs": [
    {
     "name": "stdout",
     "output_type": "stream",
     "text": [
      "['Hi!', 7.3, 'Hello!', 123.45, 1.2345e+32, 1024, 'Guten Tag!', 18446744073709551615]\n"
     ]
    }
   ],
   "source": [
    "### Define a sample Python list with elements of different types.\n",
    "mylist = ['Hi!',7.3,'Hello!',1.2345e2,1.2345e32,1024,'Guten Tag!',2**64-1]\n",
    "print(mylist)\n",
    "### Apply list slicing to extract and print a list with the second, third, and fourth element.\n",
    "\n",
    "### Apply list slicing to extract and print a list with the first, third, and fifth element.\n",
    "\n",
    "### Create an independent copy of the list and exchange the third element with 'Bonjour!'\n"
   ]
  },
  {
   "cell_type": "markdown",
   "metadata": {},
   "source": [
    "## Dictionaries"
   ]
  },
  {
   "cell_type": "markdown",
   "metadata": {},
   "source": [
    "Python dictionaries are data structures mapping key to values, i.e., they consist of key:value pairs. Depending on the Python version, these associative arrays may be ordered or unordered. The following illustrate example may be understood as a data base for different types of fruit."
   ]
  },
  {
   "cell_type": "code",
   "execution_count": 37,
   "metadata": {},
   "outputs": [
    {
     "name": "stdout",
     "output_type": "stream",
     "text": [
      "Dictionary :  {'Apples': 19, 'Bananas': 13, 'Oranges': 17, 'Pears': 11}\n"
     ]
    }
   ],
   "source": [
    "DictOfFruits = {'Apples':19,'Bananas':13,'Oranges':17,'Pears':11}\n",
    "print('Dictionary : ',DictOfFruits)"
   ]
  },
  {
   "cell_type": "markdown",
   "metadata": {},
   "source": [
    "Keys and values can be accessed separately."
   ]
  },
  {
   "cell_type": "code",
   "execution_count": 38,
   "metadata": {},
   "outputs": [
    {
     "name": "stdout",
     "output_type": "stream",
     "text": [
      "Keys       :  dict_keys(['Apples', 'Bananas', 'Oranges', 'Pears'])\n",
      "Values     :  dict_values([19, 13, 17, 11])\n"
     ]
    }
   ],
   "source": [
    "print('Keys       : ',DictOfFruits.keys())\n",
    "print('Values     : ',DictOfFruits.values())"
   ]
  },
  {
   "cell_type": "markdown",
   "metadata": {},
   "source": [
    "Items are pairs in the form of (key,value) tuples."
   ]
  },
  {
   "cell_type": "code",
   "execution_count": 39,
   "metadata": {},
   "outputs": [
    {
     "name": "stdout",
     "output_type": "stream",
     "text": [
      "Items      :  dict_items([('Apples', 19), ('Bananas', 13), ('Oranges', 17), ('Pears', 11)])\n"
     ]
    }
   ],
   "source": [
    "print('Items      : ',DictOfFruits.items())"
   ]
  },
  {
   "cell_type": "markdown",
   "metadata": {},
   "source": [
    "Individual entries (values and items) are indexed by keys."
   ]
  },
  {
   "cell_type": "code",
   "execution_count": 40,
   "metadata": {},
   "outputs": [
    {
     "name": "stdout",
     "output_type": "stream",
     "text": [
      "17\n"
     ]
    }
   ],
   "source": [
    "print(DictOfFruits['Oranges'])"
   ]
  },
  {
   "cell_type": "markdown",
   "metadata": {},
   "source": [
    "## Reading and writing files"
   ]
  },
  {
   "cell_type": "markdown",
   "metadata": {},
   "source": [
    "String and type conversion operations are useful when dealing with data files. Here we consider files organized in sequential records or lines, and illustrate file operations using data on three cities in Northern Germany."
   ]
  },
  {
   "cell_type": "code",
   "execution_count": 41,
   "metadata": {},
   "outputs": [],
   "source": [
    "header = 'City,Area[km2],Altitude[m]'\n",
    "line01 = 'Bremen,318.21,11'\n",
    "line02 = 'Hannover,204.3,55'\n",
    "line03 = 'Oldenburg,103.09,5'"
   ]
  },
  {
   "cell_type": "markdown",
   "metadata": {},
   "source": [
    "Consult the Python documentation on the functions `open()`, `writelines()`, `close()`, and study the following set of instructions. A new data file `cities.txt` is opened for writing (`w`), then the header is written, followed by the three data records. Note that except for the last record (end of file or EOF), the newline character `\\n` must be appended so that subsequent lines are separated in the data file. Check your working directory to verify that the file has been created."
   ]
  },
  {
   "cell_type": "code",
   "execution_count": 42,
   "metadata": {},
   "outputs": [],
   "source": [
    "fout = open('cities.txt','w')\n",
    "fout.writelines(header+'\\n')\n",
    "fout.writelines(line01+'\\n')\n",
    "fout.writelines(line02+'\\n')\n",
    "fout.writelines(line03)\n",
    "fout.close()"
   ]
  },
  {
   "cell_type": "markdown",
   "metadata": {},
   "source": [
    "In a similar manner, such a file can be read so that its content becomes available in Python. The function `read()` puts all content into a single string."
   ]
  },
  {
   "cell_type": "code",
   "execution_count": 43,
   "metadata": {},
   "outputs": [
    {
     "data": {
      "text/plain": [
       "'City,Area[km2],Altitude[m]\\nBremen,318.21,11\\nHannover,204.3,55\\nOldenburg,103.09,5'"
      ]
     },
     "execution_count": 43,
     "metadata": {},
     "output_type": "execute_result"
    }
   ],
   "source": [
    "fin = open('cities.txt','r')\n",
    "content = fin.read()\n",
    "fin.close()\n",
    "content"
   ]
  },
  {
   "cell_type": "markdown",
   "metadata": {},
   "source": [
    "Applying the function `split()` with the newline character `\\n` as its argument gives a list of strings, each corresponding to one line from the data file. This is equivalent to using the function `splitlines()`."
   ]
  },
  {
   "cell_type": "code",
   "execution_count": null,
   "metadata": {},
   "outputs": [],
   "source": [
    "lines = content.split('\\n')\n",
    "#lines = content.splitlines()\n",
    "print(lines,type(lines))"
   ]
  },
  {
   "cell_type": "markdown",
   "metadata": {},
   "source": [
    "Each line can now be processed further to extract information."
   ]
  },
  {
   "cell_type": "code",
   "execution_count": null,
   "metadata": {},
   "outputs": [],
   "source": [
    "BremenRecord = lines[1].split(',')\n",
    "BremenArea = float(BremenRecord[1])\n",
    "print('Bremen area [km2]: {}'.format(BremenArea))"
   ]
  },
  {
   "cell_type": "markdown",
   "metadata": {},
   "source": [
    "The above data file example is primarily meant to illustrate basic string and list processing. To read (load) and write (save, store) specific file formats, numerous convenience functions exist in popular modules such as NumPy and pandas to facilitate file input and output."
   ]
  },
  {
   "cell_type": "markdown",
   "metadata": {},
   "source": [
    "### Exercise: File handling"
   ]
  },
  {
   "cell_type": "markdown",
   "metadata": {},
   "source": [
    "Using the functions `open()` and `read()` as described above, load the contents of the file `gdp-per-capita-in-us-dollar-world-bank.csv`. Using the function `count()`, display how often the strings `'Australia'`, `'Bhutan'`, `'Canada'``'Denmark'`, `'Ecuador'`, `'Fiji'`, and `'Gambia'` show up in the data file."
   ]
  },
  {
   "cell_type": "code",
   "execution_count": null,
   "metadata": {
    "scrolled": true
   },
   "outputs": [],
   "source": []
  },
  {
   "cell_type": "markdown",
   "metadata": {},
   "source": [
    "---\n",
    "---"
   ]
  },
  {
   "cell_type": "markdown",
   "metadata": {},
   "source": [
    "## Solutions to the exercises"
   ]
  },
  {
   "cell_type": "markdown",
   "metadata": {},
   "source": [
    "### Solution: String variables"
   ]
  },
  {
   "cell_type": "code",
   "execution_count": null,
   "metadata": {},
   "outputs": [],
   "source": [
    "### Example 01\n",
    "str01 = 'jonathan' + ' ' + 'swift'\n",
    "print(str01)\n",
    "### Example 02\n",
    "str02 = 'jonathan'.capitalize() + ' ' + 'swift'.upper()\n",
    "print(str02)\n",
    "### Example 03\n",
    "str03 = \"Gulliver's \" + 'Travels'\n",
    "print(str03)\n",
    "### Example 04\n",
    "str04 = str02 + ': ' + str03\n",
    "print(str04)\n",
    "### Example 05\n",
    "str05 = 'm\\nq'\n",
    "print(str05)\n",
    "### Example 06\n",
    "str06 = 'm\\\\nq'\n",
    "print(str06)\n",
    "### Example 07\n",
    "str07 = 'm\\\n",
    "nq'\n",
    "print(str07)\n",
    "### Example 08\n",
    "a = 4\n",
    "p = 3\n",
    "str08 = '{}**{} gives {}.'.format(a,p,a**p)\n",
    "print(str08)\n",
    "### Example 09\n",
    "str09 = 'The product of {x} and {y} is {z}.'.format(z=a*p,x=p,y=a)\n",
    "print(str09)\n",
    "import math\n",
    "### Example 10\n",
    "str10 = 'The result of exp(-1) is {:.4f}.'.format(math.exp(-1))\n",
    "print(str10)"
   ]
  },
  {
   "cell_type": "markdown",
   "metadata": {},
   "source": [
    "### Solution: Type conversion"
   ]
  },
  {
   "cell_type": "code",
   "execution_count": null,
   "metadata": {},
   "outputs": [],
   "source": [
    "### Define two large integers differing by a small number\n",
    "i1 = 12345678901234567890\n",
    "i2 = 12345678901234567891\n",
    "### Compute and print the difference of integers i1 and i2. \n",
    "print('i2-i1 : {}'.format(i2-i1))\n",
    "### Convert integers i1 and i2 to floats f1 and f2, respectively.\n",
    "f1 = float(i1)\n",
    "f2 = float(i2)\n",
    "### Compute and print the difference of floats i1 and i2.\n",
    "print('f2-f1 : {}'.format(f2-f1))\n",
    "### Define three string variables containing floating-point numbers.\n",
    "s3 = '8.3'\n",
    "s4 = '5.14e3'\n",
    "s5 = '9.22e-2'\n",
    "### Convert s3, s4, s5 to floats and print the results.\n",
    "f3 = float(s3)\n",
    "print('f3 = {}'.format(f3))\n",
    "f4 = float(s4)\n",
    "print('f4 = {}'.format(f4))\n",
    "f5 = float(s5)\n",
    "print('f5 = {}'.format(f5))"
   ]
  },
  {
   "cell_type": "markdown",
   "metadata": {},
   "source": [
    "### Solution: Python lists"
   ]
  },
  {
   "cell_type": "code",
   "execution_count": null,
   "metadata": {},
   "outputs": [],
   "source": [
    "### Define a sample Python list with elements of different types.\n",
    "mylist = ['Hi!',7.3,'Hello!',1.2345e2,1.2345e32,1024,'Guten Tag!',2**64-1]\n",
    "print(mylist)\n",
    "### Apply list slicing to extract and print a list with the second, third, and fourth element.\n",
    "print(mylist[1:4])\n",
    "### Apply list slicing to extract and print a list with the first, third, and fifth element.\n",
    "print(mylist[:5:2])\n",
    "### Create an independent copy of the list and exchange the third element with 'Bonjour!'\n",
    "newlist = mylist.copy()\n",
    "newlist[2] = 'Bonjour!'\n",
    "print(newlist)"
   ]
  },
  {
   "cell_type": "markdown",
   "metadata": {},
   "source": [
    "### Solution: File handling"
   ]
  },
  {
   "cell_type": "code",
   "execution_count": null,
   "metadata": {},
   "outputs": [],
   "source": [
    "fin = open('gdp-per-capita-in-us-dollar-world-bank.csv','r')\n",
    "content = fin.read()\n",
    "fin.close()\n",
    "country = 'Australia'\n",
    "print(\"Number of occurences of the string \\'{}\\' : {}\".format(country,content.count(country)))\n",
    "country = 'Bhutan'\n",
    "print(\"Number of occurences of the string \\'{}\\' : {}\".format(country,content.count(country)))\n",
    "country = 'Canada'\n",
    "print(\"Number of occurences of the string \\'{}\\' : {}\".format(country,content.count(country)))\n",
    "country = 'Denmark'\n",
    "print(\"Number of occurences of the string \\'{}\\' : {}\".format(country,content.count(country)))\n",
    "country = 'Ecuador'\n",
    "print(\"Number of occurences of the string \\'{}\\' : {}\".format(country,content.count(country)))\n",
    "country = 'Fiji'\n",
    "print(\"Number of occurences of the string \\'{}\\' : {}\".format(country,content.count(country)))\n",
    "country = 'Gambia'\n",
    "print(\"Number of occurences of the string \\'{}\\' : {}\".format(country,content.count(country)))"
   ]
  },
  {
   "cell_type": "markdown",
   "metadata": {},
   "source": [
    "---\n",
    "---"
   ]
  }
 ],
 "metadata": {
  "kernelspec": {
   "display_name": "Python 3 (ipykernel)",
   "language": "python",
   "name": "python3"
  },
  "language_info": {
   "codemirror_mode": {
    "name": "ipython",
    "version": 3
   },
   "file_extension": ".py",
   "mimetype": "text/x-python",
   "name": "python",
   "nbconvert_exporter": "python",
   "pygments_lexer": "ipython3",
   "version": "3.9.13"
  }
 },
 "nbformat": 4,
 "nbformat_minor": 4
}
