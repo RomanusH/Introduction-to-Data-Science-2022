{
 "cells": [
  {
   "cell_type": "markdown",
   "metadata": {},
   "source": [
    "**ids-pdl05-hwk.ipynb**: This Jupyter notebook is provided by Joachim Vogt for the _Python Data Lab_ of the module _Introduction to Data Science_ offered in Fall 2022 at Jacobs University Bremen. Module instructors are Hilke Brockmann, Adalbert Wilhelm, and Joachim Vogt. Jupyter notebooks and other learning resources are available from a dedicated _module platform_."
   ]
  },
  {
   "cell_type": "markdown",
   "metadata": {},
   "source": [
    "# Homework assignments: Matplotlib basics"
   ]
  },
  {
   "cell_type": "markdown",
   "metadata": {},
   "source": [
    "The homework assignments in this notebook supplement the tutorial *Matplotlib basics*.\n",
    "\n",
    "- Solve the assignments according to the instructions.\n",
    "- Upload the completed notebook to the module platform.\n",
    "- Do not forget to enter your name in the markdown cell below.\n",
    "\n",
    "The homework set carries a total of 20 points. Square brackets in the assignment titles specify individual point contributions."
   ]
  },
  {
   "cell_type": "markdown",
   "metadata": {},
   "source": [
    "## Name: Hikmat Vugarli"
   ]
  },
  {
   "cell_type": "markdown",
   "metadata": {},
   "source": [
    "---\n",
    "---"
   ]
  },
  {
   "cell_type": "markdown",
   "metadata": {},
   "source": [
    "## Preparation"
   ]
  },
  {
   "cell_type": "markdown",
   "metadata": {},
   "source": [
    "Import the NumPy module in the standard way (prefix `np`). From the matplotlib library import the package `pyplot` using the standard abbreviation `plt`."
   ]
  },
  {
   "cell_type": "code",
   "execution_count": 2,
   "metadata": {},
   "outputs": [],
   "source": [
    "import numpy as np\n",
    "import matplotlib.pyplot as plt\n"
   ]
  },
  {
   "cell_type": "markdown",
   "metadata": {},
   "source": [
    "On the module platform you find data files of the form `pdl05dat_SID.txt` where `SID` is a three-digit student ID, containing the data for the assignments below.\n",
    "\n",
    "- Identify the file `pdl05dat_SID.txt` with your personal student ID `SID`, then upload it to the working directory, i.e., the folder where this Jupyter notebook resides.\n",
    "- The data file `pdl05dat_100.txt` and its solution files `pdl05num_100.txt`, `pdl05lin_100.svg`, `pdl05mul_100.svg`, and `pdl05img_100.png` are provided to demonstrate the assignment. Upload the files also to the working directory."
   ]
  },
  {
   "cell_type": "markdown",
   "metadata": {},
   "source": [
    "## Assignment:  Loading numerical data from regular text files [5]"
   ]
  },
  {
   "cell_type": "markdown",
   "metadata": {},
   "source": [
    "The data file `pdl05dat_SID.txt` contains a two-dimensional array (81 rows and 201 columns) of integer values in the range from 0 to 255 (8 bit). Using the NumPy function `loadtxt()`, read the content of `pdl05dat_SID.txt` into the data matrix `data`. Construct a one-dimensional array `rmean` containing the row means (obtained by averaging along `axis=0`). Compute and print the maximum, the minimum, and the corresponding indices of the vector `rmean`."
   ]
  },
  {
   "cell_type": "code",
   "execution_count": 8,
   "metadata": {},
   "outputs": [
    {
     "name": "stdout",
     "output_type": "stream",
     "text": [
      "Student-ID: 100\n",
      "\n",
      "Maximum of rows means : 254.0\n",
      "Index at maximum      : 27\n",
      "\n",
      "Minimum of rows means : 25.0\n",
      "Index at minimum      : 12\n"
     ]
    }
   ],
   "source": [
    "### Test the code with SID=100, then use your personal student ID for the final run of the notebook.\n",
    "SID = 100\n",
    "print('Student-ID:',SID)\n",
    "### Using np.loadtxt(), load the content of pdl05dat_SID.txt into the matrix data.\n",
    "alldata = np.loadtxt('pdl05dat_'+str(SID)+'.txt')\n",
    "### Construct a one-dimensional array rmean containing the row means (obtained by averaging along axis=0).\n",
    "rmean = alldata[0,:]\n",
    "### Compute and print the maximum and the corresponding index of rmean.\n",
    "max_val=rmean.max()\n",
    "max_ind=rmean.argmax()\n",
    "print('\\nMaximum of rows means :',max_val)\n",
    "print('Index at maximum      :',max_ind)\n",
    "### Compute and print the minimum and the corresponding index of rmean.\n",
    "min_val=rmean.min()\n",
    "min_ind=rmean.argmin()\n",
    "print('\\nMinimum of rows means :',min_val)\n",
    "print('Index at minimum      :',min_ind)"
   ]
  },
  {
   "cell_type": "markdown",
   "metadata": {},
   "source": [
    "Here is the output that you should obtain for `SID = 100`, i.e., for the sample data file `pdl05dat_100.txt`."
   ]
  },
  {
   "cell_type": "code",
   "execution_count": 15,
   "metadata": {},
   "outputs": [
    {
     "name": "stdout",
     "output_type": "stream",
     "text": [
      "\n",
      "Student-ID: 100\n",
      "\n",
      "Maximum of row means : 245.268293\n",
      "Index at maximum     :  30\n",
      "\n",
      "Minimum of row means : 79.682927\n",
      "Index at minimum     :  15\n",
      "\n",
      "\n"
     ]
    }
   ],
   "source": [
    "f = open('pdl05num_100.txt','r')\n",
    "num100 = f.read()\n",
    "f.close()\n",
    "print(num100)"
   ]
  },
  {
   "cell_type": "markdown",
   "metadata": {},
   "source": [
    "## Assignment: Line plots [6]"
   ]
  },
  {
   "cell_type": "markdown",
   "metadata": {},
   "source": [
    "Using the data from the file `pdl05dat_SID.txt` where `SID` is your personal three-digit student ID, and the object-oriented approach to plotting in matplotlib, create a diagram with the same format as the following sample graphics (for `SID=100`). The first three lines display rows of the data matrix at indices 10,20,30. As before, the row mean (fourth line) results from averaging along `axis=0`. Store the graphics in svg format as `pdl05lin_SID.svg`.\n",
    "\n",
    "![](pdl05lin_100.svg)"
   ]
  },
  {
   "cell_type": "code",
   "execution_count": 10,
   "metadata": {},
   "outputs": [
    {
     "data": {
      "text/plain": [
       "[<matplotlib.lines.Line2D at 0x112fc7d60>,\n",
       " <matplotlib.lines.Line2D at 0x112fc7dc0>]"
      ]
     },
     "metadata": {},
     "output_type": "display_data"
    },
    {
     "data": {
      "image/png": "[encoded data removed]",
      "text/plain": [
       "<Figure size 800x500 with 1 Axes>"
      ]
     },
     "metadata": {},
     "output_type": "display_data"
    }
   ],
   "source": [
    "### Test the code with SID=100, then use your personal student ID for the final run of the notebook.\n",
    "SID = 100\n",
    "### Create new figure and axis objects with figsize=(8,5).\n",
    "fig,axs = plt.subplots(figsize=(8,5))\n",
    "### Plot data vectors for row indices 10,20,30.\n",
    "data_vctr = plt.plot([[10,0],[20,0],[30,0]])\n",
    "display(data_vctr)\n",
    "### Compute and plot the row mean.\n",
    "\n",
    "### Add plot title and the axes annotations.\n",
    "\n",
    "### Set limits for coordinate axes.\n",
    "\n",
    "### Add legend in lower right corner.\n",
    "\n",
    "### Add coordinate coordinate grid.\n",
    "\n",
    "### After testing the code with SID=100, save the figure for your personal SID in svg format.\n"
   ]
  },
  {
   "cell_type": "markdown",
   "metadata": {},
   "source": [
    "## Assignment: Multiple plots in one diagram [6]"
   ]
  },
  {
   "cell_type": "markdown",
   "metadata": {},
   "source": [
    "Using the data from the file `pdl05dat_SID.txt` where `SID` is your personal three-digit student ID, and the object-oriented approach to plotting in matplotlib, create a diagram with the same format as the following sample graphics (for `SID=100`). The first three panels display rows of the data matrix at indices 10,20,30. As before, the row mean (fourth panel) results from averaging along `axis=0`. Store the graphics in svg format as `pdl05mul_SID.svg`.\n",
    "\n",
    "![](pdl05mul_100.svg)"
   ]
  },
  {
   "cell_type": "code",
   "execution_count": null,
   "metadata": {},
   "outputs": [],
   "source": [
    "### Test the code with SID=100, then use your personal student ID for the final run of the notebook.\n",
    "SID = 100\n",
    "### Create new (2,2) figure and axes objects with figsize=(10,7).\n",
    "fig,axs = plt.subplots(2,2,figsize=(10,7))\n",
    "### Create plot at the [0,0] position with title, y-axis annotation, and proper limits.\n",
    "\n",
    "### Create plot at the [0,1] position with title and proper limits.\n",
    "\n",
    "### Create plot at the [1,0] position with title, x-axis and y-axis annotations, and proper limits.\n",
    "\n",
    "### Create plot at the [1,1] position with title, x-axis annotation, and proper limits.\n",
    "\n",
    "### After testing the code with SID=100, save the figure for your personal SID in svg format.\n"
   ]
  },
  {
   "cell_type": "markdown",
   "metadata": {},
   "source": [
    "## Assignment: Displaying digital images [3]"
   ]
  },
  {
   "cell_type": "markdown",
   "metadata": {},
   "source": [
    "Using the data from the file `pdl05dat_SID.txt` where `SID` is your personal three-digit student ID, and the MATLAB-style approach to plotting in matplotlib, create a diagram with the same format as the following sample graphics (for `SID=100`). Store the graphics in png format as `pdl05img_SID.png`.\n",
    "\n",
    "![](pdl05img_100.png)"
   ]
  },
  {
   "cell_type": "code",
   "execution_count": null,
   "metadata": {},
   "outputs": [],
   "source": [
    "### Test the code with SID=100, then use your personal student ID for the final run of the notebook.\n",
    "SID = 100\n",
    "### Create new figure object  with figsize=(8,5) and dpi=100.\n",
    "plt.figure(figsize=(8,5),dpi=100)\n",
    "### Plot the data matrix as a figure using the grayscale color map.\n",
    "\n",
    "### Add title and axes annotations.\n",
    "\n",
    "### After testing the code with SID=100, save the figure for your personal SID in png format.\n"
   ]
  },
  {
   "cell_type": "markdown",
   "metadata": {},
   "source": [
    "---\n",
    "---"
   ]
  }
 ],
 "metadata": {
  "kernelspec": {
   "display_name": "Python 3 (ipykernel)",
   "language": "python",
   "name": "python3"
  },
  "language_info": {
   "codemirror_mode": {
    "name": "ipython",
    "version": 3
   },
   "file_extension": ".py",
   "mimetype": "text/x-python",
   "name": "python",
   "nbconvert_exporter": "python",
   "pygments_lexer": "ipython3",
   "version": "3.9.13"
  }
 },
 "nbformat": 4,
 "nbformat_minor": 4
}
