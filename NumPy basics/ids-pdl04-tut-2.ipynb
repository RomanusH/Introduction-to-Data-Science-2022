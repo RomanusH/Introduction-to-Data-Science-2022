{
 "cells": [
  {
   "cell_type": "markdown",
   "metadata": {},
   "source": [
    "**ids-pdl04-tut.ipynb**: This Jupyter notebook is provided by Joachim Vogt for the _Python Data Lab_ of the module _Introduction to Data Science_ offered in Fall 2022 at Jacobs University Bremen. Module instructors are Hilke Brockmann, Adalbert Wilhelm, and Joachim Vogt. Jupyter notebooks and other learning resources are available from a dedicated _module platform_."
   ]
  },
  {
   "cell_type": "markdown",
   "metadata": {},
   "source": [
    "# NumPy basics"
   ]
  },
  {
   "cell_type": "markdown",
   "metadata": {},
   "source": [
    "This tutorial introductes the NumPy module. Follow the instructions below to learn to\n",
    "\n",
    "- [ ] import Python modules in general, and the NumPy module in particular,\n",
    "- [ ] create NumPy arrays from Python lists, and select elements through indexing and slicing,\n",
    "- [ ] change the shape of NumPy arrays using `flatten()`, `ravel()`, and `reshape()`,\n",
    "- [ ] create uniform NumPy arrays and range expressions,\n",
    "- [ ] filter NumPy arrays using boolean masks,\n",
    "- [ ] apply functions to NumPy arrays.\n",
    "\n",
    "If you wish to keep track of your progress, you may edit this markdown cell, check a box in the list above after having worked through the respective part of this notebook, and save the file.\n",
    "\n",
    "*Short exercises* are embedded in this notebook. *Sample solutions* can be found at the end of the document."
   ]
  },
  {
   "cell_type": "markdown",
   "metadata": {},
   "source": [
    "The NumPy project is hosted at [numpy.org](https://numpy.org)."
   ]
  },
  {
   "cell_type": "markdown",
   "metadata": {},
   "source": [
    "## Importing the NumPy module"
   ]
  },
  {
   "cell_type": "markdown",
   "metadata": {},
   "source": [
    "Python modules (also called packages or libraries) are containers providing additional functionality (functions, objects, data structures, etc). Using the module *NumPy* (Numerical Python) as an example, we demonstrate different options how to make the content of such a module available to our Python code."
   ]
  },
  {
   "cell_type": "markdown",
   "metadata": {},
   "source": [
    "The most basic variant is to import the module as follows. Then the full module name must be used as a prefix in order to access its content. The following instruction evaluates the mathematical expression $\\sin \\left( \\frac{\\pi}{2} \\right) = 1$."
   ]
  },
  {
   "cell_type": "code",
   "execution_count": null,
   "metadata": {},
   "outputs": [],
   "source": [
    "import numpy\n",
    "print('sin(pi/2) = {}'.format(numpy.sin(numpy.pi/2)))"
   ]
  },
  {
   "cell_type": "markdown",
   "metadata": {},
   "source": [
    "The prefix can be avoided completely using the construction `from numpy import item1, item2, ...`, but then each item must be explicitly named."
   ]
  },
  {
   "cell_type": "code",
   "execution_count": null,
   "metadata": {},
   "outputs": [],
   "source": [
    "from numpy import sin, pi\n",
    "print('sin(pi/2) = {}'.format(sin(pi/2)))"
   ]
  },
  {
   "cell_type": "markdown",
   "metadata": {},
   "source": [
    "Not recommended is the option ``from numpy import *``: importing all numpy objects without prefix may cause conflicts with standard functions."
   ]
  },
  {
   "cell_type": "code",
   "execution_count": null,
   "metadata": {},
   "outputs": [],
   "source": [
    "# from numpy import * # not recommended"
   ]
  },
  {
   "cell_type": "markdown",
   "metadata": {},
   "source": [
    "The standard option, and the one employed throughout this course, is to import all of NumPy using the shorter prefix `np`."
   ]
  },
  {
   "cell_type": "code",
   "execution_count": null,
   "metadata": {},
   "outputs": [],
   "source": [
    "import numpy as np\n",
    "print('sin(pi/2) = {}'.format(np.sin(np.pi/2)))"
   ]
  },
  {
   "cell_type": "markdown",
   "metadata": {},
   "source": [
    "Uncomment the following instruction to obtain information about NumPy and its help utilities. "
   ]
  },
  {
   "cell_type": "code",
   "execution_count": null,
   "metadata": {},
   "outputs": [],
   "source": [
    "#np?"
   ]
  },
  {
   "cell_type": "markdown",
   "metadata": {},
   "source": [
    "## NumPy arrays from Python lists"
   ]
  },
  {
   "cell_type": "markdown",
   "metadata": {},
   "source": [
    "NumPy's efficient data processing capabilities rest on the class of N-dimensional arrays or `ndarray` objects. Such an object is a container for variables of the *same type*. NumPy array may be created from Python lists using the NumPy function `array()`. The `dtype` attribute of a NumPy array shows the type of individual array elements. "
   ]
  },
  {
   "cell_type": "code",
   "execution_count": null,
   "metadata": {},
   "outputs": [],
   "source": [
    "lst1 = [2,3,5,7]\n",
    "print(lst1,type(lst1))\n",
    "arr1 = np.array(lst1)\n",
    "print(arr1,type(arr1))\n",
    "print('dtype of arr1   : ',arr1.dtype)"
   ]
  },
  {
   "cell_type": "markdown",
   "metadata": {},
   "source": [
    "Arithmetic operations on NumPy arrays are applied element-by-element. Note the difference between the Python list concatenation operators `+` and `*` and the NumPy array addition and multiplication operators `+` and `*`."
   ]
  },
  {
   "cell_type": "code",
   "execution_count": null,
   "metadata": {},
   "outputs": [],
   "source": [
    "print('lst1+lst1 : ',lst1+lst1)\n",
    "print('arr1+arr1 : ',arr1+arr1)\n",
    "print('3*lst1    : ',3*lst1)\n",
    "print('3*arr1    : ',3*arr1)"
   ]
  },
  {
   "cell_type": "markdown",
   "metadata": {},
   "source": [
    "Selecting individual array elements and slicing works in the same way as for Python lists. Negative indices and slides are supported."
   ]
  },
  {
   "cell_type": "code",
   "execution_count": null,
   "metadata": {},
   "outputs": [],
   "source": [
    "print('arr1        : ',arr1)\n",
    "print('arr1[0]     : ',arr1[0])\n",
    "print('arr1[0:2]   : ',arr1[0:2])\n",
    "print('arr1[-1]    : ',arr1[-1])\n",
    "print('arr1[-3:-1] : ',arr1[-3:-1])"
   ]
  },
  {
   "cell_type": "markdown",
   "metadata": {},
   "source": [
    "This syntax can be used to redefine content of NumPy arrays."
   ]
  },
  {
   "cell_type": "code",
   "execution_count": null,
   "metadata": {},
   "outputs": [],
   "source": [
    "arr1[0] = 17\n",
    "print(arr1)\n",
    "arr1[1:3] = [13,11]\n",
    "print(arr1)"
   ]
  },
  {
   "cell_type": "markdown",
   "metadata": {},
   "source": [
    "Once the data type of a NumPy array is set, element redefinition attempts using a different type are converted if possible. If not, an error message occurs."
   ]
  },
  {
   "cell_type": "code",
   "execution_count": null,
   "metadata": {},
   "outputs": [],
   "source": [
    "arr1[0] = '-5'\n",
    "arr1[1] = 3.14\n",
    "print(arr1,type(arr1))\n",
    "print('dtype of arr1   : ',arr1.dtype)\n",
    "print(arr1[0],type(arr1[0]))\n",
    "arr1[0] = True\n",
    "arr1[1] = False\n",
    "print(arr1,type(arr1))\n",
    "#arr1[2] = 2.3 + 4.5j #.. uncomment this line to see error message"
   ]
  },
  {
   "cell_type": "markdown",
   "metadata": {},
   "source": [
    "Applying the NumPy function `array()` to a list containing different numerical types yields a NumPy array of the more general numerical type. For instance, mixing integers and floating-numbers results in a NumPy array of floats."
   ]
  },
  {
   "cell_type": "code",
   "execution_count": null,
   "metadata": {},
   "outputs": [],
   "source": [
    "lst2 = [2,3,5.0,7.0]\n",
    "print(lst2,type(lst2))\n",
    "arr2 = np.array(lst2)\n",
    "print(arr2,type(arr2))\n",
    "print('dtype of arr2: ',arr2.dtype)\n",
    "print(arr2[0],type(arr2[0]))"
   ]
  },
  {
   "cell_type": "markdown",
   "metadata": {},
   "source": [
    "Mixing numbers and strings in a list defintion results in a NumPy array of strings."
   ]
  },
  {
   "cell_type": "code",
   "execution_count": null,
   "metadata": {},
   "outputs": [],
   "source": [
    "lst3 = [2,3,'5',7]\n",
    "print(lst3,type(lst3))\n",
    "arr3 = np.array(lst3)\n",
    "print(arr3,type(arr3))\n",
    "print('dtype of arr3: ',arr3.dtype)\n",
    "print(arr3[0],type(arr3[0]))"
   ]
  },
  {
   "cell_type": "markdown",
   "metadata": {},
   "source": [
    "### Exercise: NumPy arrays from Python lists"
   ]
  },
  {
   "cell_type": "markdown",
   "metadata": {},
   "source": [
    "Inspect the following operations on NumPy arrays. Predict the result and double-check your assessment by uncommenting the line with respective `print()` function."
   ]
  },
  {
   "cell_type": "code",
   "execution_count": null,
   "metadata": {},
   "outputs": [],
   "source": [
    "### Example 01\n",
    "lst01 = [7,-5,'3']\n",
    "arr01 = np.array(lst01)\n",
    "#print(arr01,arr01.dtype)\n",
    "### Example 02\n",
    "lst02 = [7,-5,'three']\n",
    "arr02 = np.array(lst02)\n",
    "#print(arr02,arr02.dtype)\n",
    "### Example 03\n",
    "lst03 = [7,-5.5,3]\n",
    "arr03 = np.array(lst03)\n",
    "#print(arr03,arr03.dtype)\n",
    "### Example 04\n",
    "lst04 = [7,-5,3]\n",
    "arr04 = np.array(lst04)\n",
    "#print(arr04,arr04.dtype)\n",
    "### Example 05\n",
    "lst05 = 2*[7,-5,3]\n",
    "arr05 = np.array(lst05)\n",
    "#print(arr05)\n",
    "### Example 06\n",
    "lst06 = [7,-5,3]\n",
    "arr06 = 2*np.array(lst06)\n",
    "#print(arr06)\n",
    "### Example 07\n",
    "lst07 = [7,-6,5,-4,3,-2]\n",
    "arr07 = np.array(lst07)\n",
    "#print(arr07[1],arr07[-2],arr07[1:-2])\n",
    "### Example 08\n",
    "lst08 = [7,-6,5,-4,3,-2]\n",
    "arr08 = np.array(lst08)\n",
    "arr08[-2] = '12'\n",
    "#print(arr08)"
   ]
  },
  {
   "cell_type": "markdown",
   "metadata": {},
   "source": [
    "## Multi-dimensional arrays"
   ]
  },
  {
   "cell_type": "markdown",
   "metadata": {},
   "source": [
    "Using lists of lists (of lists ...) we may create multi-dimensional arrays."
   ]
  },
  {
   "cell_type": "code",
   "execution_count": null,
   "metadata": {},
   "outputs": [],
   "source": [
    "arr4 = np.array([[2,3,5,7],[11,13,17,19],[23,29,31,37]])\n",
    "print(arr4,type(arr4))"
   ]
  },
  {
   "cell_type": "markdown",
   "metadata": {},
   "source": [
    "The dimensions of an array are also called *axes*. The `shape` attribute is tuple giving the number of elements in the individual axes. The current example is a two-dimensional array (matrix). The first axis (`axis=0`) corresponds to the row dimension, and the second axis (`axis=1`) to the column dimension."
   ]
  },
  {
   "cell_type": "code",
   "execution_count": null,
   "metadata": {},
   "outputs": [],
   "source": [
    "print('arr4.shape : ',arr4.shape)"
   ]
  },
  {
   "cell_type": "markdown",
   "metadata": {},
   "source": [
    "The function `flatten()` creates a one-dimensional version of a multi-dimensional NumPy array."
   ]
  },
  {
   "cell_type": "code",
   "execution_count": null,
   "metadata": {},
   "outputs": [],
   "source": [
    "arr5 = arr4.flatten()\n",
    "print(arr5)"
   ]
  },
  {
   "cell_type": "markdown",
   "metadata": {},
   "source": [
    "The instance created by `flatten()` is a one-dimensional copy, i.e., an array that can be manipulated independently from the original array. Instead, the function `ravel()` creates a one-dimensional view, i.e., another reference to the same array."
   ]
  },
  {
   "cell_type": "code",
   "execution_count": null,
   "metadata": {},
   "outputs": [],
   "source": [
    "arr4.flatten()[0] = -42\n",
    "print(arr4)\n",
    "arr4.ravel()[0] = -42\n",
    "print(arr4)"
   ]
  },
  {
   "cell_type": "markdown",
   "metadata": {},
   "source": [
    "More generally, rearranging a given NumPy array into a (view of) another shape is achieved by the `reshape()` function."
   ]
  },
  {
   "cell_type": "code",
   "execution_count": null,
   "metadata": {},
   "outputs": [],
   "source": [
    "print(arr5)\n",
    "print('\\nArray reshaped to (2,2,3):')\n",
    "arr6 = arr5.reshape(2,2,3)\n",
    "print(arr6)"
   ]
  },
  {
   "cell_type": "markdown",
   "metadata": {},
   "source": [
    "Indexing and slicing can be applied to individual axes of multi-dimensional arrays."
   ]
  },
  {
   "cell_type": "code",
   "execution_count": null,
   "metadata": {},
   "outputs": [],
   "source": [
    "print(arr6[0,-1,1])"
   ]
  },
  {
   "cell_type": "markdown",
   "metadata": {},
   "source": [
    "### Exercise: Multi-dimensional arrays"
   ]
  },
  {
   "cell_type": "markdown",
   "metadata": {},
   "source": [
    "Inspect the following operations on NumPy arrays. Predict the result and double-check your assessment by uncommenting the line with respective `print()` function."
   ]
  },
  {
   "cell_type": "code",
   "execution_count": null,
   "metadata": {},
   "outputs": [],
   "source": [
    "### Example 09\n",
    "arr09 = np.array([[41,43,47,53],[59,61,67,71]])\n",
    "#print(arr09.flatten())\n",
    "### Example 10\n",
    "arr10 = np.array([[41,43,47,53],[59,61,67,71]])\n",
    "arr10.flatten()[-2] = 73\n",
    "#print(arr10)\n",
    "### Example 11\n",
    "arr11 = np.array([[41,43,47,53],[59,61,67,71]])\n",
    "arr11.reshape(4,2)[0,1] = -3\n",
    "#print(arr11)\n",
    "### Example 12\n",
    "arr12 = np.array([[41,43,47,53],[59,61,67,71]])\n",
    "arr12.reshape(4,2)[-1,0] = -3\n",
    "#print(arr12)"
   ]
  },
  {
   "cell_type": "markdown",
   "metadata": {},
   "source": [
    "## Uniform NumPy arrays and range expressions"
   ]
  },
  {
   "cell_type": "markdown",
   "metadata": {},
   "source": [
    "The NumPy function `full()` creates a uniform `ndarray` object. Important input arguments are shape and fill value."
   ]
  },
  {
   "cell_type": "code",
   "execution_count": null,
   "metadata": {},
   "outputs": [],
   "source": [
    "print(np.full((3,4),2.718))"
   ]
  },
  {
   "cell_type": "markdown",
   "metadata": {},
   "source": [
    "More specifically, the NumPy functions `zeros()` and `ones()` create uniform arrays filled with zeros and ones, respectively."
   ]
  },
  {
   "cell_type": "code",
   "execution_count": null,
   "metadata": {},
   "outputs": [],
   "source": [
    "print(np.zeros(12))\n",
    "print(np.ones((3,4)))"
   ]
  },
  {
   "cell_type": "markdown",
   "metadata": {},
   "source": [
    "The NumPy function `arange()` creates a range of numerical valus, with arguments corresponding to the parameters in slices. "
   ]
  },
  {
   "cell_type": "code",
   "execution_count": null,
   "metadata": {},
   "outputs": [],
   "source": [
    "start = 4\n",
    "stop = 40\n",
    "step = 9\n",
    "print(np.arange(start,stop,step))"
   ]
  },
  {
   "cell_type": "markdown",
   "metadata": {},
   "source": [
    "For floating-point arrays, the result depends sensitively on the parameter `stop`."
   ]
  },
  {
   "cell_type": "code",
   "execution_count": null,
   "metadata": {},
   "outputs": [],
   "source": [
    "start = 4.0\n",
    "stop = 40.0\n",
    "step = 9.0\n",
    "print(np.arange(start,stop,step))\n",
    "stop = 40.01\n",
    "print(np.arange(start,stop,step))"
   ]
  },
  {
   "cell_type": "markdown",
   "metadata": {},
   "source": [
    "In many cases more robust is the NumPy function `linspace()` with the total number of array elements as the third input argument, and always including the `stop` parameter."
   ]
  },
  {
   "cell_type": "code",
   "execution_count": null,
   "metadata": {},
   "outputs": [],
   "source": [
    "start = 4.0\n",
    "stop = 40.0\n",
    "nelem = 5\n",
    "print(np.linspace(start,stop,nelem))\n",
    "stop = 40.01\n",
    "print(np.linspace(start,stop,nelem))"
   ]
  },
  {
   "cell_type": "markdown",
   "metadata": {},
   "source": [
    "### Exercise: Uniform NumPy arrays and range expressions"
   ]
  },
  {
   "cell_type": "markdown",
   "metadata": {},
   "source": [
    "Complete the code cell below according to the instructions included as comments."
   ]
  },
  {
   "cell_type": "code",
   "execution_count": null,
   "metadata": {},
   "outputs": [],
   "source": [
    "### Using np.full(), print a uniform NumPy array of shape (2,5) filled with the string 'xyz'.\n",
    "\n",
    "### Using np.ones(), print a uniform NumPy array of shape (3,2) filled with the float -4.32.\n",
    "\n",
    "### Using np.arange(), print the one-dimensional integer array [13,11,9,7,5] (in this order).\n",
    "\n",
    "### Using np.linspace(), print the one-dimensional floating-point array [9.5,8.0,6.5,5.0] (in this order).\n"
   ]
  },
  {
   "cell_type": "markdown",
   "metadata": {},
   "source": [
    "## Array filtering using boolean masks"
   ]
  },
  {
   "cell_type": "markdown",
   "metadata": {},
   "source": [
    "Array operations are efficiently applied to subsets of elements satisfying certain conditions by means of *boolean masks*. To demonstrate how this concept is applied, the code in the following cell takes a small data set of a supposedly positive measurements, checks for negative fill values (`-9.99`) signaling data gaps, then creates a suitable boolean mask indicating data gaps with the truth value `True`, and finally replaces the numerical fill values with NumPy's `NaN` (not a number)."
   ]
  },
  {
   "cell_type": "code",
   "execution_count": null,
   "metadata": {},
   "outputs": [],
   "source": [
    "### Define floating-point NumPy array from Python list\n",
    "lst7 = [2.32,2.52,2.15,-9.99,2.43,-9.99,2.47,2.61]\n",
    "arr7 = np.array(lst7)\n",
    "print(arr7,arr7.dtype)\n",
    "### Check which elements are negative\n",
    "gap7 = arr7<0\n",
    "print(gap7,gap7.dtype)\n",
    "### Replace negative elements by NumPy floating-point NaN (not a number)\n",
    "arr7[gap7] = np.nan\n",
    "print(arr7)"
   ]
  },
  {
   "cell_type": "markdown",
   "metadata": {},
   "source": [
    "Here `<` (lesser than) is an example of a comparison operator. Further comparison operators are `>` (greater than), `>=` (greater than or equal to), `<=` (lesser than or equal to), `==` (equal to) and `!=` (not equal to)."
   ]
  },
  {
   "cell_type": "markdown",
   "metadata": {},
   "source": [
    "Boolean arrays can be combined using bitwise logical connectives such as `|` (bitwise logical or) and `&` (bitwise logical and). Note that the Python keywords `or` and `and` are usually unsuitable for creating boolean masks from NumPy array operations as they compare entire objects. The following example checks if array elements are in the interval $[-2,5]$."
   ]
  },
  {
   "cell_type": "code",
   "execution_count": null,
   "metadata": {},
   "outputs": [],
   "source": [
    "lst8 = [1,-2,3,-4,5,-6,7,-8]\n",
    "arr8 = np.array(lst8)\n",
    "print(arr8)\n",
    "msk8 = (arr8>=-2) & (arr8<=5)\n",
    "print(msk8)"
   ]
  },
  {
   "cell_type": "markdown",
   "metadata": {},
   "source": [
    "The NumPy functions `any()` or `all()` allow for checking if any or all array elements along a given axis satisfy a certain condition, respectively."
   ]
  },
  {
   "cell_type": "code",
   "execution_count": null,
   "metadata": {},
   "outputs": [],
   "source": [
    "lst9 = [1,-2,3,-4,5,-6,7,-8]\n",
    "arr9 = np.array(lst9).reshape(2,4)\n",
    "print(arr9)\n",
    "print(np.any(arr9>5,axis=0))\n",
    "print(np.all(arr9>-5,axis=1))"
   ]
  },
  {
   "cell_type": "markdown",
   "metadata": {},
   "source": [
    "### Exercise: Array filtering using boolean masks"
   ]
  },
  {
   "cell_type": "markdown",
   "metadata": {},
   "source": [
    "Complete the code cell below according to the instructions included as comments."
   ]
  },
  {
   "cell_type": "code",
   "execution_count": null,
   "metadata": {},
   "outputs": [],
   "source": [
    "### Consider the following two-dimensional array of integer random numbers in the interval [0,10].\n",
    "arr13 = np.random.randint(11,size=(3,5))\n",
    "print(arr13)\n",
    "### Create a boolean mask indicating odd numbers (hint: modulo operator %).\n",
    "\n",
    "### Create a boolean mask indicating numbers smaller than 6.\n",
    "\n",
    "### Create a boolean mask indicating odd numbers smaller than 6.\n",
    "\n",
    "### Invert sign of odd numbers smaller than 6.\n"
   ]
  },
  {
   "cell_type": "markdown",
   "metadata": {},
   "source": [
    "## Functions of NumPy arrays"
   ]
  },
  {
   "cell_type": "markdown",
   "metadata": {},
   "source": [
    "The NumPy functions `any()` and `all()` evaluate condtions along dedicated axes of an array and return an array of reduced shape. Further functions showing the same behavior are `sum()`, `mean()`, `max()`, `min()`, `argmax()`, and `argmin()`. Check the NumPy documentation for further information."
   ]
  },
  {
   "cell_type": "code",
   "execution_count": null,
   "metadata": {},
   "outputs": [],
   "source": [
    "lst9 = [1,-2,3,-4,5,-6,7,-8]\n",
    "arr9 = np.array(lst9).reshape(2,4)\n",
    "print(arr9)\n",
    "print(np.max(arr9,axis=0))\n",
    "print(np.argmax(arr9,axis=0))\n",
    "print(np.sum(arr9,axis=1))"
   ]
  },
  {
   "cell_type": "markdown",
   "metadata": {},
   "source": [
    "Arithmetic and other mathematical functions in the NumPy package are usually vectorized operations and thus optimized for computational efficiency. Examples are exponents, logarithms, trigonometric and hyperbolic functions. The output array is of the same shape as the input array."
   ]
  },
  {
   "cell_type": "code",
   "execution_count": null,
   "metadata": {},
   "outputs": [],
   "source": [
    "lst9 = [1,-2,3,-4,5,-6,7,-8]\n",
    "arr9 = np.array(lst9).reshape(2,4)\n",
    "print(arr9)\n",
    "print(arr9**2)\n",
    "print(1/arr9)\n",
    "print(np.exp(arr9))\n",
    "print(np.cos(arr9*np.pi/4))"
   ]
  },
  {
   "cell_type": "markdown",
   "metadata": {},
   "source": [
    "### Exercise: Functions of NumPy arrays"
   ]
  },
  {
   "cell_type": "markdown",
   "metadata": {},
   "source": [
    "Complete the code cell below according to the instructions included as comments."
   ]
  },
  {
   "cell_type": "code",
   "execution_count": null,
   "metadata": {},
   "outputs": [],
   "source": [
    "### Consider the two-dimensional array of random numbers.\n",
    "arr14 = 4 + 2*np.random.rand(4,5)\n",
    "print(arr14)\n",
    "### Compute the maxima of individual rows.\n",
    "\n",
    "### Compute the minima of individual columns.\n",
    "\n",
    "### Compute the means of individual columns.\n",
    "\n",
    "### Compute the base-10 logarithm of all array elements.\n"
   ]
  },
  {
   "cell_type": "markdown",
   "metadata": {},
   "source": [
    "---\n",
    "---"
   ]
  },
  {
   "cell_type": "markdown",
   "metadata": {},
   "source": [
    "## Solutions"
   ]
  },
  {
   "cell_type": "markdown",
   "metadata": {},
   "source": [
    "### Solution: NumPy arrays from Python lists"
   ]
  },
  {
   "cell_type": "code",
   "execution_count": null,
   "metadata": {},
   "outputs": [],
   "source": [
    "### Example 01\n",
    "lst01 = [7,-5,'3']\n",
    "arr01 = np.array(lst01)\n",
    "print(arr01,arr01.dtype)\n",
    "### Example 02\n",
    "lst02 = [7,-5,'three']\n",
    "arr02 = np.array(lst02)\n",
    "print(arr02,arr02.dtype)\n",
    "### Example 03\n",
    "lst03 = [7,-5.5,3]\n",
    "arr03 = np.array(lst03)\n",
    "print(arr03,arr03.dtype)\n",
    "### Example 04\n",
    "lst04 = [7,-5,3]\n",
    "arr04 = np.array(lst04)\n",
    "print(arr04,arr04.dtype)\n",
    "### Example 05\n",
    "lst05 = 2*[7,-5,3]\n",
    "arr05 = np.array(lst05)\n",
    "print(arr05)\n",
    "### Example 06\n",
    "lst06 = [7,-5,3]\n",
    "arr06 = 2*np.array(lst06)\n",
    "print(arr06)\n",
    "### Example 07\n",
    "lst07 = [7,-6,5,-4,3,-2]\n",
    "arr07 = np.array(lst07)\n",
    "print(arr07[1],arr07[-2],arr07[1:-2])\n",
    "### Example 08\n",
    "lst08 = [7,-6,5,-4,3,-2]\n",
    "arr08 = np.array(lst08)\n",
    "arr08[-2] = '12'\n",
    "print(arr08)"
   ]
  },
  {
   "cell_type": "markdown",
   "metadata": {},
   "source": [
    "### Solution: Multi-dimensional arrays"
   ]
  },
  {
   "cell_type": "code",
   "execution_count": null,
   "metadata": {},
   "outputs": [],
   "source": [
    "### Example 09\n",
    "arr09 = np.array([[41,43,47,53],[59,61,67,71]])\n",
    "print(arr09.flatten())\n",
    "### Example 10\n",
    "arr10 = np.array([[41,43,47,53],[59,61,67,71]])\n",
    "arr10.flatten()[-2] = 73\n",
    "print(arr10)\n",
    "### Example 11\n",
    "arr11 = np.array([[41,43,47,53],[59,61,67,71]])\n",
    "arr11.reshape(4,2)[0,1] = -3\n",
    "print(arr11)\n",
    "### Example 12\n",
    "arr12 = np.array([[41,43,47,53],[59,61,67,71]])\n",
    "arr12.reshape(4,2)[-1,0] = -3\n",
    "print(arr12)"
   ]
  },
  {
   "cell_type": "markdown",
   "metadata": {},
   "source": [
    "### Solution: Uniform NumPy arrays and range expressions"
   ]
  },
  {
   "cell_type": "code",
   "execution_count": null,
   "metadata": {},
   "outputs": [],
   "source": [
    "### Using np.full(), print a uniform NumPy array of shape (2,5) filled with the string 'xyz'.\n",
    "print(np.full((2,5),'xyz'))\n",
    "### Using np.ones(), print a uniform NumPy array of shape (3,2) filled with the float -4.32.\n",
    "print(-4.32*np.ones((3,2)))\n",
    "### Using np.arange(), print the one-dimensional integer array [13,11,9,7,5] (in this order).\n",
    "print(np.arange(13,3,-2))\n",
    "### Using np.linspace(), print the one-dimensional floating-point array [9.5,8.0,6.5,5.0] (in this order).\n",
    "print(np.linspace(9.5,5,4))"
   ]
  },
  {
   "cell_type": "markdown",
   "metadata": {},
   "source": [
    "### Solution: Array filtering using boolean masks"
   ]
  },
  {
   "cell_type": "code",
   "execution_count": null,
   "metadata": {},
   "outputs": [],
   "source": [
    "### Consider the following two-dimensional array of integer random numbers in the interval [0,10].\n",
    "arr13 = np.random.randint(11,size=(3,5))\n",
    "print(arr13)\n",
    "### Create a boolean mask indicating odd numbers (hint: modulo operator %).\n",
    "odd = np.array(arr13%2,dtype='bool')\n",
    "print(odd)\n",
    "### Create a boolean mask indicating numbers smaller than 6.\n",
    "small = np.array(arr13<6,dtype='bool')\n",
    "print(small)\n",
    "### Create a boolean mask indicating odd numbers smaller than 6.\n",
    "smodd = small & odd\n",
    "print(smodd)\n",
    "### Invert sign of odd numbers smaller than 6.\n",
    "arr13[smodd] = -arr13[smodd]\n",
    "print(arr13)"
   ]
  },
  {
   "cell_type": "markdown",
   "metadata": {},
   "source": [
    "### Solution: Functions of NumPy arrays"
   ]
  },
  {
   "cell_type": "code",
   "execution_count": null,
   "metadata": {},
   "outputs": [],
   "source": [
    "### Consider the two-dimensional array of random numbers.\n",
    "arr14 = 4 + 2*np.random.rand(4,5)\n",
    "print(arr14)\n",
    "### Compute the maxima of individual rows.\n",
    "print(arr14.max(axis=1))\n",
    "### Compute the minima of individual columns.\n",
    "print(arr14.min(axis=0))\n",
    "### Compute the means of individual columns.\n",
    "print(arr14.mean(axis=0))\n",
    "### Compute the base-10 logarithm of all array elements.\n",
    "print(np.log10(arr14))"
   ]
  },
  {
   "cell_type": "markdown",
   "metadata": {},
   "source": [
    "---\n",
    "---"
   ]
  }
 ],
 "metadata": {
  "kernelspec": {
   "display_name": "Python 3 (ipykernel)",
   "language": "python",
   "name": "python3"
  },
  "language_info": {
   "codemirror_mode": {
    "name": "ipython",
    "version": 3
   },
   "file_extension": ".py",
   "mimetype": "text/x-python",
   "name": "python",
   "nbconvert_exporter": "python",
   "pygments_lexer": "ipython3",
   "version": "3.11.2"
  }
 },
 "nbformat": 4,
 "nbformat_minor": 4
}
