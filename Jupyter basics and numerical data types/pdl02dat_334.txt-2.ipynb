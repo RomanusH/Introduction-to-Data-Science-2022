{
 "cells": [
  {
   "cell_type": "markdown",
   "metadata": {},
   "source": [
    "**ids-pdl02-hwk.ipynb**: This Jupyter notebook is provided by Joachim Vogt for the _Python Data Lab_ of the module _Introduction to Data Science_ offered in Fall 2022 at Jacobs University Bremen. Module instructors are Hilke Brockmann, Adalbert Wilhelm, and Joachim Vogt. Jupyter notebooks and other learning resources are available from a dedicated _module platform_."
   ]
  },
  {
   "cell_type": "markdown",
   "metadata": {},
   "source": [
    "# Homework: Jupyter basics and numerical data types"
   ]
  },
  {
   "cell_type": "markdown",
   "metadata": {},
   "source": [
    "The homework assignments in this notebook supplement the tutorial *Jupyter basics and numerical data types*.\n",
    "\n",
    "- Solve the assignments according to the instructions.\n",
    "- Upload the completed notebook to the module platform.\n",
    "- Do not forget to enter your name in the markdown cell below.\n",
    "\n",
    "The homework set carries a total of 20 points. Square brackets in the assignment titles specify individual point contributions."
   ]
  },
  {
   "cell_type": "markdown",
   "metadata": {},
   "source": [
    "## Name: Hikmat Vugarli"
   ]
  },
  {
   "cell_type": "markdown",
   "metadata": {},
   "source": [
    "---"
   ]
  },
  {
   "cell_type": "markdown",
   "metadata": {},
   "source": [
    "## Preparation"
   ]
  },
  {
   "cell_type": "markdown",
   "metadata": {},
   "source": [
    "The graphics file `mdhomework.png` is expected to reside in the working directory. Identify the file on the module platform and upload it to the same folder as this Jupyter notebook."
   ]
  },
  {
   "cell_type": "markdown",
   "metadata": {},
   "source": [
    "## Assignment: Markdown language [6]"
   ]
  },
  {
   "cell_type": "markdown",
   "metadata": {},
   "source": [
    "Create a new markdown cell and typeset the short piece of formatted text captured by the graphics file `mdhomework.png` displayed below. Note that the *United Nations* hyperlink is supposed to point to the URL `https://www.un.org`.\n",
    "\n",
    "![](mdhomework.png)"
   ]
  },
  {
   "cell_type": "markdown",
   "metadata": {},
   "source": [
    "## Assignment: Basic arithmetics [4]"
   ]
  },
  {
   "cell_type": "markdown",
   "metadata": {},
   "source": [
    "Create a new code cell, set $a=2$, $b=8$, $c=-4$, then compute and print out $a+bc$, $b-\\frac{c}{a}$, $b+c-\\frac{a}{b}$, $a^b-b^a$."
   ]
  },
  {
   "cell_type": "code",
   "execution_count": 12,
   "metadata": {},
   "outputs": [
    {
     "name": "stdout",
     "output_type": "stream",
     "text": [
      "-30\n",
      "10.0\n",
      "3.75\n",
      "0\n"
     ]
    }
   ],
   "source": [
    "a=2; b=8; c=-4\n",
    "print(a+b*c)\n",
    "print(b-c/a)\n",
    "print(b+c-a/b)\n",
    "print(a^b-b^a)"
   ]
  },
  {
   "cell_type": "markdown",
   "metadata": {},
   "source": [
    "## Assignment: Numerical data types [5]"
   ]
  },
  {
   "cell_type": "markdown",
   "metadata": {},
   "source": [
    "Complete the code cell below according to the instructions included as comments."
   ]
  },
  {
   "cell_type": "code",
   "execution_count": 24,
   "metadata": {},
   "outputs": [
    {
     "name": "stdout",
     "output_type": "stream",
     "text": [
      "77.4 <class 'float'>\n",
      "-5608.8 <class 'float'>\n",
      "666.0 <class 'float'>\n",
      "123 <class 'int'>\n",
      "-46 <class 'int'>\n"
     ]
    }
   ],
   "source": [
    "n = 123\n",
    "x = -45.6\n",
    "y = 7.89e2\n",
    "### Compute sum and product of n and x, show the data types\n",
    "a = n + x\n",
    "b = n * x\n",
    "print (a, type(a))\n",
    "print (b, type(b))\n",
    "### Subtract n from y, show the data type\n",
    "c = y - n\n",
    "print (c, type(c))\n",
    "### Compute the square root of n, show the data type\n",
    "import math\n",
    "d = math.sqrt(n)\n",
    "print(n, type(n))\n",
    "### Compute the largest integer smaller than x, show the data type\n",
    "print (math.floor(x),type (math.floor(x)))"
   ]
  },
  {
   "cell_type": "markdown",
   "metadata": {},
   "source": [
    "## Assignment: Boolean expressions [5]"
   ]
  },
  {
   "cell_type": "markdown",
   "metadata": {},
   "source": [
    "Complete the code cell below according to the instructions included as comments."
   ]
  },
  {
   "cell_type": "code",
   "execution_count": 25,
   "metadata": {},
   "outputs": [
    {
     "name": "stdout",
     "output_type": "stream",
     "text": [
      "True\n",
      "True\n",
      "True\n",
      "False\n",
      "True\n"
     ]
    }
   ],
   "source": [
    "### Define integers a,b,c,x1,x2,y1,y2.\n",
    "a = 2\n",
    "b = -6\n",
    "c = 4\n",
    "x1 = 1\n",
    "x2 = 2\n",
    "y1 = 1\n",
    "y2 = 2\n",
    "### Check if b*b is larger than 4*a*c.\n",
    "print (b*b>4*a*c)\n",
    "### Check if a*x1**2 + b*x1 + c is zero.\n",
    "print (a*x1**2 + b*x1 + c == 0)\n",
    "### Check if a*x2**2 + b*x2 + c is zero.\n",
    "print (a*x2**2 + b*x2 + c == 0)\n",
    "### Check if y1 is in the half-open interval ]x1,x2].\n",
    "print (x1 < y1 <= x2)\n",
    "### Check if y2 is in the half-open interval ]x1,x2].\n",
    "print (x1 < y2 <= x2)"
   ]
  },
  {
   "cell_type": "markdown",
   "metadata": {},
   "source": [
    "---\n",
    "---"
   ]
  }
 ],
 "metadata": {
  "kernelspec": {
   "display_name": "Python 3 (ipykernel)",
   "language": "python",
   "name": "python3"
  },
  "language_info": {
   "codemirror_mode": {
    "name": "ipython",
    "version": 3
   },
   "file_extension": ".py",
   "mimetype": "text/x-python",
   "name": "python",
   "nbconvert_exporter": "python",
   "pygments_lexer": "ipython3",
   "version": "3.11.2"
  }
 },
 "nbformat": 4,
 "nbformat_minor": 4
}
