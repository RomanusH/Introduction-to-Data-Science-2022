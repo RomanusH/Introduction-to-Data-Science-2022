{
 "cells": [
  {
   "cell_type": "markdown",
   "metadata": {},
   "source": [
    "**ids-pdl09-hwk.ipynb**: This Jupyter notebook is provided by Joachim Vogt for the _Python Data Lab_ of the module _Introduction to Data Science_ offered in Fall 2022 at Jacobs University Bremen. Module instructors are Hilke Brockmann, Adalbert Wilhelm, and Joachim Vogt. Jupyter notebooks and other learning resources are available from a dedicated _module platform_."
   ]
  },
  {
   "cell_type": "markdown",
   "metadata": {},
   "source": [
    "# Homework assignments: Working with Pandas"
   ]
  },
  {
   "cell_type": "markdown",
   "metadata": {},
   "source": [
    "The homework assignments in this notebook supplement the tutorial *Working with Pandas*.\n",
    "\n",
    "- Solve the assignments according to the instructions.\n",
    "- Upload the completed notebook to the module platform.\n",
    "- Do not forget to enter your name in the markdown cell below.\n",
    "\n",
    "The homework set carries a total of 20 points. Square brackets in the assignment titles specify individual point contributions."
   ]
  },
  {
   "cell_type": "markdown",
   "metadata": {},
   "source": [
    "## Name: Hikmat Vugarli"
   ]
  },
  {
   "cell_type": "markdown",
   "metadata": {},
   "source": [
    "---\n",
    "---"
   ]
  },
  {
   "cell_type": "markdown",
   "metadata": {},
   "source": [
    "## Preparation"
   ]
  },
  {
   "cell_type": "markdown",
   "metadata": {},
   "source": [
    "Import NumPy, `pyplot` from matplotlib, and Pandas as usual."
   ]
  },
  {
   "cell_type": "code",
   "execution_count": 1,
   "metadata": {},
   "outputs": [],
   "source": [
    "import numpy as np\n",
    "import matplotlib.pyplot as plt\n",
    "import pandas as pd\n",
    "%matplotlib inline"
   ]
  },
  {
   "cell_type": "markdown",
   "metadata": {},
   "source": [
    "The following data files are expected to reside in the working directory. Identify the files on the module platform and upload them to the same folder as this Jupyter notebook.\n",
    "\n",
    "- `gdp-per-capita-in-us-dollar-world-bank.csv`: GDP per capita in constant 2010 US dollars 1960-2020, published by the [World Bank, 2021-07-30](http://data.worldbank.org/data-catalog/world-development-indicators), available from [Our World in Data](https://ourworldindata.org/grapher/gdp-per-capita-in-us-dollar-world-bank).\n",
    "- `life-expectancy-at-birth-total-years.csv`: Life expectancy at birth 1960-2019, published by the [World Bank, 2021-07-30](http://data.worldbank.org/data-catalog/world-development-indicators), available from [Our World in Data](https://ourworldindata.org/grapher/life-expectancy-at-birth-total-years).\n",
    "- `leb_gdpint_decade.png`: graphics of a table to be reproduced in the assignment *Pivot tables*."
   ]
  },
  {
   "cell_type": "markdown",
   "metadata": {},
   "source": [
    "## Assignment: Hierarchical indexing [5]"
   ]
  },
  {
   "cell_type": "markdown",
   "metadata": {},
   "source": [
    "According to [Wikipedia (accessed on 2022-07-26)](https://de.wikipedia.org/wiki/Liste_der_Gro%C3%9F-_und_Mittelst%C3%A4dte_in_Deutschland), the resident numbers of Berlin, Cologne, Hamburg, Munich in the years 1980, 2000, 2020/21 were as follows.\n",
    "\n",
    "| City     | 1980    | 2000    | 2020/21 |\n",
    "|:---------|:-------:|:-------:|:-------:|\n",
    "| Berlin   | 3048759 | 3382169 | 3677472 | \t\n",
    "| Cologne  |  976694 |  962884 | 1073096 |\n",
    "| Hamburg  | 1645095 | 1715392 | 1853935 |\n",
    "| Munich   | 1298941 | 1210223 | 1487708 |\n",
    "\n",
    "In the cell below,\n",
    "\n",
    "1. store the three sets of resident numbers for the years 1980, 2000, 2020/21 in a single Pandas DataFrame object `ResA` indexed by the city names,\n",
    "2. apply the function `stack()` to `ResA` and store the result in a Pandas Series object `ResB`,\n",
    "3. from `ResB` obtain the index (a MultiIndex object) and store it as `IndB`,  \n",
    "4. using the Pandas function `MultiIndex.from_arrays()`, construct a MultiIndex object `IndC` identical to `IndB`,\n",
    "5. using the Pandas function `MultiIndex.from_product()`, construct a MultiIndex object `IndD` identical to `IndB`."
   ]
  },
  {
   "cell_type": "code",
   "execution_count": 3,
   "metadata": {},
   "outputs": [
    {
     "name": "stdout",
     "output_type": "stream",
     "text": [
      "6\n"
     ]
    }
   ],
   "source": [
    "def fadd(x,y=1,z=-1):return(x+y+z)\n",
    "print(fadd(3,z=2))"
   ]
  },
  {
   "cell_type": "markdown",
   "metadata": {},
   "source": [
    "## Assignment: GroupBy mechanism [8]"
   ]
  },
  {
   "cell_type": "markdown",
   "metadata": {},
   "source": [
    "The file `gdp-per-capita-in-us-dollar-world-bank.csv` contains data on GDP per capita in constant 2010 US dollars 1960-2020, as published by the [World Bank on 2021-07-30](http://data.worldbank.org/data-catalog/world-development-indicators), and made available through [Our World in Data](https://ourworldindata.org/grapher/gdp-per-capita-in-us-dollar-world-bank).\n",
    "\n",
    "- Click on the filename in the directory listing to display the content of this comma-separated text file to study the structure.\n",
    "- Consult the associated tutorial notebook `ids-pdl09-tut.ipynb` and study how the data from the file `life-expectancy-at-birth-total-years.csv` are processed.\n",
    "- The same processing steps are to be applied to the GDP per capita data from the file `gdp-per-capita-in-us-dollar-world-bank.csv`. Details are given below."
   ]
  },
  {
   "cell_type": "markdown",
   "metadata": {},
   "source": [
    "Using the Pandas function `read_csv()`, the data are loaded and stored in a DataFrame."
   ]
  },
  {
   "cell_type": "code",
   "execution_count": 12,
   "metadata": {},
   "outputs": [
    {
     "name": "stdout",
     "output_type": "stream",
     "text": [
      "            Entity Code  Year  GDP per capita (constant 2010 US$)\n",
      "0      Afghanistan  AFG  2002                          330.303494\n",
      "1      Afghanistan  AFG  2003                          343.080890\n",
      "2      Afghanistan  AFG  2004                          333.216617\n",
      "3      Afghanistan  AFG  2005                          357.234762\n",
      "4      Afghanistan  AFG  2006                          365.284371\n",
      "...            ...  ...   ...                                 ...\n",
      "12147     Zimbabwe  ZWE  2016                         1224.314460\n",
      "12148     Zimbabwe  ZWE  2017                         1263.278346\n",
      "12149     Zimbabwe  ZWE  2018                         1289.146499\n",
      "12150     Zimbabwe  ZWE  2019                         1168.008072\n",
      "12151     Zimbabwe  ZWE  2020                         1058.845827\n",
      "\n",
      "[12152 rows x 4 columns]\n"
     ]
    }
   ],
   "source": [
    "gdp_full = pd.read_csv('gdp-per-capita-in-us-dollar-world-bank.csv')\n",
    "print(gdp_full)"
   ]
  },
  {
   "cell_type": "markdown",
   "metadata": {},
   "source": [
    "From the full DataFrame `gdp_full`, remove rows for entities that are not single countries but world regions."
   ]
  },
  {
   "cell_type": "code",
   "execution_count": 9,
   "metadata": {},
   "outputs": [
    {
     "name": "stdout",
     "output_type": "stream",
     "text": [
      "            Entity Code  Year  GDP per capita (constant 2010 US$)\n",
      "0      Afghanistan  AFG  2002                          330.303494\n",
      "1      Afghanistan  AFG  2003                          343.080890\n",
      "2      Afghanistan  AFG  2004                          333.216617\n",
      "3      Afghanistan  AFG  2005                          357.234762\n",
      "4      Afghanistan  AFG  2006                          365.284371\n",
      "...            ...  ...   ...                                 ...\n",
      "12147     Zimbabwe  ZWE  2016                         1224.314460\n",
      "12148     Zimbabwe  ZWE  2017                         1263.278346\n",
      "12149     Zimbabwe  ZWE  2018                         1289.146499\n",
      "12150     Zimbabwe  ZWE  2019                         1168.008072\n",
      "12151     Zimbabwe  ZWE  2020                         1058.845827\n",
      "\n",
      "[9525 rows x 4 columns]\n"
     ]
    }
   ],
   "source": [
    "\n",
    "gdp_full.dropna(inplace=True)\n",
    "\n",
    "gdp_full = gdp_full[gdp_full['Entity']!='World']\n",
    "print(gdp_full)"
   ]
  },
  {
   "cell_type": "markdown",
   "metadata": {},
   "source": [
    "Rename the GDP per capita column label to `'GDP/cap.'`."
   ]
  },
  {
   "cell_type": "code",
   "execution_count": 7,
   "metadata": {},
   "outputs": [
    {
     "data": {
      "text/html": [
       "<div>\n",
       "<style scoped>\n",
       "    .dataframe tbody tr th:only-of-type {\n",
       "        vertical-align: middle;\n",
       "    }\n",
       "\n",
       "    .dataframe tbody tr th {\n",
       "        vertical-align: top;\n",
       "    }\n",
       "\n",
       "    .dataframe thead th {\n",
       "        text-align: right;\n",
       "    }\n",
       "</style>\n",
       "<table border=\"1\" class=\"dataframe\">\n",
       "  <thead>\n",
       "    <tr style=\"text-align: right;\">\n",
       "      <th></th>\n",
       "      <th>Entity</th>\n",
       "      <th>Code</th>\n",
       "      <th>Year</th>\n",
       "      <th>GDP/cap.</th>\n",
       "    </tr>\n",
       "  </thead>\n",
       "  <tbody>\n",
       "    <tr>\n",
       "      <th>0</th>\n",
       "      <td>Afghanistan</td>\n",
       "      <td>AFG</td>\n",
       "      <td>2002</td>\n",
       "      <td>330.303494</td>\n",
       "    </tr>\n",
       "    <tr>\n",
       "      <th>1</th>\n",
       "      <td>Afghanistan</td>\n",
       "      <td>AFG</td>\n",
       "      <td>2003</td>\n",
       "      <td>343.080890</td>\n",
       "    </tr>\n",
       "    <tr>\n",
       "      <th>2</th>\n",
       "      <td>Afghanistan</td>\n",
       "      <td>AFG</td>\n",
       "      <td>2004</td>\n",
       "      <td>333.216617</td>\n",
       "    </tr>\n",
       "    <tr>\n",
       "      <th>3</th>\n",
       "      <td>Afghanistan</td>\n",
       "      <td>AFG</td>\n",
       "      <td>2005</td>\n",
       "      <td>357.234762</td>\n",
       "    </tr>\n",
       "    <tr>\n",
       "      <th>4</th>\n",
       "      <td>Afghanistan</td>\n",
       "      <td>AFG</td>\n",
       "      <td>2006</td>\n",
       "      <td>365.284371</td>\n",
       "    </tr>\n",
       "    <tr>\n",
       "      <th>...</th>\n",
       "      <td>...</td>\n",
       "      <td>...</td>\n",
       "      <td>...</td>\n",
       "      <td>...</td>\n",
       "    </tr>\n",
       "    <tr>\n",
       "      <th>12147</th>\n",
       "      <td>Zimbabwe</td>\n",
       "      <td>ZWE</td>\n",
       "      <td>2016</td>\n",
       "      <td>1224.314460</td>\n",
       "    </tr>\n",
       "    <tr>\n",
       "      <th>12148</th>\n",
       "      <td>Zimbabwe</td>\n",
       "      <td>ZWE</td>\n",
       "      <td>2017</td>\n",
       "      <td>1263.278346</td>\n",
       "    </tr>\n",
       "    <tr>\n",
       "      <th>12149</th>\n",
       "      <td>Zimbabwe</td>\n",
       "      <td>ZWE</td>\n",
       "      <td>2018</td>\n",
       "      <td>1289.146499</td>\n",
       "    </tr>\n",
       "    <tr>\n",
       "      <th>12150</th>\n",
       "      <td>Zimbabwe</td>\n",
       "      <td>ZWE</td>\n",
       "      <td>2019</td>\n",
       "      <td>1168.008072</td>\n",
       "    </tr>\n",
       "    <tr>\n",
       "      <th>12151</th>\n",
       "      <td>Zimbabwe</td>\n",
       "      <td>ZWE</td>\n",
       "      <td>2020</td>\n",
       "      <td>1058.845827</td>\n",
       "    </tr>\n",
       "  </tbody>\n",
       "</table>\n",
       "<p>9525 rows × 4 columns</p>\n",
       "</div>"
      ],
      "text/plain": [
       "            Entity Code  Year     GDP/cap.\n",
       "0      Afghanistan  AFG  2002   330.303494\n",
       "1      Afghanistan  AFG  2003   343.080890\n",
       "2      Afghanistan  AFG  2004   333.216617\n",
       "3      Afghanistan  AFG  2005   357.234762\n",
       "4      Afghanistan  AFG  2006   365.284371\n",
       "...            ...  ...   ...          ...\n",
       "12147     Zimbabwe  ZWE  2016  1224.314460\n",
       "12148     Zimbabwe  ZWE  2017  1263.278346\n",
       "12149     Zimbabwe  ZWE  2018  1289.146499\n",
       "12150     Zimbabwe  ZWE  2019  1168.008072\n",
       "12151     Zimbabwe  ZWE  2020  1058.845827\n",
       "\n",
       "[9525 rows x 4 columns]"
      ]
     },
     "metadata": {},
     "output_type": "display_data"
    }
   ],
   "source": [
    "gdp_full.rename(columns={gdp_full.columns[3]:'GDP/cap.'},inplace=True,errors='raise')\n",
    "display(gdp_full)"
   ]
  },
  {
   "cell_type": "markdown",
   "metadata": {},
   "source": [
    "Store the column of GDP per capita values."
   ]
  },
  {
   "cell_type": "code",
   "execution_count": 8,
   "metadata": {},
   "outputs": [
    {
     "name": "stdout",
     "output_type": "stream",
     "text": [
      "[ 330.30349444  343.08088973  333.21661712 ... 1289.14649947 1168.0080723\n",
      " 1058.84582705]\n"
     ]
    }
   ],
   "source": [
    "gdp_per_capita_values= gdp_full.iloc[:,3].values\n",
    "print(gdp_per_capita_values)"
   ]
  },
  {
   "cell_type": "markdown",
   "metadata": {},
   "source": [
    "Construct the MultiIndex object from the `'Code'` and `'Year'` columns."
   ]
  },
  {
   "cell_type": "code",
   "execution_count": 9,
   "metadata": {},
   "outputs": [
    {
     "name": "stdout",
     "output_type": "stream",
     "text": [
      "MultiIndex([('AFG', 2002),\n",
      "            ('AFG', 2003),\n",
      "            ('AFG', 2004),\n",
      "            ('AFG', 2005),\n",
      "            ('AFG', 2006),\n",
      "            ('AFG', 2007),\n",
      "            ('AFG', 2008),\n",
      "            ('AFG', 2009),\n",
      "            ('AFG', 2010),\n",
      "            ('AFG', 2011),\n",
      "            ...\n",
      "            ('ZWE', 2011),\n",
      "            ('ZWE', 2012),\n",
      "            ('ZWE', 2013),\n",
      "            ('ZWE', 2014),\n",
      "            ('ZWE', 2015),\n",
      "            ('ZWE', 2016),\n",
      "            ('ZWE', 2017),\n",
      "            ('ZWE', 2018),\n",
      "            ('ZWE', 2019),\n",
      "            ('ZWE', 2020)],\n",
      "           length=9525)\n"
     ]
    }
   ],
   "source": [
    "codes = gdp_full['Code'].values\n",
    "years = gdp_full['Year'].values\n",
    "mulind = pd.MultiIndex.from_arrays([codes,years])\n",
    "print(mulind)"
   ]
  },
  {
   "cell_type": "markdown",
   "metadata": {},
   "source": [
    "Using the array of GDP per capita values with the MultiIndex object as an index, we construct a Series object that is then unstacked to yield a DataFrame in the desired format."
   ]
  },
  {
   "cell_type": "code",
   "execution_count": 10,
   "metadata": {},
   "outputs": [
    {
     "data": {
      "text/html": [
       "<div>\n",
       "<style scoped>\n",
       "    .dataframe tbody tr th:only-of-type {\n",
       "        vertical-align: middle;\n",
       "    }\n",
       "\n",
       "    .dataframe tbody tr th {\n",
       "        vertical-align: top;\n",
       "    }\n",
       "\n",
       "    .dataframe thead th {\n",
       "        text-align: right;\n",
       "    }\n",
       "</style>\n",
       "<table border=\"1\" class=\"dataframe\">\n",
       "  <thead>\n",
       "    <tr style=\"text-align: right;\">\n",
       "      <th></th>\n",
       "      <th>1960</th>\n",
       "      <th>1961</th>\n",
       "      <th>1962</th>\n",
       "      <th>1963</th>\n",
       "      <th>1964</th>\n",
       "      <th>1965</th>\n",
       "      <th>1966</th>\n",
       "      <th>1967</th>\n",
       "      <th>1968</th>\n",
       "      <th>1969</th>\n",
       "      <th>...</th>\n",
       "      <th>2011</th>\n",
       "      <th>2012</th>\n",
       "      <th>2013</th>\n",
       "      <th>2014</th>\n",
       "      <th>2015</th>\n",
       "      <th>2016</th>\n",
       "      <th>2017</th>\n",
       "      <th>2018</th>\n",
       "      <th>2019</th>\n",
       "      <th>2020</th>\n",
       "    </tr>\n",
       "  </thead>\n",
       "  <tbody>\n",
       "    <tr>\n",
       "      <th>ABW</th>\n",
       "      <td>NaN</td>\n",
       "      <td>NaN</td>\n",
       "      <td>NaN</td>\n",
       "      <td>NaN</td>\n",
       "      <td>NaN</td>\n",
       "      <td>NaN</td>\n",
       "      <td>NaN</td>\n",
       "      <td>NaN</td>\n",
       "      <td>NaN</td>\n",
       "      <td>NaN</td>\n",
       "      <td>...</td>\n",
       "      <td>24232.051233</td>\n",
       "      <td>23780.097972</td>\n",
       "      <td>24634.332150</td>\n",
       "      <td>24562.760936</td>\n",
       "      <td>25822.746343</td>\n",
       "      <td>26232.777663</td>\n",
       "      <td>26631.469041</td>\n",
       "      <td>NaN</td>\n",
       "      <td>NaN</td>\n",
       "      <td>NaN</td>\n",
       "    </tr>\n",
       "    <tr>\n",
       "      <th>AFG</th>\n",
       "      <td>NaN</td>\n",
       "      <td>NaN</td>\n",
       "      <td>NaN</td>\n",
       "      <td>NaN</td>\n",
       "      <td>NaN</td>\n",
       "      <td>NaN</td>\n",
       "      <td>NaN</td>\n",
       "      <td>NaN</td>\n",
       "      <td>NaN</td>\n",
       "      <td>NaN</td>\n",
       "      <td>...</td>\n",
       "      <td>528.736683</td>\n",
       "      <td>576.190088</td>\n",
       "      <td>587.565035</td>\n",
       "      <td>583.656018</td>\n",
       "      <td>574.184114</td>\n",
       "      <td>571.075388</td>\n",
       "      <td>571.445241</td>\n",
       "      <td>564.617039</td>\n",
       "      <td>573.287506</td>\n",
       "      <td>549.391787</td>\n",
       "    </tr>\n",
       "    <tr>\n",
       "      <th>AGO</th>\n",
       "      <td>NaN</td>\n",
       "      <td>NaN</td>\n",
       "      <td>NaN</td>\n",
       "      <td>NaN</td>\n",
       "      <td>NaN</td>\n",
       "      <td>NaN</td>\n",
       "      <td>NaN</td>\n",
       "      <td>NaN</td>\n",
       "      <td>NaN</td>\n",
       "      <td>NaN</td>\n",
       "      <td>...</td>\n",
       "      <td>3579.960055</td>\n",
       "      <td>3748.451550</td>\n",
       "      <td>3796.881314</td>\n",
       "      <td>3843.198733</td>\n",
       "      <td>3748.320252</td>\n",
       "      <td>3530.310916</td>\n",
       "      <td>3409.927901</td>\n",
       "      <td>3233.903611</td>\n",
       "      <td>3111.157308</td>\n",
       "      <td>2890.892897</td>\n",
       "    </tr>\n",
       "    <tr>\n",
       "      <th>ALB</th>\n",
       "      <td>NaN</td>\n",
       "      <td>NaN</td>\n",
       "      <td>NaN</td>\n",
       "      <td>NaN</td>\n",
       "      <td>NaN</td>\n",
       "      <td>NaN</td>\n",
       "      <td>NaN</td>\n",
       "      <td>NaN</td>\n",
       "      <td>NaN</td>\n",
       "      <td>NaN</td>\n",
       "      <td>...</td>\n",
       "      <td>4209.874801</td>\n",
       "      <td>4276.607904</td>\n",
       "      <td>4327.379960</td>\n",
       "      <td>4413.296891</td>\n",
       "      <td>4524.373086</td>\n",
       "      <td>4681.826563</td>\n",
       "      <td>4864.310616</td>\n",
       "      <td>5074.857222</td>\n",
       "      <td>5207.305322</td>\n",
       "      <td>5064.061916</td>\n",
       "    </tr>\n",
       "    <tr>\n",
       "      <th>AND</th>\n",
       "      <td>NaN</td>\n",
       "      <td>NaN</td>\n",
       "      <td>NaN</td>\n",
       "      <td>NaN</td>\n",
       "      <td>NaN</td>\n",
       "      <td>NaN</td>\n",
       "      <td>NaN</td>\n",
       "      <td>NaN</td>\n",
       "      <td>NaN</td>\n",
       "      <td>NaN</td>\n",
       "      <td>...</td>\n",
       "      <td>41191.293558</td>\n",
       "      <td>39769.561458</td>\n",
       "      <td>39145.628207</td>\n",
       "      <td>40914.728524</td>\n",
       "      <td>42150.687509</td>\n",
       "      <td>44109.097620</td>\n",
       "      <td>44433.052190</td>\n",
       "      <td>45132.541432</td>\n",
       "      <td>45959.848264</td>\n",
       "      <td>40402.539837</td>\n",
       "    </tr>\n",
       "  </tbody>\n",
       "</table>\n",
       "<p>5 rows × 61 columns</p>\n",
       "</div>"
      ],
      "text/plain": [
       "     1960  1961  1962  1963  1964  1965  1966  1967  1968  1969  ...  \\\n",
       "ABW   NaN   NaN   NaN   NaN   NaN   NaN   NaN   NaN   NaN   NaN  ...   \n",
       "AFG   NaN   NaN   NaN   NaN   NaN   NaN   NaN   NaN   NaN   NaN  ...   \n",
       "AGO   NaN   NaN   NaN   NaN   NaN   NaN   NaN   NaN   NaN   NaN  ...   \n",
       "ALB   NaN   NaN   NaN   NaN   NaN   NaN   NaN   NaN   NaN   NaN  ...   \n",
       "AND   NaN   NaN   NaN   NaN   NaN   NaN   NaN   NaN   NaN   NaN  ...   \n",
       "\n",
       "             2011          2012          2013          2014          2015  \\\n",
       "ABW  24232.051233  23780.097972  24634.332150  24562.760936  25822.746343   \n",
       "AFG    528.736683    576.190088    587.565035    583.656018    574.184114   \n",
       "AGO   3579.960055   3748.451550   3796.881314   3843.198733   3748.320252   \n",
       "ALB   4209.874801   4276.607904   4327.379960   4413.296891   4524.373086   \n",
       "AND  41191.293558  39769.561458  39145.628207  40914.728524  42150.687509   \n",
       "\n",
       "             2016          2017          2018          2019          2020  \n",
       "ABW  26232.777663  26631.469041           NaN           NaN           NaN  \n",
       "AFG    571.075388    571.445241    564.617039    573.287506    549.391787  \n",
       "AGO   3530.310916   3409.927901   3233.903611   3111.157308   2890.892897  \n",
       "ALB   4681.826563   4864.310616   5074.857222   5207.305322   5064.061916  \n",
       "AND  44109.097620  44433.052190  45132.541432  45959.848264  40402.539837  \n",
       "\n",
       "[5 rows x 61 columns]"
      ]
     },
     "metadata": {},
     "output_type": "display_data"
    }
   ],
   "source": [
    "gdp = pd.Series(gdp_per_capita_values,index=mulind).unstack()\n",
    "display(gdp.head())"
   ]
  },
  {
   "cell_type": "markdown",
   "metadata": {},
   "source": [
    "Rows and columns are swapped through the application of `transpose()`."
   ]
  },
  {
   "cell_type": "code",
   "execution_count": 11,
   "metadata": {},
   "outputs": [
    {
     "data": {
      "text/html": [
       "<div>\n",
       "<style scoped>\n",
       "    .dataframe tbody tr th:only-of-type {\n",
       "        vertical-align: middle;\n",
       "    }\n",
       "\n",
       "    .dataframe tbody tr th {\n",
       "        vertical-align: top;\n",
       "    }\n",
       "\n",
       "    .dataframe thead th {\n",
       "        text-align: right;\n",
       "    }\n",
       "</style>\n",
       "<table border=\"1\" class=\"dataframe\">\n",
       "  <thead>\n",
       "    <tr style=\"text-align: right;\">\n",
       "      <th></th>\n",
       "      <th>ABW</th>\n",
       "      <th>AFG</th>\n",
       "      <th>AGO</th>\n",
       "      <th>ALB</th>\n",
       "      <th>AND</th>\n",
       "      <th>ARE</th>\n",
       "      <th>ARG</th>\n",
       "      <th>ARM</th>\n",
       "      <th>ASM</th>\n",
       "      <th>ATG</th>\n",
       "      <th>...</th>\n",
       "      <th>VCT</th>\n",
       "      <th>VEN</th>\n",
       "      <th>VIR</th>\n",
       "      <th>VNM</th>\n",
       "      <th>VUT</th>\n",
       "      <th>WSM</th>\n",
       "      <th>YEM</th>\n",
       "      <th>ZAF</th>\n",
       "      <th>ZMB</th>\n",
       "      <th>ZWE</th>\n",
       "    </tr>\n",
       "  </thead>\n",
       "  <tbody>\n",
       "    <tr>\n",
       "      <th>1960</th>\n",
       "      <td>NaN</td>\n",
       "      <td>NaN</td>\n",
       "      <td>NaN</td>\n",
       "      <td>NaN</td>\n",
       "      <td>NaN</td>\n",
       "      <td>NaN</td>\n",
       "      <td>5642.764587</td>\n",
       "      <td>NaN</td>\n",
       "      <td>NaN</td>\n",
       "      <td>NaN</td>\n",
       "      <td>...</td>\n",
       "      <td>1752.014362</td>\n",
       "      <td>12457.210022</td>\n",
       "      <td>NaN</td>\n",
       "      <td>NaN</td>\n",
       "      <td>NaN</td>\n",
       "      <td>NaN</td>\n",
       "      <td>NaN</td>\n",
       "      <td>4624.077033</td>\n",
       "      <td>1495.703272</td>\n",
       "      <td>994.698381</td>\n",
       "    </tr>\n",
       "    <tr>\n",
       "      <th>1961</th>\n",
       "      <td>NaN</td>\n",
       "      <td>NaN</td>\n",
       "      <td>NaN</td>\n",
       "      <td>NaN</td>\n",
       "      <td>NaN</td>\n",
       "      <td>NaN</td>\n",
       "      <td>5853.170781</td>\n",
       "      <td>NaN</td>\n",
       "      <td>NaN</td>\n",
       "      <td>NaN</td>\n",
       "      <td>...</td>\n",
       "      <td>1804.632391</td>\n",
       "      <td>12401.867700</td>\n",
       "      <td>NaN</td>\n",
       "      <td>NaN</td>\n",
       "      <td>NaN</td>\n",
       "      <td>NaN</td>\n",
       "      <td>NaN</td>\n",
       "      <td>4685.490949</td>\n",
       "      <td>1471.244667</td>\n",
       "      <td>1022.764137</td>\n",
       "    </tr>\n",
       "    <tr>\n",
       "      <th>1962</th>\n",
       "      <td>NaN</td>\n",
       "      <td>NaN</td>\n",
       "      <td>NaN</td>\n",
       "      <td>NaN</td>\n",
       "      <td>NaN</td>\n",
       "      <td>NaN</td>\n",
       "      <td>5711.182038</td>\n",
       "      <td>NaN</td>\n",
       "      <td>NaN</td>\n",
       "      <td>NaN</td>\n",
       "      <td>...</td>\n",
       "      <td>1847.223030</td>\n",
       "      <td>12992.822489</td>\n",
       "      <td>NaN</td>\n",
       "      <td>NaN</td>\n",
       "      <td>NaN</td>\n",
       "      <td>NaN</td>\n",
       "      <td>NaN</td>\n",
       "      <td>4852.780839</td>\n",
       "      <td>1392.222249</td>\n",
       "      <td>1002.974747</td>\n",
       "    </tr>\n",
       "    <tr>\n",
       "      <th>1963</th>\n",
       "      <td>NaN</td>\n",
       "      <td>NaN</td>\n",
       "      <td>NaN</td>\n",
       "      <td>NaN</td>\n",
       "      <td>NaN</td>\n",
       "      <td>NaN</td>\n",
       "      <td>5323.493318</td>\n",
       "      <td>NaN</td>\n",
       "      <td>NaN</td>\n",
       "      <td>NaN</td>\n",
       "      <td>...</td>\n",
       "      <td>1711.726256</td>\n",
       "      <td>13037.601796</td>\n",
       "      <td>NaN</td>\n",
       "      <td>NaN</td>\n",
       "      <td>NaN</td>\n",
       "      <td>NaN</td>\n",
       "      <td>NaN</td>\n",
       "      <td>5081.233260</td>\n",
       "      <td>1395.225016</td>\n",
       "      <td>1030.026148</td>\n",
       "    </tr>\n",
       "    <tr>\n",
       "      <th>1964</th>\n",
       "      <td>NaN</td>\n",
       "      <td>NaN</td>\n",
       "      <td>NaN</td>\n",
       "      <td>NaN</td>\n",
       "      <td>NaN</td>\n",
       "      <td>NaN</td>\n",
       "      <td>5772.649438</td>\n",
       "      <td>NaN</td>\n",
       "      <td>NaN</td>\n",
       "      <td>NaN</td>\n",
       "      <td>...</td>\n",
       "      <td>1755.424051</td>\n",
       "      <td>13999.206299</td>\n",
       "      <td>NaN</td>\n",
       "      <td>NaN</td>\n",
       "      <td>NaN</td>\n",
       "      <td>NaN</td>\n",
       "      <td>NaN</td>\n",
       "      <td>5347.340956</td>\n",
       "      <td>1519.023893</td>\n",
       "      <td>984.670135</td>\n",
       "    </tr>\n",
       "  </tbody>\n",
       "</table>\n",
       "<p>5 rows × 206 columns</p>\n",
       "</div>"
      ],
      "text/plain": [
       "      ABW  AFG  AGO  ALB  AND  ARE          ARG  ARM  ASM  ATG  ...  \\\n",
       "1960  NaN  NaN  NaN  NaN  NaN  NaN  5642.764587  NaN  NaN  NaN  ...   \n",
       "1961  NaN  NaN  NaN  NaN  NaN  NaN  5853.170781  NaN  NaN  NaN  ...   \n",
       "1962  NaN  NaN  NaN  NaN  NaN  NaN  5711.182038  NaN  NaN  NaN  ...   \n",
       "1963  NaN  NaN  NaN  NaN  NaN  NaN  5323.493318  NaN  NaN  NaN  ...   \n",
       "1964  NaN  NaN  NaN  NaN  NaN  NaN  5772.649438  NaN  NaN  NaN  ...   \n",
       "\n",
       "              VCT           VEN  VIR  VNM  VUT  WSM  YEM          ZAF  \\\n",
       "1960  1752.014362  12457.210022  NaN  NaN  NaN  NaN  NaN  4624.077033   \n",
       "1961  1804.632391  12401.867700  NaN  NaN  NaN  NaN  NaN  4685.490949   \n",
       "1962  1847.223030  12992.822489  NaN  NaN  NaN  NaN  NaN  4852.780839   \n",
       "1963  1711.726256  13037.601796  NaN  NaN  NaN  NaN  NaN  5081.233260   \n",
       "1964  1755.424051  13999.206299  NaN  NaN  NaN  NaN  NaN  5347.340956   \n",
       "\n",
       "              ZMB          ZWE  \n",
       "1960  1495.703272   994.698381  \n",
       "1961  1471.244667  1022.764137  \n",
       "1962  1392.222249  1002.974747  \n",
       "1963  1395.225016  1030.026148  \n",
       "1964  1519.023893   984.670135  \n",
       "\n",
       "[5 rows x 206 columns]"
      ]
     },
     "metadata": {},
     "output_type": "display_data"
    }
   ],
   "source": [
    "display(gdp.transpose().head())"
   ]
  },
  {
   "cell_type": "markdown",
   "metadata": {},
   "source": [
    "Apply the `describe()` method to obtain summary statistics of a DataFrame."
   ]
  },
  {
   "cell_type": "code",
   "execution_count": 12,
   "metadata": {},
   "outputs": [
    {
     "data": {
      "text/html": [
       "<div>\n",
       "<style scoped>\n",
       "    .dataframe tbody tr th:only-of-type {\n",
       "        vertical-align: middle;\n",
       "    }\n",
       "\n",
       "    .dataframe tbody tr th {\n",
       "        vertical-align: top;\n",
       "    }\n",
       "\n",
       "    .dataframe thead th {\n",
       "        text-align: right;\n",
       "    }\n",
       "</style>\n",
       "<table border=\"1\" class=\"dataframe\">\n",
       "  <thead>\n",
       "    <tr style=\"text-align: right;\">\n",
       "      <th></th>\n",
       "      <th>count</th>\n",
       "      <th>mean</th>\n",
       "      <th>std</th>\n",
       "      <th>min</th>\n",
       "      <th>25%</th>\n",
       "      <th>50%</th>\n",
       "      <th>75%</th>\n",
       "      <th>max</th>\n",
       "    </tr>\n",
       "  </thead>\n",
       "  <tbody>\n",
       "    <tr>\n",
       "      <th>1960</th>\n",
       "      <td>88.0</td>\n",
       "      <td>4801.643199</td>\n",
       "      <td>6785.401022</td>\n",
       "      <td>159.464844</td>\n",
       "      <td>824.158161</td>\n",
       "      <td>1537.227111</td>\n",
       "      <td>4836.714774</td>\n",
       "      <td>33362.707616</td>\n",
       "    </tr>\n",
       "    <tr>\n",
       "      <th>1961</th>\n",
       "      <td>91.0</td>\n",
       "      <td>4863.271181</td>\n",
       "      <td>6929.429790</td>\n",
       "      <td>141.035481</td>\n",
       "      <td>827.529125</td>\n",
       "      <td>1568.439374</td>\n",
       "      <td>4837.365113</td>\n",
       "      <td>34079.763858</td>\n",
       "    </tr>\n",
       "    <tr>\n",
       "      <th>1962</th>\n",
       "      <td>91.0</td>\n",
       "      <td>5005.345199</td>\n",
       "      <td>7115.342560</td>\n",
       "      <td>132.077606</td>\n",
       "      <td>856.736269</td>\n",
       "      <td>1638.749922</td>\n",
       "      <td>5131.344211</td>\n",
       "      <td>34762.712087</td>\n",
       "    </tr>\n",
       "    <tr>\n",
       "      <th>1963</th>\n",
       "      <td>91.0</td>\n",
       "      <td>5155.617404</td>\n",
       "      <td>7273.111372</td>\n",
       "      <td>142.144897</td>\n",
       "      <td>823.585829</td>\n",
       "      <td>1589.296345</td>\n",
       "      <td>5291.232065</td>\n",
       "      <td>34324.439555</td>\n",
       "    </tr>\n",
       "    <tr>\n",
       "      <th>1964</th>\n",
       "      <td>91.0</td>\n",
       "      <td>5432.355079</td>\n",
       "      <td>7746.573007</td>\n",
       "      <td>163.028875</td>\n",
       "      <td>812.654352</td>\n",
       "      <td>1615.503211</td>\n",
       "      <td>5492.737711</td>\n",
       "      <td>37201.985776</td>\n",
       "    </tr>\n",
       "  </tbody>\n",
       "</table>\n",
       "</div>"
      ],
      "text/plain": [
       "      count         mean          std         min         25%          50%  \\\n",
       "1960   88.0  4801.643199  6785.401022  159.464844  824.158161  1537.227111   \n",
       "1961   91.0  4863.271181  6929.429790  141.035481  827.529125  1568.439374   \n",
       "1962   91.0  5005.345199  7115.342560  132.077606  856.736269  1638.749922   \n",
       "1963   91.0  5155.617404  7273.111372  142.144897  823.585829  1589.296345   \n",
       "1964   91.0  5432.355079  7746.573007  163.028875  812.654352  1615.503211   \n",
       "\n",
       "              75%           max  \n",
       "1960  4836.714774  33362.707616  \n",
       "1961  4837.365113  34079.763858  \n",
       "1962  5131.344211  34762.712087  \n",
       "1963  5291.232065  34324.439555  \n",
       "1964  5492.737711  37201.985776  "
      ]
     },
     "metadata": {},
     "output_type": "display_data"
    }
   ],
   "source": [
    "display(gdp.describe().transpose().head())"
   ]
  },
  {
   "cell_type": "markdown",
   "metadata": {},
   "source": [
    "Apply the GroupBy mechanism to aggregate the GDP per capita data from the DataFrame `gdp_full` in decades, using `min`, `median`, and `max` as aggregation functions.\n",
    "\n",
    "*Hint*: Consult [section 3.08 Aggregation and Grouping](https://jakevdp.github.io/PythonDataScienceHandbook/03.08-aggregation-and-grouping.html) of the \n",
    "[Python Data Science Handbook by Jake Vanderplas](https://jakevdp.github.io/PythonDataScienceHandbook/) for an effective implementation of decade aggregation."
   ]
  },
  {
   "cell_type": "code",
   "execution_count": 14,
   "metadata": {},
   "outputs": [
    {
     "data": {
      "text/html": [
       "<div>\n",
       "<style scoped>\n",
       "    .dataframe tbody tr th:only-of-type {\n",
       "        vertical-align: middle;\n",
       "    }\n",
       "\n",
       "    .dataframe tbody tr th {\n",
       "        vertical-align: top;\n",
       "    }\n",
       "\n",
       "    .dataframe thead th {\n",
       "        text-align: right;\n",
       "    }\n",
       "</style>\n",
       "<table border=\"1\" class=\"dataframe\">\n",
       "  <thead>\n",
       "    <tr style=\"text-align: right;\">\n",
       "      <th></th>\n",
       "      <th>min</th>\n",
       "      <th>mean</th>\n",
       "      <th>max</th>\n",
       "    </tr>\n",
       "    <tr>\n",
       "      <th>Year</th>\n",
       "      <th></th>\n",
       "      <th></th>\n",
       "      <th></th>\n",
       "    </tr>\n",
       "  </thead>\n",
       "  <tbody>\n",
       "    <tr>\n",
       "      <th>1960</th>\n",
       "      <td>159.464844</td>\n",
       "      <td>4801.643199</td>\n",
       "      <td>33362.707616</td>\n",
       "    </tr>\n",
       "    <tr>\n",
       "      <th>1961</th>\n",
       "      <td>141.035481</td>\n",
       "      <td>4863.271181</td>\n",
       "      <td>34079.763858</td>\n",
       "    </tr>\n",
       "    <tr>\n",
       "      <th>1962</th>\n",
       "      <td>132.077606</td>\n",
       "      <td>5005.345199</td>\n",
       "      <td>34762.712087</td>\n",
       "    </tr>\n",
       "    <tr>\n",
       "      <th>1963</th>\n",
       "      <td>142.144897</td>\n",
       "      <td>5155.617404</td>\n",
       "      <td>34324.439555</td>\n",
       "    </tr>\n",
       "    <tr>\n",
       "      <th>1964</th>\n",
       "      <td>163.028875</td>\n",
       "      <td>5432.355079</td>\n",
       "      <td>37201.985776</td>\n",
       "    </tr>\n",
       "  </tbody>\n",
       "</table>\n",
       "</div>"
      ],
      "text/plain": [
       "             min         mean           max\n",
       "Year                                       \n",
       "1960  159.464844  4801.643199  33362.707616\n",
       "1961  141.035481  4863.271181  34079.763858\n",
       "1962  132.077606  5005.345199  34762.712087\n",
       "1963  142.144897  5155.617404  34324.439555\n",
       "1964  163.028875  5432.355079  37201.985776"
      ]
     },
     "execution_count": 14,
     "metadata": {},
     "output_type": "execute_result"
    }
   ],
   "source": [
    "gdp_full.groupby('Year')['GDP/cap.'].aggregate(['min','mean','max']).head()"
   ]
  },
  {
   "cell_type": "markdown",
   "metadata": {},
   "source": [
    "## Assignment: Pivot tables [7]"
   ]
  },
  {
   "cell_type": "markdown",
   "metadata": {},
   "source": [
    "The pivot table below shows the median life expectancy at birth in the six decades since 1960 for selected intervals of GDP per capita in 2010 US\\$. As before, all statistics are based on the country distributions given in the files `life-expectancy-at-birth-total-years.csv` and `gdp-per-capita-in-us-dollar-world-bank.csv`.\n",
    "\n",
    "![](leb_gdpint_decade.png)\n",
    "\n",
    "Follow the instructions below to reproduce this pivot table."
   ]
  },
  {
   "cell_type": "markdown",
   "metadata": {},
   "source": [
    "Using the Pandas functions `read_csv()` and `merge()`, join the contents of the files `life-expectancy-at-birth-total-years.csv` and `gdp-per-capita-in-us-dollar-world-bank.csv` to obtain a single Pandas DataFrame object `leb_gdp`. Drop undefined data and world regions, keeping only data from indvidual countries, and rename inconveniently long column labels. See the first session of the Python Data Lab for an implementation of this sequence of operations."
   ]
  },
  {
   "cell_type": "code",
   "execution_count": null,
   "metadata": {},
   "outputs": [],
   "source": []
  },
  {
   "cell_type": "markdown",
   "metadata": {},
   "source": [
    "Construct the variable `decade` from the `Year` column of the DataFrame `leb_gdp`."
   ]
  },
  {
   "cell_type": "code",
   "execution_count": null,
   "metadata": {},
   "outputs": [],
   "source": []
  },
  {
   "cell_type": "markdown",
   "metadata": {},
   "source": [
    "Using the Pandas function `cut()`, define partitions of the GDP per capita data column in `leb_gdp` into intervals with boundaries `0,300,1000,3000,10000,30000,100000,300000`, and save them in the variable `gdp_partition`."
   ]
  },
  {
   "cell_type": "code",
   "execution_count": null,
   "metadata": {},
   "outputs": [],
   "source": []
  },
  {
   "cell_type": "markdown",
   "metadata": {},
   "source": [
    "Call the Pandas function `pivot_table()` on the life expectancy at birth column as key variable, with `decade` and `gdp_partition` as further arguments, and `median` as the aggregation function. "
   ]
  },
  {
   "cell_type": "code",
   "execution_count": null,
   "metadata": {},
   "outputs": [],
   "source": []
  },
  {
   "cell_type": "markdown",
   "metadata": {},
   "source": [
    "---\n",
    "---"
   ]
  }
 ],
 "metadata": {
  "kernelspec": {
   "display_name": "Python 3 (ipykernel)",
   "language": "python",
   "name": "python3"
  },
  "language_info": {
   "codemirror_mode": {
    "name": "ipython",
    "version": 3
   },
   "file_extension": ".py",
   "mimetype": "text/x-python",
   "name": "python",
   "nbconvert_exporter": "python",
   "pygments_lexer": "ipython3",
   "version": "3.9.13"
  }
 },
 "nbformat": 4,
 "nbformat_minor": 4
}
