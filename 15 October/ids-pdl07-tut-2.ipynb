{
 "cells": [
  {
   "cell_type": "markdown",
   "metadata": {
    "collapsed": true
   },
   "source": [
    "**ids-pdl07-tut.ipynb**: This Jupyter notebook is provided by Joachim Vogt for the _Python Data Lab_ of the module _Introduction to Data Science_ offered in Fall 2022 at Jacobs University Bremen. Module instructors are Hilke Brockmann, Adalbert Wilhelm, and Joachim Vogt. Jupyter notebooks and other learning resources are available from a dedicated _module platform_."
   ]
  },
  {
   "cell_type": "markdown",
   "metadata": {},
   "source": [
    "# Python scripts and functions"
   ]
  },
  {
   "cell_type": "markdown",
   "metadata": {},
   "source": [
    "This tutorial is concerned with Python scripts and functions. The underlying concepts are demonstrated by means of a basic operation in signal processing, namely, finite differencing applied to discrete variables. Follow the instructions below to learn to\n",
    "\n",
    "- [ ] apply the finite differencing operation to NumPy arrays,\n",
    "- [ ] compute numerical approximations of function derivatives,\n",
    "- [ ] store and run Python script files,\n",
    "- [ ] compose and call Python functions, \n",
    "- [ ] save and import Python functions,\n",
    "- [ ] work with NumPy polynomial objects.\n",
    "\n",
    "If you wish to keep track of your progress, you may edit this markdown cell, check a box in the list above after having worked through the respective part of this notebook, and save the file.\n",
    "\n",
    "*Short exercises* are embedded in this notebook. *Sample solutions* can be found at the end of the document."
   ]
  },
  {
   "cell_type": "markdown",
   "metadata": {},
   "source": [
    "## Preparation"
   ]
  },
  {
   "cell_type": "markdown",
   "metadata": {},
   "source": [
    "The following Python script and module files are expected to reside in the working directory. Identify the files on the module platform and upload them to the same folder as this Jupyter notebook.\n",
    "\n",
    "- `print_dfodx.py`: sample script file provided for the section *Python scripts*.\n",
    "- `eqdist.py`: sample module file provided for the section *Function imports*."
   ]
  },
  {
   "cell_type": "markdown",
   "metadata": {},
   "source": [
    "Run the following code cell to import standard Python data science libraries. The NumPy module facilitates efficient processing of numerical arrays, and is usually imported as `np`. From the matplotlib library we import the package `pyplot` using the standard abbreviation `plt`. The magic command `%matplotlib inline` (IPython shell) allows for inline display of graphics."
   ]
  },
  {
   "cell_type": "code",
   "execution_count": 1,
   "metadata": {},
   "outputs": [
    {
     "name": "stdout",
     "output_type": "stream",
     "text": [
      "Collecting package metadata (current_repodata.json): done\n",
      "Solving environment: done\n",
      "\n",
      "## Package Plan ##\n",
      "\n",
      "  environment location: /Users/hikmetromanov/opt/anaconda3\n",
      "\n",
      "  added / updated specs:\n",
      "    - jupyterthemes\n",
      "\n",
      "\n",
      "The following packages will be downloaded:\n",
      "\n",
      "    package                    |            build\n",
      "    ---------------------------|-----------------\n",
      "    jupyterthemes-0.20.0       |             py_1         6.1 MB  conda-forge\n",
      "    lesscpy-0.15.1             |     pyhd8ed1ab_0          39 KB  conda-forge\n",
      "    ------------------------------------------------------------\n",
      "                                           Total:         6.1 MB\n",
      "\n",
      "The following NEW packages will be INSTALLED:\n",
      "\n",
      "  jupyterthemes      conda-forge/noarch::jupyterthemes-0.20.0-py_1 None\n",
      "  lesscpy            conda-forge/noarch::lesscpy-0.15.1-pyhd8ed1ab_0 None\n",
      "\n",
      "\n",
      "\n",
      "Downloading and Extracting Packages\n",
      "jupyterthemes-0.20.0 | 6.1 MB    | ##################################### | 100% \n",
      "lesscpy-0.15.1       | 39 KB     | ##################################### | 100% \n",
      "Preparing transaction: done\n",
      "Verifying transaction: done\n",
      "Executing transaction: done\n",
      "Retrieving notices: ...working... done\n",
      "\n",
      "Note: you may need to restart the kernel to use updated packages.\n"
     ]
    }
   ],
   "source": [
    "conda install -c conda-forge jupyterthemes"
   ]
  },
  {
   "cell_type": "markdown",
   "metadata": {},
   "source": [
    "## Differencing of discrete variables"
   ]
  },
  {
   "cell_type": "markdown",
   "metadata": {},
   "source": [
    "Differencing of discrete variables is a basic operation entering a variety of data analysis and modeling tasks such as approximating rates of change or finding data gaps in time series."
   ]
  },
  {
   "cell_type": "markdown",
   "metadata": {},
   "source": [
    "### Efficient differencing of NumPy arrays"
   ]
  },
  {
   "cell_type": "markdown",
   "metadata": {},
   "source": [
    "Consider a NumPy array `x`. The arrays `x[1:]`  and `x[:-1]` extract sub-arrays with elements `x[1],x[2],...,x[-1]` and `x[0],x[1],x[2],...,x[-2]`, respectively."
   ]
  },
  {
   "cell_type": "code",
   "execution_count": 10,
   "metadata": {},
   "outputs": [
    {
     "name": "stdout",
     "output_type": "stream",
     "text": [
      "Array x=x[:] : [1 2 4 6 7 8]\n",
      "Array x[1:]  : [2 4 6 7 8]\n",
      "Array x[:-1] : [1 2 4 6 7]\n"
     ]
    }
   ],
   "source": [
    "x = np.array([1,2,4,6,7,8])\n",
    "print('Array x=x[:] :',x[:])\n",
    "print('Array x[1:]  :',x[1:])\n",
    "print('Array x[:-1] :',x[:-1])"
   ]
  },
  {
   "cell_type": "markdown",
   "metadata": {},
   "source": [
    "The set of differences `x[1]-x[0],x[2]-x[1],x[3]-x[2],...` (i.e., $x_{j+1}-x_j,j=0,1,2,\\ldots$) are thus elements of the array `x[1:]-x[:-1]`."
   ]
  },
  {
   "cell_type": "code",
   "execution_count": 11,
   "metadata": {},
   "outputs": [
    {
     "name": "stdout",
     "output_type": "stream",
     "text": [
      "Array x     :  [1 2 4 6 7 8]\n",
      "Differences :  [1 2 2 1 1]\n"
     ]
    }
   ],
   "source": [
    "x = np.array([1,2,4,6,7,8])\n",
    "dx = x[1:] - x[:-1]\n",
    "print('Array x     : ',x)\n",
    "print('Differences : ',dx)"
   ]
  },
  {
   "cell_type": "markdown",
   "metadata": {},
   "source": [
    "The same procedure can be applied to obtain the set of arithmetic means $\\bar{x}_j = \\frac{1}{2}(x_{j+1}+x_j), j=0,1,2,\\ldots$ of successive elements in a numerical array."
   ]
  },
  {
   "cell_type": "code",
   "execution_count": 12,
   "metadata": {},
   "outputs": [
    {
     "name": "stdout",
     "output_type": "stream",
     "text": [
      "Array x          :  [1. 2. 4. 6. 7. 8.]\n",
      "Arithmetic means :  [1.5 3.  5.  6.5 7.5]\n"
     ]
    }
   ],
   "source": [
    "x = np.array([1,2,4,6,7,8],dtype=float)\n",
    "xm = 0.5*( x[1:] + x[:-1] )\n",
    "print('Array x          : ',x)\n",
    "print('Arithmetic means : ',xm)"
   ]
  },
  {
   "cell_type": "markdown",
   "metadata": {},
   "source": [
    "### Numerical differentiation"
   ]
  },
  {
   "cell_type": "markdown",
   "metadata": {},
   "source": [
    "Suppose an ordinary function $f = f(x)$ is approximated by discrete values $f_0,f_1,f_2,\\ldots$ on a numerical grid $x_0,x_1,x_2,\\ldots$, then the so-called *centered finite differencing approximation* $f^\\ast_j = f^\\ast (\\bar{x}_j)$ of the derivative $f'(x) = \\frac{\\mathrm{d} f}{\\mathrm{d} x}$ is given by\n",
    "$$\n",
    "f^\\ast_j \\; = \\; \\frac{f_{j+1}-f_j}{x_{j+1}-x_j} ~,~ j=0,1,2,\\ldots\n",
    "$$\n",
    "This approximation is second-order accurate, implying that the derivatives of quadratic polynomials at points $\\bar{x}_j = \\frac{1}{2}(x_{j+1}+x_j), j=0,1,2,\\ldots$ are reproduced exactly."
   ]
  },
  {
   "cell_type": "code",
   "execution_count": 13,
   "metadata": {},
   "outputs": [
    {
     "name": "stdout",
     "output_type": "stream",
     "text": [
      "Grid     x :  [1. 2. 4. 6. 7. 8.]\n",
      "Function f :  [-12. -14. -12.  -2.   6.  16.]\n",
      "\n",
      "First derivative of function f\n",
      "* Array of arithmetic means         :  [1.5 3.  5.  6.5 7.5]\n",
      "* Finite differencing approximation :  [-2.  1.  5.  8. 10.]\n",
      "* Evaluation of exact derivative    :  [-2.  1.  5.  8. 10.]\n"
     ]
    }
   ],
   "source": [
    "### Define and display numerical grid x and grid function f.\n",
    "x = np.array([1,2,4,6,7,8],dtype=float)\n",
    "f = x**2 - 5*x - 8\n",
    "print('Grid     x : ',x)\n",
    "print('Function f : ',f)\n",
    "print()\n",
    "\n",
    "### Compute arithmetic means and differences.\n",
    "xm = 0.5*( x[1:] + x[:-1] )\n",
    "dx = x[1:] - x[:-1]\n",
    "df = f[1:] - f[:-1]\n",
    "\n",
    "### Compute approximate and exact derivatives.\n",
    "dfodx_approx = df/dx\n",
    "dfodx_exact  = 2*xm - 5\n",
    "\n",
    "### Print results.\n",
    "print('First derivative of function f')\n",
    "print('* Array of arithmetic means         : ',xm)\n",
    "print('* Finite differencing approximation : ',dfodx_approx)\n",
    "print('* Evaluation of exact derivative    : ',dfodx_exact)"
   ]
  },
  {
   "cell_type": "markdown",
   "metadata": {},
   "source": [
    "### Exercise: Differencing of discrete variables"
   ]
  },
  {
   "cell_type": "markdown",
   "metadata": {},
   "source": [
    "Repeat the previous example using the same numerical grid `x` but evaluating the cubic function $f(x) = x^3 - 9x^2 + 80$. Convince yourself that the centered differencing approximation does not exactly reproduce the values of the first derivative $f'(x) = 3 x^2 - 18x$."
   ]
  },
  {
   "cell_type": "code",
   "execution_count": 14,
   "metadata": {},
   "outputs": [],
   "source": [
    "### Define numerical grid x and grid function f.\n",
    "\n",
    "### Compute arithmetic means and differences.\n",
    "\n",
    "### Compute approximate and exact derivatives.\n",
    "\n",
    "### Print results.\n"
   ]
  },
  {
   "cell_type": "markdown",
   "metadata": {},
   "source": [
    "## Python scripts"
   ]
  },
  {
   "cell_type": "markdown",
   "metadata": {},
   "source": [
    "A Python script consists of a series of instructions that are executed as a block. Python scripts are usually stored as separate files with the extension `.py`, and can then be run, e.g., within an IPython shell (or Jupyter notebook code cell) or from the terminal prompt. Suppose the script is named `script.py`, then in a terminal window enter after the prompt:\n",
    "\n",
    "    python script.py\n",
    "\n",
    "In an IPython shell, you may run the script with or without the extension `.py` using the magic command `%run`:\n",
    "\n",
    "    %run script.py\n",
    "    %run script"
   ]
  },
  {
   "cell_type": "markdown",
   "metadata": {},
   "source": [
    "To demonstrate the syntax and the underlying logic, reconsider the example from the previous section. Necessary imports need to be included to make the script self-contained. The instructions are assembled in the following code cell."
   ]
  },
  {
   "cell_type": "code",
   "execution_count": 15,
   "metadata": {},
   "outputs": [
    {
     "name": "stdout",
     "output_type": "stream",
     "text": [
      "Grid     x :  [1. 2. 4. 6. 7. 8.]\n",
      "Function f :  [-12. -14. -12.  -2.   6.  16.]\n",
      "\n",
      "First derivative of function f\n",
      "* Array of arithmetic means         :  [1.5 3.  5.  6.5 7.5]\n",
      "* Finite differencing approximation :  [-2.  1.  5.  8. 10.]\n",
      "* Evaluation of exact derivative    :  [-2.  1.  5.  8. 10.]\n"
     ]
    }
   ],
   "source": [
    "### Include necessary imports.\n",
    "import numpy as np\n",
    "\n",
    "### Define and display numerical grid x and grid function f.\n",
    "x = np.array([1,2,4,6,7,8],dtype=float)\n",
    "f = x**2 - 5*x - 8\n",
    "print('Grid     x : ',x)\n",
    "print('Function f : ',f)\n",
    "print()\n",
    "\n",
    "### Compute arithmetic means and differences.\n",
    "xm = 0.5*( x[1:] + x[:-1] )\n",
    "dx = x[1:] - x[:-1]\n",
    "df = f[1:] - f[:-1]\n",
    "\n",
    "### Compute approximate and exact derivatives.\n",
    "dfodx_approx = df/dx\n",
    "dfodx_exact  = 2*xm - 5\n",
    "\n",
    "### Print results.\n",
    "print('First derivative of function f')\n",
    "print('* Array of arithmetic means         : ',xm)\n",
    "print('* Finite differencing approximation : ',dfodx_approx)\n",
    "print('* Evaluation of exact derivative    : ',dfodx_exact)"
   ]
  },
  {
   "cell_type": "markdown",
   "metadata": {},
   "source": [
    "The same series of instructions can be found in the file `print_dfodx.py`. In the browser currently running this Jupyter notebook, select the tab showing the working directory and click on the file. In the new tab that opens, the file content is displayed and may be modified. At present we do not change the file but simply run `print_dfodx.py` by executing the following code cell."
   ]
  },
  {
   "cell_type": "code",
   "execution_count": 17,
   "metadata": {},
   "outputs": [
    {
     "ename": "Exception",
     "evalue": "File `'print_dfodx.py'` not found.",
     "output_type": "error",
     "traceback": [
      "\u001b[0;31m---------------------------------------------------------------------------\u001b[0m",
      "\u001b[0;31mOSError\u001b[0m                                   Traceback (most recent call last)",
      "File \u001b[0;32m~/opt/anaconda3/lib/python3.9/site-packages/IPython/core/magics/execution.py:696\u001b[0m, in \u001b[0;36mExecutionMagics.run\u001b[0;34m(self, parameter_s, runner, file_finder)\u001b[0m\n\u001b[1;32m    695\u001b[0m     fpath \u001b[38;5;241m=\u001b[39m arg_lst[\u001b[38;5;241m0\u001b[39m]\n\u001b[0;32m--> 696\u001b[0m     filename \u001b[38;5;241m=\u001b[39m \u001b[43mfile_finder\u001b[49m\u001b[43m(\u001b[49m\u001b[43mfpath\u001b[49m\u001b[43m)\u001b[49m\n\u001b[1;32m    697\u001b[0m \u001b[38;5;28;01mexcept\u001b[39;00m \u001b[38;5;167;01mIndexError\u001b[39;00m \u001b[38;5;28;01mas\u001b[39;00m e:\n",
      "File \u001b[0;32m~/opt/anaconda3/lib/python3.9/site-packages/IPython/utils/path.py:91\u001b[0m, in \u001b[0;36mget_py_filename\u001b[0;34m(name)\u001b[0m\n\u001b[1;32m     90\u001b[0m \u001b[38;5;28;01melse\u001b[39;00m:\n\u001b[0;32m---> 91\u001b[0m     \u001b[38;5;28;01mraise\u001b[39;00m \u001b[38;5;167;01mIOError\u001b[39;00m(\u001b[38;5;124m'\u001b[39m\u001b[38;5;124mFile `\u001b[39m\u001b[38;5;132;01m%r\u001b[39;00m\u001b[38;5;124m` not found.\u001b[39m\u001b[38;5;124m'\u001b[39m \u001b[38;5;241m%\u001b[39m name)\n",
      "\u001b[0;31mOSError\u001b[0m: File `'print_dfodx.py'` not found.",
      "\nThe above exception was the direct cause of the following exception:\n",
      "\u001b[0;31mException\u001b[0m                                 Traceback (most recent call last)",
      "Input \u001b[0;32mIn [17]\u001b[0m, in \u001b[0;36m<cell line: 1>\u001b[0;34m()\u001b[0m\n\u001b[0;32m----> 1\u001b[0m \u001b[43mget_ipython\u001b[49m\u001b[43m(\u001b[49m\u001b[43m)\u001b[49m\u001b[38;5;241;43m.\u001b[39;49m\u001b[43mrun_line_magic\u001b[49m\u001b[43m(\u001b[49m\u001b[38;5;124;43m'\u001b[39;49m\u001b[38;5;124;43mrun\u001b[39;49m\u001b[38;5;124;43m'\u001b[39;49m\u001b[43m,\u001b[49m\u001b[43m \u001b[49m\u001b[38;5;124;43m'\u001b[39;49m\u001b[38;5;124;43mprint_dfodx.py\u001b[39;49m\u001b[38;5;124;43m'\u001b[39;49m\u001b[43m)\u001b[49m\n",
      "File \u001b[0;32m~/opt/anaconda3/lib/python3.9/site-packages/IPython/core/interactiveshell.py:2305\u001b[0m, in \u001b[0;36mInteractiveShell.run_line_magic\u001b[0;34m(self, magic_name, line, _stack_depth)\u001b[0m\n\u001b[1;32m   2303\u001b[0m     kwargs[\u001b[38;5;124m'\u001b[39m\u001b[38;5;124mlocal_ns\u001b[39m\u001b[38;5;124m'\u001b[39m] \u001b[38;5;241m=\u001b[39m \u001b[38;5;28mself\u001b[39m\u001b[38;5;241m.\u001b[39mget_local_scope(stack_depth)\n\u001b[1;32m   2304\u001b[0m \u001b[38;5;28;01mwith\u001b[39;00m \u001b[38;5;28mself\u001b[39m\u001b[38;5;241m.\u001b[39mbuiltin_trap:\n\u001b[0;32m-> 2305\u001b[0m     result \u001b[38;5;241m=\u001b[39m \u001b[43mfn\u001b[49m\u001b[43m(\u001b[49m\u001b[38;5;241;43m*\u001b[39;49m\u001b[43margs\u001b[49m\u001b[43m,\u001b[49m\u001b[43m \u001b[49m\u001b[38;5;241;43m*\u001b[39;49m\u001b[38;5;241;43m*\u001b[39;49m\u001b[43mkwargs\u001b[49m\u001b[43m)\u001b[49m\n\u001b[1;32m   2306\u001b[0m \u001b[38;5;28;01mreturn\u001b[39;00m result\n",
      "File \u001b[0;32m~/opt/anaconda3/lib/python3.9/site-packages/IPython/core/magics/execution.py:707\u001b[0m, in \u001b[0;36mExecutionMagics.run\u001b[0;34m(self, parameter_s, runner, file_finder)\u001b[0m\n\u001b[1;32m    705\u001b[0m     \u001b[38;5;28;01mif\u001b[39;00m os\u001b[38;5;241m.\u001b[39mname \u001b[38;5;241m==\u001b[39m \u001b[38;5;124m'\u001b[39m\u001b[38;5;124mnt\u001b[39m\u001b[38;5;124m'\u001b[39m \u001b[38;5;129;01mand\u001b[39;00m re\u001b[38;5;241m.\u001b[39mmatch(\u001b[38;5;124mr\u001b[39m\u001b[38;5;124m\"\u001b[39m\u001b[38;5;124m^\u001b[39m\u001b[38;5;124m'\u001b[39m\u001b[38;5;124m.*\u001b[39m\u001b[38;5;124m'\u001b[39m\u001b[38;5;124m$\u001b[39m\u001b[38;5;124m\"\u001b[39m,fpath):\n\u001b[1;32m    706\u001b[0m         warn(\u001b[38;5;124m'\u001b[39m\u001b[38;5;124mFor Windows, use double quotes to wrap a filename: \u001b[39m\u001b[38;5;132;01m%r\u001b[39;00m\u001b[38;5;124mun \u001b[39m\u001b[38;5;124m\"\u001b[39m\u001b[38;5;124mmypath\u001b[39m\u001b[38;5;130;01m\\\\\u001b[39;00m\u001b[38;5;124mmyfile.py\u001b[39m\u001b[38;5;124m\"\u001b[39m\u001b[38;5;124m'\u001b[39m)\n\u001b[0;32m--> 707\u001b[0m     \u001b[38;5;28;01mraise\u001b[39;00m \u001b[38;5;167;01mException\u001b[39;00m(msg) \u001b[38;5;28;01mfrom\u001b[39;00m \u001b[38;5;21;01me\u001b[39;00m\n\u001b[1;32m    708\u001b[0m \u001b[38;5;28;01mexcept\u001b[39;00m \u001b[38;5;167;01mTypeError\u001b[39;00m:\n\u001b[1;32m    709\u001b[0m     \u001b[38;5;28;01mif\u001b[39;00m fpath \u001b[38;5;129;01min\u001b[39;00m sys\u001b[38;5;241m.\u001b[39mmeta_path:\n",
      "\u001b[0;31mException\u001b[0m: File `'print_dfodx.py'` not found."
     ]
    }
   ],
   "source": [
    "%run print_dfodx.py"
   ]
  },
  {
   "cell_type": "markdown",
   "metadata": {},
   "source": [
    "To demonstrate execution in a terminal window, go back to the browser tab showing the working directory, click on the `New` button and select `Terminal`. After the prompt enter\n",
    "\n",
    "    python print_dfodx.py"
   ]
  },
  {
   "cell_type": "markdown",
   "metadata": {},
   "source": [
    "Execution of the script in a stand-alone IPython shell can also be demonstrated using the open terminal window. After the prompt enter\n",
    "\n",
    "    ipython\n",
    "\n",
    "to open an IPython shell, then enter\n",
    "\n",
    "    %run print_dfodx.py\n",
    "\n",
    "or\n",
    "\n",
    "    %run print_dfodx"
   ]
  },
  {
   "cell_type": "markdown",
   "metadata": {},
   "source": [
    "Now return to the tab showing the content of the file `print_dfodx.py`. In the definition of the function `f`, change the constant coefficient from `-8` to `-4` so that the function definition reads `f = x**2 - 5*x - 4` (this should affect the function values but not the derivatives). Save the modified file, then run the script again. If you want to distinguish the two versions, you may store the new file under another name such as `print_dfodx_modified.py` before running the script."
   ]
  },
  {
   "cell_type": "code",
   "execution_count": 18,
   "metadata": {},
   "outputs": [
    {
     "ename": "Exception",
     "evalue": "File `'print_dfodx_modified.py'` not found.",
     "output_type": "error",
     "traceback": [
      "\u001b[0;31m---------------------------------------------------------------------------\u001b[0m",
      "\u001b[0;31mOSError\u001b[0m                                   Traceback (most recent call last)",
      "File \u001b[0;32m~/opt/anaconda3/lib/python3.9/site-packages/IPython/core/magics/execution.py:696\u001b[0m, in \u001b[0;36mExecutionMagics.run\u001b[0;34m(self, parameter_s, runner, file_finder)\u001b[0m\n\u001b[1;32m    695\u001b[0m     fpath \u001b[38;5;241m=\u001b[39m arg_lst[\u001b[38;5;241m0\u001b[39m]\n\u001b[0;32m--> 696\u001b[0m     filename \u001b[38;5;241m=\u001b[39m \u001b[43mfile_finder\u001b[49m\u001b[43m(\u001b[49m\u001b[43mfpath\u001b[49m\u001b[43m)\u001b[49m\n\u001b[1;32m    697\u001b[0m \u001b[38;5;28;01mexcept\u001b[39;00m \u001b[38;5;167;01mIndexError\u001b[39;00m \u001b[38;5;28;01mas\u001b[39;00m e:\n",
      "File \u001b[0;32m~/opt/anaconda3/lib/python3.9/site-packages/IPython/utils/path.py:91\u001b[0m, in \u001b[0;36mget_py_filename\u001b[0;34m(name)\u001b[0m\n\u001b[1;32m     90\u001b[0m \u001b[38;5;28;01melse\u001b[39;00m:\n\u001b[0;32m---> 91\u001b[0m     \u001b[38;5;28;01mraise\u001b[39;00m \u001b[38;5;167;01mIOError\u001b[39;00m(\u001b[38;5;124m'\u001b[39m\u001b[38;5;124mFile `\u001b[39m\u001b[38;5;132;01m%r\u001b[39;00m\u001b[38;5;124m` not found.\u001b[39m\u001b[38;5;124m'\u001b[39m \u001b[38;5;241m%\u001b[39m name)\n",
      "\u001b[0;31mOSError\u001b[0m: File `'print_dfodx_modified.py'` not found.",
      "\nThe above exception was the direct cause of the following exception:\n",
      "\u001b[0;31mException\u001b[0m                                 Traceback (most recent call last)",
      "Input \u001b[0;32mIn [18]\u001b[0m, in \u001b[0;36m<cell line: 2>\u001b[0;34m()\u001b[0m\n\u001b[1;32m      1\u001b[0m \u001b[38;5;66;03m#%run print_dfodx\u001b[39;00m\n\u001b[0;32m----> 2\u001b[0m \u001b[43mget_ipython\u001b[49m\u001b[43m(\u001b[49m\u001b[43m)\u001b[49m\u001b[38;5;241;43m.\u001b[39;49m\u001b[43mrun_line_magic\u001b[49m\u001b[43m(\u001b[49m\u001b[38;5;124;43m'\u001b[39;49m\u001b[38;5;124;43mrun\u001b[39;49m\u001b[38;5;124;43m'\u001b[39;49m\u001b[43m,\u001b[49m\u001b[43m \u001b[49m\u001b[38;5;124;43m'\u001b[39;49m\u001b[38;5;124;43mprint_dfodx_modified\u001b[39;49m\u001b[38;5;124;43m'\u001b[39;49m\u001b[43m)\u001b[49m\n",
      "File \u001b[0;32m~/opt/anaconda3/lib/python3.9/site-packages/IPython/core/interactiveshell.py:2305\u001b[0m, in \u001b[0;36mInteractiveShell.run_line_magic\u001b[0;34m(self, magic_name, line, _stack_depth)\u001b[0m\n\u001b[1;32m   2303\u001b[0m     kwargs[\u001b[38;5;124m'\u001b[39m\u001b[38;5;124mlocal_ns\u001b[39m\u001b[38;5;124m'\u001b[39m] \u001b[38;5;241m=\u001b[39m \u001b[38;5;28mself\u001b[39m\u001b[38;5;241m.\u001b[39mget_local_scope(stack_depth)\n\u001b[1;32m   2304\u001b[0m \u001b[38;5;28;01mwith\u001b[39;00m \u001b[38;5;28mself\u001b[39m\u001b[38;5;241m.\u001b[39mbuiltin_trap:\n\u001b[0;32m-> 2305\u001b[0m     result \u001b[38;5;241m=\u001b[39m \u001b[43mfn\u001b[49m\u001b[43m(\u001b[49m\u001b[38;5;241;43m*\u001b[39;49m\u001b[43margs\u001b[49m\u001b[43m,\u001b[49m\u001b[43m \u001b[49m\u001b[38;5;241;43m*\u001b[39;49m\u001b[38;5;241;43m*\u001b[39;49m\u001b[43mkwargs\u001b[49m\u001b[43m)\u001b[49m\n\u001b[1;32m   2306\u001b[0m \u001b[38;5;28;01mreturn\u001b[39;00m result\n",
      "File \u001b[0;32m~/opt/anaconda3/lib/python3.9/site-packages/IPython/core/magics/execution.py:707\u001b[0m, in \u001b[0;36mExecutionMagics.run\u001b[0;34m(self, parameter_s, runner, file_finder)\u001b[0m\n\u001b[1;32m    705\u001b[0m     \u001b[38;5;28;01mif\u001b[39;00m os\u001b[38;5;241m.\u001b[39mname \u001b[38;5;241m==\u001b[39m \u001b[38;5;124m'\u001b[39m\u001b[38;5;124mnt\u001b[39m\u001b[38;5;124m'\u001b[39m \u001b[38;5;129;01mand\u001b[39;00m re\u001b[38;5;241m.\u001b[39mmatch(\u001b[38;5;124mr\u001b[39m\u001b[38;5;124m\"\u001b[39m\u001b[38;5;124m^\u001b[39m\u001b[38;5;124m'\u001b[39m\u001b[38;5;124m.*\u001b[39m\u001b[38;5;124m'\u001b[39m\u001b[38;5;124m$\u001b[39m\u001b[38;5;124m\"\u001b[39m,fpath):\n\u001b[1;32m    706\u001b[0m         warn(\u001b[38;5;124m'\u001b[39m\u001b[38;5;124mFor Windows, use double quotes to wrap a filename: \u001b[39m\u001b[38;5;132;01m%r\u001b[39;00m\u001b[38;5;124mun \u001b[39m\u001b[38;5;124m\"\u001b[39m\u001b[38;5;124mmypath\u001b[39m\u001b[38;5;130;01m\\\\\u001b[39;00m\u001b[38;5;124mmyfile.py\u001b[39m\u001b[38;5;124m\"\u001b[39m\u001b[38;5;124m'\u001b[39m)\n\u001b[0;32m--> 707\u001b[0m     \u001b[38;5;28;01mraise\u001b[39;00m \u001b[38;5;167;01mException\u001b[39;00m(msg) \u001b[38;5;28;01mfrom\u001b[39;00m \u001b[38;5;21;01me\u001b[39;00m\n\u001b[1;32m    708\u001b[0m \u001b[38;5;28;01mexcept\u001b[39;00m \u001b[38;5;167;01mTypeError\u001b[39;00m:\n\u001b[1;32m    709\u001b[0m     \u001b[38;5;28;01mif\u001b[39;00m fpath \u001b[38;5;129;01min\u001b[39;00m sys\u001b[38;5;241m.\u001b[39mmeta_path:\n",
      "\u001b[0;31mException\u001b[0m: File `'print_dfodx_modified.py'` not found."
     ]
    }
   ],
   "source": [
    "#%run print_dfodx\n",
    "%run print_dfodx_modified"
   ]
  },
  {
   "cell_type": "markdown",
   "metadata": {},
   "source": [
    "### Exercise: Python scripts"
   ]
  },
  {
   "cell_type": "markdown",
   "metadata": {},
   "source": [
    "In the following cell, a numerical grid and a grid function are defined, exact and approximate derivatives are computed, and the results are graphically displayed. Familiarize with the code and run the cell."
   ]
  },
  {
   "cell_type": "code",
   "execution_count": 20,
   "metadata": {},
   "outputs": [
    {
     "data": {
      "text/plain": [
       "<matplotlib.legend.Legend at 0x11866ac40>"
      ]
     },
     "execution_count": 20,
     "metadata": {},
     "output_type": "execute_result"
    },
    {
     "data": {
      "image/png": "[encoded data removed]",
      "text/plain": [
       "<Figure size 1000x400 with 2 Axes>"
      ]
     },
     "metadata": {},
     "output_type": "display_data"
    }
   ],
   "source": [
    "### Define and display numerical grid x and grid function f.\n",
    "x = np.array([-5,-4,-3,0,1,4,5],dtype=float)\n",
    "f = x**3 - 20*x + 25\n",
    "\n",
    "### Compute arithmetic means and differences.\n",
    "xm = 0.5*( x[1:] + x[:-1] )\n",
    "dx = x[1:] - x[:-1]\n",
    "df = f[1:] - f[:-1]\n",
    "\n",
    "### Compute approximate and exact derivatives.\n",
    "dfodx_approx = df/dx\n",
    "dfodx_exact  = 3*xm**2 - 20\n",
    "\n",
    "### Plot results.\n",
    "fig,axs = plt.subplots(1,2,figsize=(10,4))\n",
    "axs[0].plot(x,f,'b--')\n",
    "axs[0].set_title('Grid function')\n",
    "axs[0].set_xlabel('Numerical grid coordinate')\n",
    "axs[1].plot(xm,dfodx_exact,'g--',label='Exact derivative')\n",
    "axs[1].plot(xm,dfodx_approx,'rx',label='Approximate derivative')\n",
    "axs[1].set_title('First derivative')\n",
    "axs[1].set_xlabel('Numerical grid coordinate')\n",
    "axs[1].legend()"
   ]
  },
  {
   "cell_type": "markdown",
   "metadata": {},
   "source": [
    "In the browser currently running this Jupyter notebook, click on `New` and select `Text File`. A new tab opens for storing a file. Rename the file to `plot_dfodx.py`. Copy the content of the cell above (e.g., using your mouse) and paste it into the interface offered under the new tab. Add the necessary imports to make your script self-contained. Change the linestyle from dashed (`--`) to dotted (`:`), and the red crosses (`rx`) to black diamonds. Save the file and run the script."
   ]
  },
  {
   "cell_type": "code",
   "execution_count": 21,
   "metadata": {},
   "outputs": [
    {
     "ename": "Exception",
     "evalue": "File `'plot_dfodx.py'` not found.",
     "output_type": "error",
     "traceback": [
      "\u001b[0;31m---------------------------------------------------------------------------\u001b[0m",
      "\u001b[0;31mOSError\u001b[0m                                   Traceback (most recent call last)",
      "File \u001b[0;32m~/opt/anaconda3/lib/python3.9/site-packages/IPython/core/magics/execution.py:696\u001b[0m, in \u001b[0;36mExecutionMagics.run\u001b[0;34m(self, parameter_s, runner, file_finder)\u001b[0m\n\u001b[1;32m    695\u001b[0m     fpath \u001b[38;5;241m=\u001b[39m arg_lst[\u001b[38;5;241m0\u001b[39m]\n\u001b[0;32m--> 696\u001b[0m     filename \u001b[38;5;241m=\u001b[39m \u001b[43mfile_finder\u001b[49m\u001b[43m(\u001b[49m\u001b[43mfpath\u001b[49m\u001b[43m)\u001b[49m\n\u001b[1;32m    697\u001b[0m \u001b[38;5;28;01mexcept\u001b[39;00m \u001b[38;5;167;01mIndexError\u001b[39;00m \u001b[38;5;28;01mas\u001b[39;00m e:\n",
      "File \u001b[0;32m~/opt/anaconda3/lib/python3.9/site-packages/IPython/utils/path.py:91\u001b[0m, in \u001b[0;36mget_py_filename\u001b[0;34m(name)\u001b[0m\n\u001b[1;32m     90\u001b[0m \u001b[38;5;28;01melse\u001b[39;00m:\n\u001b[0;32m---> 91\u001b[0m     \u001b[38;5;28;01mraise\u001b[39;00m \u001b[38;5;167;01mIOError\u001b[39;00m(\u001b[38;5;124m'\u001b[39m\u001b[38;5;124mFile `\u001b[39m\u001b[38;5;132;01m%r\u001b[39;00m\u001b[38;5;124m` not found.\u001b[39m\u001b[38;5;124m'\u001b[39m \u001b[38;5;241m%\u001b[39m name)\n",
      "\u001b[0;31mOSError\u001b[0m: File `'plot_dfodx.py'` not found.",
      "\nThe above exception was the direct cause of the following exception:\n",
      "\u001b[0;31mException\u001b[0m                                 Traceback (most recent call last)",
      "Input \u001b[0;32mIn [21]\u001b[0m, in \u001b[0;36m<cell line: 1>\u001b[0;34m()\u001b[0m\n\u001b[0;32m----> 1\u001b[0m \u001b[43mget_ipython\u001b[49m\u001b[43m(\u001b[49m\u001b[43m)\u001b[49m\u001b[38;5;241;43m.\u001b[39;49m\u001b[43mrun_line_magic\u001b[49m\u001b[43m(\u001b[49m\u001b[38;5;124;43m'\u001b[39;49m\u001b[38;5;124;43mrun\u001b[39;49m\u001b[38;5;124;43m'\u001b[39;49m\u001b[43m,\u001b[49m\u001b[43m \u001b[49m\u001b[38;5;124;43m'\u001b[39;49m\u001b[38;5;124;43mplot_dfodx\u001b[39;49m\u001b[38;5;124;43m'\u001b[39;49m\u001b[43m)\u001b[49m\n",
      "File \u001b[0;32m~/opt/anaconda3/lib/python3.9/site-packages/IPython/core/interactiveshell.py:2305\u001b[0m, in \u001b[0;36mInteractiveShell.run_line_magic\u001b[0;34m(self, magic_name, line, _stack_depth)\u001b[0m\n\u001b[1;32m   2303\u001b[0m     kwargs[\u001b[38;5;124m'\u001b[39m\u001b[38;5;124mlocal_ns\u001b[39m\u001b[38;5;124m'\u001b[39m] \u001b[38;5;241m=\u001b[39m \u001b[38;5;28mself\u001b[39m\u001b[38;5;241m.\u001b[39mget_local_scope(stack_depth)\n\u001b[1;32m   2304\u001b[0m \u001b[38;5;28;01mwith\u001b[39;00m \u001b[38;5;28mself\u001b[39m\u001b[38;5;241m.\u001b[39mbuiltin_trap:\n\u001b[0;32m-> 2305\u001b[0m     result \u001b[38;5;241m=\u001b[39m \u001b[43mfn\u001b[49m\u001b[43m(\u001b[49m\u001b[38;5;241;43m*\u001b[39;49m\u001b[43margs\u001b[49m\u001b[43m,\u001b[49m\u001b[43m \u001b[49m\u001b[38;5;241;43m*\u001b[39;49m\u001b[38;5;241;43m*\u001b[39;49m\u001b[43mkwargs\u001b[49m\u001b[43m)\u001b[49m\n\u001b[1;32m   2306\u001b[0m \u001b[38;5;28;01mreturn\u001b[39;00m result\n",
      "File \u001b[0;32m~/opt/anaconda3/lib/python3.9/site-packages/IPython/core/magics/execution.py:707\u001b[0m, in \u001b[0;36mExecutionMagics.run\u001b[0;34m(self, parameter_s, runner, file_finder)\u001b[0m\n\u001b[1;32m    705\u001b[0m     \u001b[38;5;28;01mif\u001b[39;00m os\u001b[38;5;241m.\u001b[39mname \u001b[38;5;241m==\u001b[39m \u001b[38;5;124m'\u001b[39m\u001b[38;5;124mnt\u001b[39m\u001b[38;5;124m'\u001b[39m \u001b[38;5;129;01mand\u001b[39;00m re\u001b[38;5;241m.\u001b[39mmatch(\u001b[38;5;124mr\u001b[39m\u001b[38;5;124m\"\u001b[39m\u001b[38;5;124m^\u001b[39m\u001b[38;5;124m'\u001b[39m\u001b[38;5;124m.*\u001b[39m\u001b[38;5;124m'\u001b[39m\u001b[38;5;124m$\u001b[39m\u001b[38;5;124m\"\u001b[39m,fpath):\n\u001b[1;32m    706\u001b[0m         warn(\u001b[38;5;124m'\u001b[39m\u001b[38;5;124mFor Windows, use double quotes to wrap a filename: \u001b[39m\u001b[38;5;132;01m%r\u001b[39;00m\u001b[38;5;124mun \u001b[39m\u001b[38;5;124m\"\u001b[39m\u001b[38;5;124mmypath\u001b[39m\u001b[38;5;130;01m\\\\\u001b[39;00m\u001b[38;5;124mmyfile.py\u001b[39m\u001b[38;5;124m\"\u001b[39m\u001b[38;5;124m'\u001b[39m)\n\u001b[0;32m--> 707\u001b[0m     \u001b[38;5;28;01mraise\u001b[39;00m \u001b[38;5;167;01mException\u001b[39;00m(msg) \u001b[38;5;28;01mfrom\u001b[39;00m \u001b[38;5;21;01me\u001b[39;00m\n\u001b[1;32m    708\u001b[0m \u001b[38;5;28;01mexcept\u001b[39;00m \u001b[38;5;167;01mTypeError\u001b[39;00m:\n\u001b[1;32m    709\u001b[0m     \u001b[38;5;28;01mif\u001b[39;00m fpath \u001b[38;5;129;01min\u001b[39;00m sys\u001b[38;5;241m.\u001b[39mmeta_path:\n",
      "\u001b[0;31mException\u001b[0m: File `'plot_dfodx.py'` not found."
     ]
    }
   ],
   "source": [
    "%run plot_dfodx"
   ]
  },
  {
   "cell_type": "markdown",
   "metadata": {},
   "source": [
    "## Python functions"
   ]
  },
  {
   "cell_type": "markdown",
   "metadata": {},
   "source": [
    "Compared to scripts, Python functions are characterized by a well-defined interface for exchanging information. Variables are accepted on input, and returned on output. Unless explicitly enforced, instructions and variable assignments are not visible to the calling instance (e.g., IPython shell, script, function). The basic syntax of Python functions is as follows.\n",
    "\n",
    "    def funct(arg1,arg2,...,kwarg1=def1,kwarg2=def2,...):\n",
    "        ''' docstring: brief description of the function '''\n",
    "        <statement>\n",
    "        <statement>\n",
    "        ...\n",
    "        return var1,var2,...\n",
    "        \n",
    "Here `funct` is the name of the function, `arg1,arg2,...` are mandatory input variables (arguments), `kwarg1,kwarg2,...` are optional input variables (keyword arguments) with corresponding default values `def1,def2,...`, and `var1,var2,...` are the output variables. The so-called `docstring` gives a brief characterization of the function that is displayed when `help(funct)` is entered."
   ]
  },
  {
   "cell_type": "markdown",
   "metadata": {},
   "source": [
    "### Arguments and return variables"
   ]
  },
  {
   "cell_type": "markdown",
   "metadata": {},
   "source": [
    "To demonstrate the syntax and the underlying logic in the cell below, the centered differencing approximation of the first derivative is provided through the function `numdif()`."
   ]
  },
  {
   "cell_type": "code",
   "execution_count": 22,
   "metadata": {},
   "outputs": [],
   "source": [
    "def numdif(x,f):\n",
    "    '''\n",
    "    Centered differencing approximation of the first derivative.\n",
    "    Arguments\n",
    "    * x     : numerical grid.\n",
    "    * f     : grid function.\n",
    "    On return\n",
    "    * dfodx : approximation of the first derivative.\n",
    "    * xm    : arithmetic means of consecutive numerical grid points.\n",
    "    '''\n",
    "    dx = x[1:] - x[:-1]\n",
    "    df = f[1:] - f[:-1]\n",
    "    dfodx = df/dx\n",
    "    xm = 0.5*( x[1:] + x[:-1] )\n",
    "    return dfodx,xm"
   ]
  },
  {
   "cell_type": "markdown",
   "metadata": {},
   "source": [
    "After running the above code cell, the function `numdif()` is available in the current Python/notebook session, as can be checked by displaying the docstring."
   ]
  },
  {
   "cell_type": "code",
   "execution_count": 23,
   "metadata": {},
   "outputs": [
    {
     "name": "stdout",
     "output_type": "stream",
     "text": [
      "Help on function numdif in module __main__:\n",
      "\n",
      "numdif(x, f)\n",
      "    Centered differencing approximation of the first derivative.\n",
      "    Arguments\n",
      "    * x     : numerical grid.\n",
      "    * f     : grid function.\n",
      "    On return\n",
      "    * dfodx : approximation of the first derivative.\n",
      "    * xm    : arithmetic means of consecutive numerical grid points.\n",
      "\n"
     ]
    }
   ],
   "source": [
    "help(numdif)"
   ]
  },
  {
   "cell_type": "markdown",
   "metadata": {},
   "source": [
    "Using `numdif()`, the code to compute approximate derivatives assumes a more compact form."
   ]
  },
  {
   "cell_type": "code",
   "execution_count": 24,
   "metadata": {},
   "outputs": [
    {
     "name": "stdout",
     "output_type": "stream",
     "text": [
      "Grid     x :  [1. 2. 4. 6. 7. 8.]\n",
      "Function f :  [-12. -14. -12.  -2.   6.  16.]\n",
      "\n",
      "First derivative of function f\n",
      "* Array of arithmetic means         :  [1.5 3.  5.  6.5 7.5]\n",
      "* Finite differencing approximation :  [-2.  1.  5.  8. 10.]\n",
      "* Evaluation of exact derivative    :  [-2.  1.  5.  8. 10.]\n"
     ]
    }
   ],
   "source": [
    "### Define and display numerical grid x and grid function f.\n",
    "x = np.array([1,2,4,6,7,8],dtype=float)\n",
    "f = x**2 - 5*x - 8\n",
    "print('Grid     x : ',x)\n",
    "print('Function f : ',f)\n",
    "print()\n",
    "\n",
    "### Compute approximate derivatives and arithmetic means.\n",
    "dfodx_approx,xm = numdif(x,f)\n",
    "\n",
    "### Compute exact derivatives.\n",
    "dfodx_exact = 2*xm - 5\n",
    "\n",
    "### Print results.\n",
    "print('First derivative of function f')\n",
    "print('* Array of arithmetic means         : ',xm)\n",
    "print('* Finite differencing approximation : ',dfodx_approx)\n",
    "print('* Evaluation of exact derivative    : ',dfodx_exact)"
   ]
  },
  {
   "cell_type": "markdown",
   "metadata": {},
   "source": [
    "### Keyword arguments"
   ]
  },
  {
   "cell_type": "markdown",
   "metadata": {},
   "source": [
    "To illustrate the concept of keyword arguments, consider the task of creating an equidistant numerical grid with a total of `N` points starting at an initial position `xinit`. The grid spacing `deltax` is implemented as a keyword parameter defaulting to unity (`deltax=1`)."
   ]
  },
  {
   "cell_type": "code",
   "execution_count": 25,
   "metadata": {},
   "outputs": [],
   "source": [
    "def eqdistgrid(xinit,N,deltax=1):\n",
    "    '''\n",
    "    Create equidistant numerical grid.\n",
    "    Arguments\n",
    "    * xinit  : initial grid coordinate.\n",
    "    * N      : total number of grid points.\n",
    "    Keyword arguments\n",
    "    * deltax : grid spacing.\n",
    "    On return\n",
    "    * grid   : equidistant numerical grid.\n",
    "    '''\n",
    "    grid = np.linspace(xinit,xinit+(N-1)*deltax,N)\n",
    "    return grid"
   ]
  },
  {
   "cell_type": "markdown",
   "metadata": {},
   "source": [
    "After running the code cell above, the function `eqdistgrid()` can be called in any way indicated in the following cell. Study the instructions and anticipate the results. Which statement produces an error message? Uncomment individual lines to check your prediction."
   ]
  },
  {
   "cell_type": "code",
   "execution_count": 26,
   "metadata": {},
   "outputs": [
    {
     "name": "stdout",
     "output_type": "stream",
     "text": [
      "[1. 3. 5. 7. 9.]\n"
     ]
    }
   ],
   "source": [
    "print(eqdistgrid(1,5,deltax=2))\n",
    "#print(eqdistgrid(1,5,2))\n",
    "#print(eqdistgrid(1,5))\n",
    "#print(eqdistgrid(1))"
   ]
  },
  {
   "cell_type": "markdown",
   "metadata": {},
   "source": [
    "In addition to the `def` syntax, Python offers also the so-called `lambda` mechanism for defining functions. The definitions in the two code cells below implement the same function."
   ]
  },
  {
   "cell_type": "code",
   "execution_count": 27,
   "metadata": {},
   "outputs": [],
   "source": [
    "def f(x,y,z=0): return x**2-y+z"
   ]
  },
  {
   "cell_type": "code",
   "execution_count": 28,
   "metadata": {},
   "outputs": [],
   "source": [
    "f = lambda x,y,z=0: x**2-y+z"
   ]
  },
  {
   "cell_type": "markdown",
   "metadata": {},
   "source": [
    "For further information on the `lambda` mechanism see the Python documentation."
   ]
  },
  {
   "cell_type": "markdown",
   "metadata": {},
   "source": [
    "### Exercise: Python functions"
   ]
  },
  {
   "cell_type": "markdown",
   "metadata": {},
   "source": [
    "This exercise is concerned with a basic time series filtering operation called *boxcar smoothing*. An equidistant time grid is assumed. With an input time series $u_0,u_1,u_2,\\ldots,u_N$ and an assumed half-width $h$ of the boxcar filter, an element $v_k$ of the output series is the average of the input elements within $\\pm h$ around index $k$:\n",
    "$$\n",
    "v_k = \\frac{1}{2h+1} \\sum_{j=-h}^h u_k ~,~ k=h,h+1,\\ldots,N-h-1,N-h ~.\n",
    "$$\n",
    "For simplicity, the elements $v_k$ within half-width $h$ of the left and right boundary ($k=0,1,\\ldots,h-1$ and $k=N-h+1,\\ldots,N-1,N$) are to be set to $u_k$, i.e., the respective elements of the input time series."
   ]
  },
  {
   "cell_type": "markdown",
   "metadata": {},
   "source": [
    "In the code cell below, replace the `pass` statement in the function `boxcar()` with an implementation of the filtering operation. Run the cell to plot the filtered signal together with the input time series."
   ]
  },
  {
   "cell_type": "code",
   "execution_count": 29,
   "metadata": {},
   "outputs": [
    {
     "data": {
      "text/plain": [
       "<matplotlib.legend.Legend at 0x1186fa6a0>"
      ]
     },
     "execution_count": 29,
     "metadata": {},
     "output_type": "execute_result"
    },
    {
     "data": {
      "image/png": "[encoded data removed]",
      "text/plain": [
       "<Figure size 800x400 with 1 Axes>"
      ]
     },
     "metadata": {},
     "output_type": "display_data"
    }
   ],
   "source": [
    "def boxcar(u,h=1):\n",
    "    '''\n",
    "    Boxcar filtering in the interior of a time series u.\n",
    "    Arguments\n",
    "    * u : input time series.\n",
    "    Keyword arguments\n",
    "    * h : filter half-width.\n",
    "    On return\n",
    "    * v : filtered time series.\n",
    "    '''\n",
    "    v = u.copy()\n",
    "    #.. Implement boxcar filter using a for loop.\n",
    "    for k in range(h,len(u)-h+1):\n",
    "        pass\n",
    "    return v\n",
    "\n",
    "### Define uniform time array.\n",
    "t = np.linspace(0,2,201)\n",
    "\n",
    "### Generate sinusoidal signal contaminated by noise.\n",
    "u = np.sin(2*np.pi*t) + 0.2*np.random.randn(len(t))\n",
    "\n",
    "### Produce the filtered signal.\n",
    "halfwidth = 5\n",
    "v = boxcar(u,h=halfwidth)\n",
    "\n",
    "### Plot input and filtered signal.\n",
    "plt.figure(figsize=(8,4))\n",
    "plt.plot(t,u,label='Input time series')\n",
    "plt.plot(t,v,label='Filtered time series')\n",
    "plt.title('Boxcar filtering exercise (half-width: {})'.format(halfwidth))\n",
    "plt.xlabel('Time [s]')\n",
    "plt.ylabel('Signal [arb. units]')\n",
    "plt.legend()"
   ]
  },
  {
   "cell_type": "markdown",
   "metadata": {},
   "source": [
    "## Function imports"
   ]
  },
  {
   "cell_type": "markdown",
   "metadata": {},
   "source": [
    "Python functions can be stored in modules and then imported. In this section of the notebook, function file handling is explained using numerical differentiation restricted to the case of equidistant numerical grids. The values\n",
    "$$\n",
    "f^\\ast_j \\; = \\; \\frac{f_{j+1}-f_{j-1}}{2 \\Delta x} ~,~ j=1,2,\\ldots\n",
    "$$\n",
    "are second-order approximations of the first derivative $f'(x) = \\frac{\\mathrm{d} f}{\\mathrm{d} x}$ on the interior points of the numerical grid (i.e., the left and right boundary points are excluded)."
   ]
  },
  {
   "cell_type": "markdown",
   "metadata": {},
   "source": [
    "This formula is implemented in the function `eqdistdif1()` as part of the file `eqdist.py`, representing a minimal module (with two functions) available through the `import` mechanism. As before, select the browser tab showing the working directory and click on the file `eqdist.py`. Importing the module creates a dedicated namespace."
   ]
  },
  {
   "cell_type": "code",
   "execution_count": 30,
   "metadata": {},
   "outputs": [
    {
     "ename": "AttributeError",
     "evalue": "partially initialized module 'eqdist' has no attribute 'eqdistgrid' (most likely due to a circular import)",
     "output_type": "error",
     "traceback": [
      "\u001b[0;31m---------------------------------------------------------------------------\u001b[0m",
      "\u001b[0;31mAttributeError\u001b[0m                            Traceback (most recent call last)",
      "Input \u001b[0;32mIn [30]\u001b[0m, in \u001b[0;36m<cell line: 1>\u001b[0;34m()\u001b[0m\n\u001b[0;32m----> 1\u001b[0m \u001b[38;5;28;01mimport\u001b[39;00m \u001b[38;5;21;01meqdist\u001b[39;00m\n",
      "File \u001b[0;32m~/eqdist.py:4\u001b[0m, in \u001b[0;36m<module>\u001b[0;34m\u001b[0m\n\u001b[1;32m      1\u001b[0m \u001b[38;5;28;01mimport\u001b[39;00m \u001b[38;5;21;01meqdist\u001b[39;00m\n\u001b[1;32m      2\u001b[0m \u001b[38;5;66;03m#help(eqdist)\u001b[39;00m\n\u001b[1;32m      3\u001b[0m \u001b[38;5;66;03m### Define and display numerical grid x and grid function f.\u001b[39;00m\n\u001b[0;32m----> 4\u001b[0m x \u001b[38;5;241m=\u001b[39m \u001b[43meqdist\u001b[49m\u001b[38;5;241;43m.\u001b[39;49m\u001b[43meqdistgrid\u001b[49m(\u001b[38;5;241m-\u001b[39m\u001b[38;5;241m5\u001b[39m,\u001b[38;5;241m21\u001b[39m,deltax\u001b[38;5;241m=\u001b[39m\u001b[38;5;241m0.5\u001b[39m)\n\u001b[1;32m      5\u001b[0m f \u001b[38;5;241m=\u001b[39m x\u001b[38;5;241m*\u001b[39m\u001b[38;5;241m*\u001b[39m\u001b[38;5;241m3\u001b[39m \u001b[38;5;241m-\u001b[39m \u001b[38;5;241m20\u001b[39m\u001b[38;5;241m*\u001b[39mx \u001b[38;5;241m+\u001b[39m \u001b[38;5;241m25\u001b[39m\n\u001b[1;32m      7\u001b[0m \u001b[38;5;66;03m### Compute approximate and exact derivatives.\u001b[39;00m\n",
      "\u001b[0;31mAttributeError\u001b[0m: partially initialized module 'eqdist' has no attribute 'eqdistgrid' (most likely due to a circular import)"
     ]
    }
   ],
   "source": [
    "import eqdist\n",
    "#help(eqdist)"
   ]
  },
  {
   "cell_type": "markdown",
   "metadata": {},
   "source": [
    "The usage of the two functions is demonstrated below."
   ]
  },
  {
   "cell_type": "code",
   "execution_count": 31,
   "metadata": {},
   "outputs": [
    {
     "ename": "NameError",
     "evalue": "name 'eqdist' is not defined",
     "output_type": "error",
     "traceback": [
      "\u001b[0;31m---------------------------------------------------------------------------\u001b[0m",
      "\u001b[0;31mNameError\u001b[0m                                 Traceback (most recent call last)",
      "Input \u001b[0;32mIn [31]\u001b[0m, in \u001b[0;36m<cell line: 2>\u001b[0;34m()\u001b[0m\n\u001b[1;32m      1\u001b[0m \u001b[38;5;66;03m### Define and display numerical grid x and grid function f.\u001b[39;00m\n\u001b[0;32m----> 2\u001b[0m x \u001b[38;5;241m=\u001b[39m \u001b[43meqdist\u001b[49m\u001b[38;5;241m.\u001b[39meqdistgrid(\u001b[38;5;241m-\u001b[39m\u001b[38;5;241m5\u001b[39m,\u001b[38;5;241m21\u001b[39m,deltax\u001b[38;5;241m=\u001b[39m\u001b[38;5;241m0.5\u001b[39m)\n\u001b[1;32m      3\u001b[0m f \u001b[38;5;241m=\u001b[39m x\u001b[38;5;241m*\u001b[39m\u001b[38;5;241m*\u001b[39m\u001b[38;5;241m3\u001b[39m \u001b[38;5;241m-\u001b[39m \u001b[38;5;241m20\u001b[39m\u001b[38;5;241m*\u001b[39mx \u001b[38;5;241m+\u001b[39m \u001b[38;5;241m25\u001b[39m\n\u001b[1;32m      5\u001b[0m \u001b[38;5;66;03m### Compute approximate and exact derivatives.\u001b[39;00m\n",
      "\u001b[0;31mNameError\u001b[0m: name 'eqdist' is not defined"
     ]
    }
   ],
   "source": [
    "### Define and display numerical grid x and grid function f.\n",
    "x = eqdist.eqdistgrid(-5,21,deltax=0.5)\n",
    "f = x**3 - 20*x + 25\n",
    "\n",
    "### Compute approximate and exact derivatives.\n",
    "dfodx_approx = eqdist.eqdistdif1(f,deltax=0.5)\n",
    "xint = x[1:-1]\n",
    "dfodx_exact  = 3*xint**2 - 20\n",
    "\n",
    "### Plot results.\n",
    "fig,axs = plt.subplots(1,2,figsize=(10,4))\n",
    "axs[0].plot(x,f,'b--')\n",
    "axs[0].set_title('Grid function')\n",
    "axs[0].set_xlabel('Numerical grid coordinate')\n",
    "axs[1].plot(xint,dfodx_exact,'g--',label='Exact derivative')\n",
    "axs[1].plot(xint,dfodx_approx,'rx',label='Approximate derivative')\n",
    "axs[1].set_title('First derivative')\n",
    "axs[1].set_xlabel('Numerical grid coordinate')\n",
    "axs[1].legend()"
   ]
  },
  {
   "cell_type": "markdown",
   "metadata": {},
   "source": [
    "### Exercise: Function imports"
   ]
  },
  {
   "cell_type": "markdown",
   "metadata": {},
   "source": [
    "Create a module file named `myfilter.py` containing the two functions `eqdistgrid()` and `boxcar()`. Run the following cell to check if the module was correctly saved."
   ]
  },
  {
   "cell_type": "code",
   "execution_count": 32,
   "metadata": {},
   "outputs": [
    {
     "ename": "ModuleNotFoundError",
     "evalue": "No module named 'myfilter'",
     "output_type": "error",
     "traceback": [
      "\u001b[0;31m---------------------------------------------------------------------------\u001b[0m",
      "\u001b[0;31mModuleNotFoundError\u001b[0m                       Traceback (most recent call last)",
      "Input \u001b[0;32mIn [32]\u001b[0m, in \u001b[0;36m<cell line: 2>\u001b[0;34m()\u001b[0m\n\u001b[1;32m      1\u001b[0m \u001b[38;5;66;03m### Import the newly created module myfilter.\u001b[39;00m\n\u001b[0;32m----> 2\u001b[0m \u001b[38;5;28;01mimport\u001b[39;00m \u001b[38;5;21;01mmyfilter\u001b[39;00m\n\u001b[1;32m      4\u001b[0m \u001b[38;5;66;03m### Generate time array and noisy sinusoidal signal.\u001b[39;00m\n\u001b[1;32m      5\u001b[0m t \u001b[38;5;241m=\u001b[39m myfilter\u001b[38;5;241m.\u001b[39meqdistgrid(\u001b[38;5;241m0\u001b[39m,\u001b[38;5;241m201\u001b[39m,deltax\u001b[38;5;241m=\u001b[39m\u001b[38;5;241m0.01\u001b[39m)\n",
      "\u001b[0;31mModuleNotFoundError\u001b[0m: No module named 'myfilter'"
     ]
    }
   ],
   "source": [
    "### Import the newly created module myfilter.\n",
    "import myfilter\n",
    "\n",
    "### Generate time array and noisy sinusoidal signal.\n",
    "t = myfilter.eqdistgrid(0,201,deltax=0.01)\n",
    "u = np.sin(2*np.pi*t) + 0.2*np.random.randn(len(t))\n",
    "\n",
    "### Apply boxcar filter to the noisy signal.\n",
    "halfwidth = 5\n",
    "v = myfilter.boxcar(u,h=halfwidth)\n",
    "\n",
    "### Plot noisy input signal and filtered time series.\n",
    "plt.figure(figsize=(8,4))\n",
    "plt.plot(t,u,label='Input time series')\n",
    "plt.plot(t,v,label='Filtered time series')\n",
    "plt.title('Boxcar filtering exercise (half-width: {})'.format(halfwidth))\n",
    "plt.xlabel('Time [s]')\n",
    "plt.ylabel('Signal [arb. units]')\n",
    "plt.legend()"
   ]
  },
  {
   "cell_type": "markdown",
   "metadata": {},
   "source": [
    "## Polynomial objects in NumPy"
   ]
  },
  {
   "cell_type": "markdown",
   "metadata": {},
   "source": [
    "In preparation of the homework assignments associated with this tutorial, NumPy polynomial objects are briefly summarized. A polynomial is defined using its coefficients stored in a list. The example below creates a polynomial object for $p(x) = 1 + 2x + 3x^2$ so that the list of coefficients is `[1,2,3]`."
   ]
  },
  {
   "cell_type": "code",
   "execution_count": 33,
   "metadata": {},
   "outputs": [
    {
     "name": "stdout",
     "output_type": "stream",
     "text": [
      "Polynomial:\n"
     ]
    },
    {
     "data": {
      "text/latex": [
       "$x \\mapsto \\text{4.0} + \\text{3.0}\\,x + \\text{2.0}\\,x^{2} + \\text{1.0}\\,x^{3}$"
      ],
      "text/plain": [
       "Polynomial([4., 3., 2., 1.], domain=[-1,  1], window=[-1,  1])"
      ]
     },
     "metadata": {},
     "output_type": "display_data"
    }
   ],
   "source": [
    "from numpy.polynomial import Polynomial\n",
    "p = Polynomial([4,3,2,1])\n",
    "print('Polynomial:')\n",
    "display(p)"
   ]
  },
  {
   "cell_type": "markdown",
   "metadata": {},
   "source": [
    "To numerically evaluate the function, polynomial objects accept single values or NumPy arrays."
   ]
  },
  {
   "cell_type": "code",
   "execution_count": 34,
   "metadata": {},
   "outputs": [
    {
     "name": "stdout",
     "output_type": "stream",
     "text": [
      "p(1) =  10.0\n",
      "x    =  [-2. -1.  0.  1.  2.]\n",
      "p(x) =  [-2.  2.  4. 10. 26.]\n"
     ]
    }
   ],
   "source": [
    "print('p(1) = ',p(1))\n",
    "x = np.arange(-2,3,dtype=float)\n",
    "print('x    = ',x)\n",
    "print('p(x) = ',p(x))"
   ]
  },
  {
   "cell_type": "markdown",
   "metadata": {},
   "source": [
    "Derivatives of polynomial objects are available through the attribute `deriv`."
   ]
  },
  {
   "cell_type": "code",
   "execution_count": 35,
   "metadata": {},
   "outputs": [
    {
     "name": "stdout",
     "output_type": "stream",
     "text": [
      "First derivative:\n"
     ]
    },
    {
     "data": {
      "text/latex": [
       "$x \\mapsto \\text{3.0} + \\text{4.0}\\,x + \\text{3.0}\\,x^{2}$"
      ],
      "text/plain": [
       "Polynomial([3., 4., 3.], domain=[-1.,  1.], window=[-1.,  1.])"
      ]
     },
     "metadata": {},
     "output_type": "display_data"
    },
    {
     "name": "stdout",
     "output_type": "stream",
     "text": [
      "Second derivative:\n"
     ]
    },
    {
     "data": {
      "text/latex": [
       "$x \\mapsto \\text{4.0} + \\text{6.0}\\,x$"
      ],
      "text/plain": [
       "Polynomial([4., 6.], domain=[-1.,  1.], window=[-1.,  1.])"
      ]
     },
     "metadata": {},
     "output_type": "display_data"
    }
   ],
   "source": [
    "print('First derivative:')\n",
    "display(p.deriv())\n",
    "print('Second derivative:')\n",
    "display(p.deriv(m=2))"
   ]
  },
  {
   "cell_type": "markdown",
   "metadata": {},
   "source": [
    "---\n",
    "---"
   ]
  },
  {
   "cell_type": "markdown",
   "metadata": {},
   "source": [
    "## Solutions"
   ]
  },
  {
   "cell_type": "markdown",
   "metadata": {},
   "source": [
    "### Solution: Differencing of NumPy arrays"
   ]
  },
  {
   "cell_type": "code",
   "execution_count": 36,
   "metadata": {},
   "outputs": [
    {
     "name": "stdout",
     "output_type": "stream",
     "text": [
      "Grid     x :  [1. 2. 4. 6. 7. 8.]\n",
      "Function f :  [ 72.  52.   0. -28. -18.  16.]\n",
      "\n",
      "First derivative of function f\n",
      "* Array of arithmetic means         :  [1.5 3.  5.  6.5 7.5]\n",
      "* Finite differencing approximation :  [-20. -26. -14.  10.  34.]\n",
      "* Evaluation of exact derivative    :  [-20.25 -27.   -15.     9.75  33.75]\n"
     ]
    }
   ],
   "source": [
    "### Define numerical grid x and grid function f.\n",
    "x = np.array([1,2,4,6,7,8],dtype=float)\n",
    "f = x**3 - 9*x**2 + 80\n",
    "print('Grid     x : ',x)\n",
    "print('Function f : ',f)\n",
    "print()\n",
    "\n",
    "### Compute arithmetic means and differences.\n",
    "xm = 0.5*( x[1:] + x[:-1] )\n",
    "dx = x[1:] - x[:-1]\n",
    "df = f[1:] - f[:-1]\n",
    "\n",
    "### Compute approximate and exact derivatives.\n",
    "dfodx_approx = df/dx\n",
    "dfodx_exact  = 3*xm**2 - 18*xm\n",
    "\n",
    "### Print results.\n",
    "print('First derivative of function f')\n",
    "print('* Array of arithmetic means         : ',xm)\n",
    "print('* Finite differencing approximation : ',dfodx_approx)\n",
    "print('* Evaluation of exact derivative    : ',dfodx_exact)"
   ]
  },
  {
   "cell_type": "markdown",
   "metadata": {},
   "source": [
    "### Solution: Python scripts"
   ]
  },
  {
   "cell_type": "markdown",
   "metadata": {},
   "source": [
    "See the file `plot_dfodx_solution.py` on the module platform."
   ]
  },
  {
   "cell_type": "markdown",
   "metadata": {},
   "source": [
    "### Solution: Python functions"
   ]
  },
  {
   "cell_type": "code",
   "execution_count": 37,
   "metadata": {},
   "outputs": [
    {
     "data": {
      "text/plain": [
       "<matplotlib.legend.Legend at 0x118713760>"
      ]
     },
     "execution_count": 37,
     "metadata": {},
     "output_type": "execute_result"
    },
    {
     "data": {
      "image/png": "[encoded data removed]",
      "text/plain": [
       "<Figure size 800x400 with 1 Axes>"
      ]
     },
     "metadata": {},
     "output_type": "display_data"
    }
   ],
   "source": [
    "def boxcar(u,h=1):\n",
    "    '''\n",
    "    Boxcar filtering in the interior of a time series u.\n",
    "    Arguments\n",
    "    * u : input time series.\n",
    "    Keyword arguments\n",
    "    * h : filter half-width.\n",
    "    On return\n",
    "    * v : filtered time series.\n",
    "    '''\n",
    "    v = u.copy()\n",
    "    #.. Implement boxcar filter using a for loop.\n",
    "    for k in range(h,len(u)-h+1):\n",
    "        v[k] = u[k-h:k+h+1].sum()/(2*h+1)\n",
    "    return v\n",
    "\n",
    "### Define uniform time array.\n",
    "t = np.linspace(0,2,201)\n",
    "\n",
    "### Generate sinusoidal signal contaminated by noise.\n",
    "u = np.sin(2*np.pi*t) + 0.2*np.random.randn(len(t))\n",
    "\n",
    "### Produce the filtered signal.\n",
    "halfwidth = 5\n",
    "v = boxcar(u,h=halfwidth)\n",
    "\n",
    "### Plot input and filtered signal.\n",
    "plt.figure(figsize=(8,4))\n",
    "plt.plot(t,u,label='Input time series')\n",
    "plt.plot(t,v,label='Filtered time series')\n",
    "plt.title('Boxcar filtering exercise (half-width: {})'.format(halfwidth))\n",
    "plt.xlabel('Time [s]')\n",
    "plt.ylabel('Signal [arb. units]')\n",
    "plt.legend()"
   ]
  },
  {
   "cell_type": "markdown",
   "metadata": {},
   "source": [
    "### Solution: Function imports"
   ]
  },
  {
   "cell_type": "markdown",
   "metadata": {},
   "source": [
    "See the file `myfilter_solution.py` on the module platform."
   ]
  },
  {
   "cell_type": "markdown",
   "metadata": {},
   "source": [
    "---\n",
    "---"
   ]
  }
 ],
 "metadata": {
  "anaconda-cloud": {},
  "kernelspec": {
   "display_name": "Python 3 (ipykernel)",
   "language": "python",
   "name": "python3"
  },
  "language_info": {
   "codemirror_mode": {
    "name": "ipython",
    "version": 3
   },
   "file_extension": ".py",
   "mimetype": "text/x-python",
   "name": "python",
   "nbconvert_exporter": "python",
   "pygments_lexer": "ipython3",
   "version": "3.9.13"
  }
 },
 "nbformat": 4,
 "nbformat_minor": 1
}
