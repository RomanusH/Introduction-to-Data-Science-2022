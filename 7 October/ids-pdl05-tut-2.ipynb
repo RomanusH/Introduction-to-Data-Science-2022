{
 "cells": [
  {
   "cell_type": "markdown",
   "metadata": {
    "collapsed": true
   },
   "source": [
    "**ids-pdl05-tut.ipynb**: This Jupyter notebook is provided by Joachim Vogt for the _Python Data Lab_ of the module _Introduction to Data Science_ offered in Fall 2022 at Jacobs University Bremen. Module instructors are Hilke Brockmann, Adalbert Wilhelm, and Joachim Vogt. Jupyter notebooks and other learning resources are available from a dedicated _module platform_."
   ]
  },
  {
   "cell_type": "markdown",
   "metadata": {},
   "source": [
    "# Matplotlib basics"
   ]
  },
  {
   "cell_type": "markdown",
   "metadata": {},
   "source": [
    "This tutorial provides an introduction to basic data visualization using the Python module matplotlib. Follow the instructions below to learn to\n",
    "\n",
    "- [ ] load numerical data from regular text files,\n",
    "- [ ] generate numerical grids and compute grid functions,\n",
    "- [ ] produce line plots and scatter diagrams,\n",
    "- [ ] assemble several plots in a single diagram,\n",
    "- [ ] discern and handle both the MATLAB-style and the object-oriented approach to plotting,\n",
    "- [ ] visualize two-dimensional arrays as images and contour diagrams.\n",
    "\n",
    "If you wish to keep track of your progress, you may edit this markdown cell, check a box in the list above after having worked through the respective part of this notebook, and save the file.\n",
    "\n",
    "*Short exercises* are embedded in this notebook. *Sample solutions* can be found at the end of the document."
   ]
  },
  {
   "cell_type": "markdown",
   "metadata": {},
   "source": [
    "The Matplotlib project is hosted at [matplotlib.org](https://matplotlib.org)."
   ]
  },
  {
   "cell_type": "markdown",
   "metadata": {},
   "source": [
    "## Preparation"
   ]
  },
  {
   "cell_type": "markdown",
   "metadata": {},
   "source": [
    "The following data files are expected to reside in the working directory. Identify the files on the module platform and upload them to the same folder as this Jupyter notebook.\n",
    "\n",
    "- `SN_y_tot_V2.0.txt`: [Yearly mean total sunspot number](https://www.sidc.be/silso/infosnytot) provided by the [World Data Center for the production, preservation and dissemination of the international sunspot number (SILSO)](https://sidc.be/silso/home) through the [SILSO download page](https://www.sidc.be/silso/datafiles).\n",
    "- `march2014_1920x1200.jpeg`: [color image](https://www.nasa.gov/sites/default/files/thumbnails/image/march2014_1920x1200.jpeg) (Credit: NASA/USGS Landsat; Geoscience Australia) featured on [this NASA website](https://www.nasa.gov/image-feature/color-explosion-beautiful-earth). The source image was taken in May 2013 by the Landsat 8 satellite over Western Australia, and then enhanced.\n",
    "- `anotherplot.png`: graphics file for the exercise *Line plots and scatter diagrams*.\n",
    "- `subplots22.png`: graphics file for the exercise *Multiple plots in one diagram*.\n",
    "- `landsat8_color_channels.png`: graphics file for the exercise *Color image taken by Landsat*."
   ]
  },
  {
   "cell_type": "markdown",
   "metadata": {},
   "source": [
    "Run the following code cell to import standard Python data science libraries. The NumPy module facilitates efficient processing of numerical arrays, and is usually imported as `np`. From the matplotlib library we import the package `pyplot` using the standard abbreviation `plt`. The magic command `%matplotlib inline` (IPython shell) \n",
    "allows for inline display of graphics."
   ]
  },
  {
   "cell_type": "code",
   "execution_count": 6,
   "metadata": {},
   "outputs": [],
   "source": [
    "import numpy as np\n",
    "import matplotlib.pyplot as plt\n",
    "%matplotlib inline"
   ]
  },
  {
   "cell_type": "markdown",
   "metadata": {},
   "source": [
    "## Loading numerical data from regular text files"
   ]
  },
  {
   "cell_type": "markdown",
   "metadata": {},
   "source": [
    "The matplotlib functionality to produce basic line and scatter plots is demonstrated using the file `SN_y_tot_V2.0.txt` listing the [yearly mean total sunspot number](https://www.sidc.be/silso/infosnytot) since 1700.  It is a plain text (ASCII) file without header consisting of four columns: year, average number of sunspots, standard deviation, number of measurements entering the average. For the latter two variables, missing data are indicated by the value `-1`. For brevity, we refer to the average number of sunspots as the *sunspot number*."
   ]
  },
  {
   "cell_type": "markdown",
   "metadata": {},
   "source": [
    "Plain text files with such a regular rectangular structure can be loaded, e.g., by means of the NumPy functions ``loadtxt()`` or ``genfromtxt()``. The former function is faster when no data are missing while the latter function works also in the case of missing data."
   ]
  },
  {
   "cell_type": "code",
   "execution_count": 7,
   "metadata": {},
   "outputs": [],
   "source": [
    "alldata = np.loadtxt('SN_y_tot_V2.0.txt')"
   ]
  },
  {
   "cell_type": "markdown",
   "metadata": {},
   "source": [
    "The data are read from the text file and stored in the two-dimensinal array ``alldata`` (a matrix). You may extract the data from the first two columns (year and sunspot number) into one-dimensional arrays (vectors) as follows."
   ]
  },
  {
   "cell_type": "code",
   "execution_count": 8,
   "metadata": {},
   "outputs": [],
   "source": [
    "year = alldata[:,0]\n",
    "nspots = alldata[:,1]"
   ]
  },
  {
   "cell_type": "markdown",
   "metadata": {},
   "source": [
    "One may associate columns more directly with data vectors by means of the keywords `usecols` and `unpack`."
   ]
  },
  {
   "cell_type": "code",
   "execution_count": 9,
   "metadata": {},
   "outputs": [],
   "source": [
    "year,nspots = np.loadtxt('SN_y_tot_V2.0.txt',usecols=(0,1),unpack=True)"
   ]
  },
  {
   "cell_type": "markdown",
   "metadata": {},
   "source": [
    "### Exercise: Loading numerical data from regular text files"
   ]
  },
  {
   "cell_type": "markdown",
   "metadata": {},
   "source": [
    "Consult the documentation to learn more about the functions `np.loadtxt()` and `np.genfromtxt()`. Using data from the file `SN_y_tot_V2.0.txt`, complete the code cell below according to the instructions given as comments."
   ]
  },
  {
   "cell_type": "code",
   "execution_count": 10,
   "metadata": {
    "scrolled": true
   },
   "outputs": [
    {
     "name": "stdout",
     "output_type": "stream",
     "text": [
      "Maximum sunspot number      :  269.3\n",
      "Maximum observed in year    :  1957.5\n"
     ]
    }
   ],
   "source": [
    "### Find the maximum of the series of sunspot numbers, and also the year when this maximum was observed.\n",
    "print('Maximum sunspot number      : ',nspots.max())\n",
    "print('Maximum observed in year    : ',year[nspots.argmax()])\n",
    "### Copy the last decade of the 20th century (1990.5-1999.5) from alldata to a new matrix data90.\n",
    "\n",
    "### Using print(), display the first and the last rows of the data matrix data90.\n",
    "\n",
    "### Copy data with valid standard deviations (non-negative values) from alldata to a new matrix obsdata.\n",
    "\n",
    "### Using print(), display the first and the last rows of the data matrix obsdata.\n",
    "\n",
    "### Using np.genfromtxt() with keywords usecols and unpack, load standard deviations into the vector std.\n",
    "\n",
    "### Print the first three elements of the vector std.\n",
    "\n",
    "### Print the last three elements of the vector std.\n"
   ]
  },
  {
   "cell_type": "markdown",
   "metadata": {},
   "source": [
    "## Basic plot example"
   ]
  },
  {
   "cell_type": "markdown",
   "metadata": {},
   "source": [
    "To demonstrate and explain the overall logic of the `matplotlib` module, this tutorial highlights the function `plot()` from `matplotlib.pyplot` (imported as `plt`) by means of numerical grids and grid functions introduced in the next section. The current section demonstrates selected features using the sunspot numbers loaded from the data file in the previous section."
   ]
  },
  {
   "cell_type": "markdown",
   "metadata": {},
   "source": [
    "With only one (vectorial) array, the function `plot()` displays its values versus the array indices. Without additional arguments, the points are connected by straight line segments."
   ]
  },
  {
   "cell_type": "code",
   "execution_count": 11,
   "metadata": {},
   "outputs": [
    {
     "data": {
      "text/plain": [
       "[<matplotlib.lines.Line2D at 0x120dcc040>]"
      ]
     },
     "execution_count": 11,
     "metadata": {},
     "output_type": "execute_result"
    },
    {
     "data": {
      "image/png": "[encoded data removed]",
      "text/plain": [
       "<Figure size 640x480 with 1 Axes>"
      ]
     },
     "metadata": {},
     "output_type": "display_data"
    }
   ],
   "source": [
    "plt.plot(nspots)"
   ]
  },
  {
   "cell_type": "markdown",
   "metadata": {},
   "source": [
    "Properties of the plot can be controled through keywords such as `linestyle`, `marker`, and `color`. To obtain a scatter diagram, set `linestyle=''`."
   ]
  },
  {
   "cell_type": "code",
   "execution_count": null,
   "metadata": {},
   "outputs": [],
   "source": [
    "plt.plot(nspots,marker='+',linestyle='')"
   ]
  },
  {
   "cell_type": "markdown",
   "metadata": {},
   "source": [
    "The plot command with two array arguments displays the values of the second array versus the values of the first one, for all valid indices. The keyword `linewidth` controls the width of plot lines."
   ]
  },
  {
   "cell_type": "code",
   "execution_count": null,
   "metadata": {},
   "outputs": [],
   "source": [
    "plt.plot(year,nspots,linewidth=3)"
   ]
  },
  {
   "cell_type": "markdown",
   "metadata": {},
   "source": [
    "Additional plot elements (title, axes annotations) and different styles are produced easily. We may also enforce specific limits on the coordinate axes, overriding the default with small margins separating the plot from the axes."
   ]
  },
  {
   "cell_type": "code",
   "execution_count": null,
   "metadata": {
    "scrolled": true
   },
   "outputs": [],
   "source": [
    "plt.plot(year,nspots,color='black')\n",
    "plt.title('Sunspot numbers 1700-2000')\n",
    "plt.xlabel('Year')\n",
    "plt.ylabel('Sunspot number')\n",
    "plt.xlim((1700,2000))\n",
    "plt.ylim((0,200))\n",
    "plt.fill_between(year,nspots,color='yellow')"
   ]
  },
  {
   "cell_type": "markdown",
   "metadata": {},
   "source": [
    "Consult the documentation to learn more about the function `plt.plot()`."
   ]
  },
  {
   "cell_type": "code",
   "execution_count": null,
   "metadata": {},
   "outputs": [],
   "source": [
    "### Uncomment one of the following lines to learn more about plt.plot().\n",
    "#plt.plot?\n",
    "#help(plt.plot)"
   ]
  },
  {
   "cell_type": "markdown",
   "metadata": {},
   "source": [
    "## Numerical grids and grid functions"
   ]
  },
  {
   "cell_type": "markdown",
   "metadata": {},
   "source": [
    "Plot software requires real intervals with infinite numbers of points to be discretized, i.e., approximated by a finite subset of points called a *numerical grid*. An *equidistant* grid is characterized by a constant spacing between two subsequent elements. Functions that are evaluated on a numerical grid are called *grid functions*. In NumPy, numerical grids can be generated in several ways, e.g., by calling ``np.array()`` with an appropriate list argument, through ``np.arange()``, or using the function ``np.linspace()``. See the NumPy documentation for more information."
   ]
  },
  {
   "cell_type": "code",
   "execution_count": null,
   "metadata": {},
   "outputs": [],
   "source": [
    "### Uncomment one of the following lines to obtain information about np.linspace().\n",
    "#np.linspace?\n",
    "#help(np.linspace)"
   ]
  },
  {
   "cell_type": "markdown",
   "metadata": {},
   "source": [
    "The following instructions produce an equidistant discretization of the interval $[a,b]$ with $N$ sub-intervals."
   ]
  },
  {
   "cell_type": "code",
   "execution_count": null,
   "metadata": {},
   "outputs": [],
   "source": [
    "a = 1\n",
    "b = 3\n",
    "N = 4\n",
    "x = np.linspace(a,b,num=N+1)\n",
    "print(x)"
   ]
  },
  {
   "cell_type": "markdown",
   "metadata": {},
   "source": [
    "With numerical grids such as the array ``x``, grid functions are easily defined. The following instruction produces the set of values $ \\{ f_0, f_1, f_2, \\ldots\\}$ with $f_n = x_n \\exp(x_n)$, and stores them in the grid function `f`."
   ]
  },
  {
   "cell_type": "code",
   "execution_count": null,
   "metadata": {},
   "outputs": [],
   "source": [
    "f = x*np.exp(x)\n",
    "print(f)"
   ]
  },
  {
   "cell_type": "markdown",
   "metadata": {},
   "source": [
    "The following piece of code yields a discretization of time $t$ on $[0,4]$ with $N = 8$ sub-intervals, and then defines two cosine functions $\\cos(2 \\pi t / P )$ with periods $P = 2$ and $P = 4$."
   ]
  },
  {
   "cell_type": "code",
   "execution_count": null,
   "metadata": {},
   "outputs": [],
   "source": [
    "t = np.linspace(0,4,num=9)\n",
    "c2 = np.cos(2*np.pi*t/2)\n",
    "c4 = np.cos(2*np.pi*t/4)"
   ]
  },
  {
   "cell_type": "markdown",
   "metadata": {},
   "source": [
    "### Exercise: Numerical grids and grid functions"
   ]
  },
  {
   "cell_type": "markdown",
   "metadata": {},
   "source": [
    "Complete the code cell below according to the instructions given as comments. In each case, display the result using `print()`."
   ]
  },
  {
   "cell_type": "code",
   "execution_count": null,
   "metadata": {},
   "outputs": [],
   "source": [
    "### Using np.linspace(), store an equidistant discretization of [-3,3] with grid spacing 0.5 in the array z.\n",
    "\n",
    "#print(z)\n",
    "### Store the square of the array z and in the array sqz.\n",
    "\n",
    "#print(sqz)\n",
    "### Store the square root of the array sqz in the array sqrsqz.\n",
    "\n",
    "#print(sqrsqz)"
   ]
  },
  {
   "cell_type": "markdown",
   "metadata": {},
   "source": [
    "## Line plots and scatter diagrams"
   ]
  },
  {
   "cell_type": "markdown",
   "metadata": {},
   "source": [
    "Here is a summary of the features of `plt.plot()` we explored already in a previous section.\n",
    "\n",
    "- Calling the plot function with only one argument `y` displays the values `y[k]` versus the indices `k`, either connected by straight line segments, or as individual points using predefined plot symbols.\n",
    "- With two arguments `x` and `y`, the values `y[k]` are displayed versus the values `x[k]` for all valid indices `k`.\n",
    "- The linestyle can be controlled through the keyword parameter `linestyle` (or `ls`).\n",
    "- The linewidth can be specified using the keyword parameter `linewidth` (or `lw`).\n",
    "- The color can be controlled through the keyword parameter `color` (or `c`).\n",
    "- Marker symbols can be added using the keyword parameter `marker` (or `m`).\n",
    "\n",
    "Some of the functionality is also available through *format strings*, e.g., `'r--'` produces a plot with data connected by red dashed lines."
   ]
  },
  {
   "cell_type": "markdown",
   "metadata": {},
   "source": [
    "In the following code cell, anticipate the graphics produced by the instructions in comments, then uncomment individual lines to check."
   ]
  },
  {
   "cell_type": "code",
   "execution_count": null,
   "metadata": {},
   "outputs": [],
   "source": [
    "x = np.linspace(-1,1,5)\n",
    "y = np.cos(np.pi*x/2)\n",
    "#plt.plot(y)\n",
    "#plt.plot(x,y)\n",
    "#plt.plot(x,y,marker='s')\n",
    "#plt.plot(y,'--')\n",
    "#plt.plot(x,y,'s',ls='')\n",
    "#plt.plot(x,y,'g-.')\n",
    "#plt.plot(x,y,c='k',lw=3,ls=':')"
   ]
  },
  {
   "cell_type": "markdown",
   "metadata": {},
   "source": [
    "When `plot()` or another plotting function such as `scatter()` or `imshow()` is called, the output becomes part of an implicitly generated figure object. Although such an automatic generation is convenient, it is usually cleaner and more robust to explicitly open figure objects, e.g., using the function `figure()`. The resulting object can be stored in a  variety of graphics formats by means of the function `savefig()`."
   ]
  },
  {
   "cell_type": "code",
   "execution_count": null,
   "metadata": {
    "scrolled": false
   },
   "outputs": [],
   "source": [
    "fig = plt.figure(figsize=(8,5))\n",
    "plt.plot(np.cos(np.pi*np.linspace(-1,1,5)/2))\n",
    "### Uncomment the following line to store the graphics in png format.\n",
    "#fig.savefig('plainplot.png')\n",
    "### Uncomment the following line to see the built-in documentation of the figure object.\n",
    "#help(fig)"
   ]
  },
  {
   "cell_type": "markdown",
   "metadata": {},
   "source": [
    "Plot title and axes annotations can be added in successive command lines with string variables as arguments. A legend is constructed using the strings provided in `plot()` with the keyword `label`. You may also add a grid for better readability of numerical values."
   ]
  },
  {
   "cell_type": "code",
   "execution_count": null,
   "metadata": {},
   "outputs": [],
   "source": [
    "### Equidistant discretization of [-1,1] with spacing 0.5.\n",
    "x = np.linspace(-1,1,5)\n",
    "### Definition of grid function.\n",
    "y = np.cos(np.pi*x/2)\n",
    "### Open a new figure object of default size.\n",
    "plt.figure()\n",
    "### Create a black line plot of y versus x, set label to be used in legend().\n",
    "plt.plot(x,y,color='k',label='Line segments')\n",
    "### Mark grid points with red circles.\n",
    "plt.plot(x,y,'ro',label='Marker symbols')\n",
    "### Add a straight line at y=0.5.\n",
    "plt.plot(x,0.5*np.ones(len(x)),'g--',label='Straight line')\n",
    "### Add plot title and axes annotations.\n",
    "plt.title('A simple plot')\n",
    "plt.xlabel('x axis')\n",
    "plt.ylabel('y axis')\n",
    "### Construct a plot legend from labels set in the previous calls to plot().\n",
    "plt.legend()\n",
    "### Add a grid for better readability of numerical values.\n",
    "plt.grid()"
   ]
  },
  {
   "cell_type": "markdown",
   "metadata": {},
   "source": [
    "### Exercise: Line plots and scatter diagrams"
   ]
  },
  {
   "cell_type": "markdown",
   "metadata": {},
   "source": [
    "Complete the code cell below to produce the following diagram. The labels are created by means of the keywords \n",
    "`label='$e^{-x}$')` and `label='$(x-1)^2$'`.\n",
    "\n",
    "![](anotherplot.png)"
   ]
  },
  {
   "cell_type": "code",
   "execution_count": null,
   "metadata": {},
   "outputs": [],
   "source": [
    "### Using np.linspace(), store an equidistant discretization of [0,2] with grid spacing 0.1 in the array x.\n",
    "\n",
    "### Store grid functions e^{-x} and (x-1)^2 in arrays y1 and y2, respectively.\n",
    "\n",
    "### Using figure(), open a new figure object of default size.\n",
    "\n",
    "### Plot y1 and y2 versus x using the line styles and colors in the diagram.\n",
    "\n",
    "### Add title and axes annotations.\n",
    "\n",
    "### Add a legend.\n",
    "\n",
    "### Store the figure in png format.\n"
   ]
  },
  {
   "cell_type": "markdown",
   "metadata": {},
   "source": [
    "## Multiple plots in one diagram"
   ]
  },
  {
   "cell_type": "markdown",
   "metadata": {},
   "source": [
    "A straightforward way to obtain several plots in one diagram is through the function `subplot(nrows,ncols,pos)`, creating an array of (plot) axes where `nrows` and `ncols` give the number of rows and columns, respectively. The third parameter `pos` points to the current position in the array. Modify the code in the following cell and observe the output of functions for different sets of parameters."
   ]
  },
  {
   "cell_type": "code",
   "execution_count": null,
   "metadata": {},
   "outputs": [],
   "source": [
    "### Equidistant discretization of [-1,1] with spacing 0.1.\n",
    "x = np.linspace(-1,1,21)\n",
    "### Definition of grid functions.\n",
    "y1 = x\n",
    "y2 = x**2\n",
    "y3 = x**3\n",
    "### Open a new figure object of default size.\n",
    "plt.figure(figsize=(10,6))\n",
    "### First plot in a (2,3) array.\n",
    "plt.subplot(2,3,1)\n",
    "plt.plot(x,y1,color='k')\n",
    "plt.title(r'Function $y=x$')\n",
    "plt.ylabel('y axis')\n",
    "### Second plot in a (2,3) array.\n",
    "plt.subplot(2,3,2)\n",
    "plt.plot(x,y2,color='k')\n",
    "plt.title(r'Function $y=x^2$')\n",
    "### Third plot in a (2,3) array.\n",
    "plt.subplot(2,3,3)\n",
    "plt.plot(x,y3,color='k')\n",
    "plt.title(r'Function $y=x^3$')\n",
    "### Fourth plot in a (2,3) array.\n",
    "plt.subplot(2,3,4)\n",
    "plt.plot(x,y1,'go')\n",
    "plt.xlabel('x axis')\n",
    "plt.ylabel('y axis')\n",
    "### Fifth plot in a (2,3) array.\n",
    "plt.subplot(2,3,5)\n",
    "plt.plot(x,y2,'go')\n",
    "plt.xlabel('x axis')\n",
    "### Sixth plot in a (2,3) array.\n",
    "plt.subplot(2,3,6)\n",
    "plt.plot(x,y3,'go')\n",
    "plt.xlabel('x axis')"
   ]
  },
  {
   "cell_type": "markdown",
   "metadata": {},
   "source": [
    "The logic of the plot commands presented so far, inspired by the plot interface of the MATLAB software, is one of two approaches supported by matplotlib. The second option may be referred to as *object-oriented approach*, (emphasizing figures and figure elements as Python objects) and is demonstrated in the following cell. Study the example to see where the syntax differs from the MATLAB-style approach. Consult the documentation of `plt.subplots()` for details and further information."
   ]
  },
  {
   "cell_type": "code",
   "execution_count": null,
   "metadata": {},
   "outputs": [],
   "source": [
    "### Equidistant discretization of [-1,1] with spacing 0.1.\n",
    "x = np.linspace(-1,1,21)\n",
    "### Definition of grid functions.\n",
    "y1 = x\n",
    "y2 = x**2\n",
    "y3 = x**3\n",
    "### Open a new figure object to store a (2,3) array of plots.\n",
    "fig,axs = plt.subplots(2,3,figsize=(10,6))\n",
    "### Plot at the [0,0] position.\n",
    "axs[0,0].plot(x,y1,color='k')\n",
    "axs[0,0].set_title(r'Function $y=x$')\n",
    "axs[0,0].set_ylabel('y axis')\n",
    "### Plot at the [0,1] position.\n",
    "axs[0,1].plot(x,y2,color='k')\n",
    "axs[0,1].set_title(r'Function $y=x^2$')\n",
    "### Plot at the [0,2] position.\n",
    "axs[0,2].plot(x,y3,color='k')\n",
    "axs[0,2].set_title(r'Function $y=x^3$')\n",
    "### Plot at the [1,0] position.\n",
    "axs[1,0].plot(x,y1,'go')\n",
    "axs[1,0].set_xlabel('x axis')\n",
    "axs[1,0].set_ylabel('y axis')\n",
    "### Plot at the [1,1] position.\n",
    "axs[1,1].plot(x,y2,'go')\n",
    "axs[1,1].set_xlabel('x axis')\n",
    "### Plot at the [1,2] position.\n",
    "axs[1,2].plot(x,y3,'go')\n",
    "axs[1,2].set_xlabel('x axis')\n",
    "### Store figure in png format.\n",
    "#fig.savefig('subplots23.png')"
   ]
  },
  {
   "cell_type": "markdown",
   "metadata": {},
   "source": [
    "### Exercise: Multiple plots in one diagram"
   ]
  },
  {
   "cell_type": "markdown",
   "metadata": {},
   "source": [
    "Using the object-oriented approach to producing plot figures, complete the code cell below to produce the following diagram.\n",
    "\n",
    "![](subplots22.png)"
   ]
  },
  {
   "cell_type": "code",
   "execution_count": null,
   "metadata": {},
   "outputs": [],
   "source": [
    "### Equidistant discretization of [0,2] with spacing 0.2.\n",
    "\n",
    "### Definition of grid functions.\n",
    "\n",
    "### Open a new figure object to store a (2,2) array of plots.\n",
    "\n",
    "### Plot at the [0,0] position.\n",
    "\n",
    "### Plot at the [0,1] position.\n",
    "\n",
    "### Plot at the [1,0] position.\n",
    "\n",
    "### Plot at the [1,1] position.\n",
    "\n",
    "### Store figure in png format.\n"
   ]
  },
  {
   "cell_type": "markdown",
   "metadata": {},
   "source": [
    "## Contour plots and digital images"
   ]
  },
  {
   "cell_type": "markdown",
   "metadata": {},
   "source": [
    "Matplotlib offers several options for the visualization of two-dimensional arrays (matrices). For instance, they can displayed as images using the function `imshow()`, or visualized through contour lines (connecting positions sharing the same value, also called level sets) by means of the functions `contour()` and `contourf()`. In contrast to `contour()` or `contourf()`, `imshow()` interpretes array elements as square pixels, and the aspect ratio is preserved. Furthermore, the pixels on the vertical axis are reversed, with zero at the top. Note that `imshow()` uses the default color map (keyword `cmap`). To enforce grayscale displays, set `cmap` to `plt.cm.gray`, or to the string variable 'gray'.  \n",
    "\n",
    "In the example below, some of the visualization options are demonstrated using a two-dimensional array `f` with a bell-shaped profile in the horizontal direction (`x`) and oscillatory behavior in the vertical direction (`y`)."
   ]
  },
  {
   "cell_type": "code",
   "execution_count": null,
   "metadata": {},
   "outputs": [],
   "source": [
    "### Define two-dimensional coordinate arrays x,y.\n",
    "x,y = np.meshgrid(np.linspace(-2,2,201),np.linspace(-1,1,201))\n",
    "### Create a two-dimensional array f with bell-shaped profile in x and oscillatory bahavior in y.\n",
    "f = 100*(1 + np.exp(-x**2)*np.sin(2*np.pi*y))\n",
    "### Open a figure object with a (2,2) array of subplots.\n",
    "fig,axs = plt.subplots(2,2,figsize=(15,10))\n",
    "### Subplot in position [0,0]: Contour lines.\n",
    "cp0 = axs[0,0].contour(f)\n",
    "fig.colorbar(cp0,ax=axs[0,0])\n",
    "axs[0,0].set_title('$f(x,y)$ displayed using contour')\n",
    "### Subplot in position [0,1]: Filled contour lines.\n",
    "cp1 = axs[0,1].contourf(f)\n",
    "fig.colorbar(cp1,ax=axs[0,1])\n",
    "axs[0,1].set_title('$f(x,y)$ displayed using contourf')\n",
    "### Subplot in position [1,0]: Image using default color map.\n",
    "im0 = axs[1,0].imshow(f)\n",
    "fig.colorbar(im0,ax=axs[1,0])\n",
    "axs[1,0].set_title(\"$f(x,y)$ displayed using imshow, default cmap\")\n",
    "### Subplot in position [1,1]: Gray scale image.\n",
    "im1 = axs[1,1].imshow(f,cmap='gray')\n",
    "fig.colorbar(im1,ax=axs[1,1])\n",
    "axs[1,1].set_title(\"$f(x,y)$ displayed using imshow, cmap='gray'\")\n",
    "### Save figure in png format.\n",
    "#---fig.savefig('contourf_imshow.png',facecolor=None,bbox_inches='tight')"
   ]
  },
  {
   "cell_type": "markdown",
   "metadata": {},
   "source": [
    "Consult the Python documentation for further visualization options, e.g., surface plots or wireframe meshes."
   ]
  },
  {
   "cell_type": "markdown",
   "metadata": {},
   "source": [
    "### Exercise: Color image taken by Landsat"
   ]
  },
  {
   "cell_type": "markdown",
   "metadata": {},
   "source": [
    "Color images are stored in several two-dimensional arrays. Each of the arrays (also called channels) represents one color according to a color model, typically RGB (red-green-blue). A four-channel version of the RGB model is RGBA, with the channel A (alpha) quantifying transparency."
   ]
  },
  {
   "cell_type": "markdown",
   "metadata": {},
   "source": [
    "The code in the following cell starts by loading the [color image `march2014_1920x1200.jpeg`](https://www.nasa.gov/sites/default/files/thumbnails/image/march2014_1920x1200.jpeg) (Credit: NASA/USGS Landsat; Geoscience Australia) featured on [this NASA website](https://www.nasa.gov/image-feature/color-explosion-beautiful-earth). Using the object-oriented approach to plotting in matplotlib, complete the code cell to generate the graphics below. In the upper left panel, the color image is displayed. The other three panels show the separate color channels as grayscale plots. Note that the two-dimensional matrix in channel `k` can be extracted from the three-dimensional array `data`  through `data[...,k]`.\n",
    "\n",
    "![](landsat8_color_channels.png)"
   ]
  },
  {
   "cell_type": "code",
   "execution_count": null,
   "metadata": {},
   "outputs": [],
   "source": [
    "### Load the color image.\n",
    "from PIL import Image\n",
    "data = np.asarray(Image.open('march2014_1920x1200.jpeg'))\n",
    "print('Shape of the data array: {}'.format(data.shape))\n",
    "### Open a figure object with a (2,2) array of subplots.\n",
    "\n",
    "### Subplot in position [0,0]: Color image, all channels.\n",
    "\n",
    "### Subplot in position [0,1]: Color image, channel 0 (red).\n",
    "\n",
    "### Subplot in position [1,0]: Color image, channel 1 (green).\n",
    "\n",
    "### Subplot in position [1,1]: Color image, channel 2 (blue).\n",
    "\n",
    "### Save figure in png format.\n"
   ]
  },
  {
   "cell_type": "markdown",
   "metadata": {},
   "source": [
    "---\n",
    "---"
   ]
  },
  {
   "cell_type": "markdown",
   "metadata": {},
   "source": [
    "## Solutions"
   ]
  },
  {
   "cell_type": "markdown",
   "metadata": {},
   "source": [
    "### Solution: Loading numerical data from regular text files"
   ]
  },
  {
   "cell_type": "code",
   "execution_count": null,
   "metadata": {
    "scrolled": true
   },
   "outputs": [],
   "source": [
    "### Find the maximum of the series of sunspot numbers, and also the year when this maximum was observed.\n",
    "print('Maximum sunspot number      : ',nspots.max())\n",
    "print('Maximum observed in year    : ',year[nspots.argmax()])\n",
    "### Copy the last decade of the 20th century (1990.5-1999.5) from alldata to a new matrix data90.\n",
    "ind90 = (year>1990) & (year<2000)\n",
    "data90 = alldata[ind90,:]\n",
    "### Using print(), display the first and the last rows of the data matrix data90.\n",
    "print('First row of matrix data90  : ',data90[0,:])\n",
    "print('Last row of matrix data90   : ',data90[-1,:])\n",
    "### Copy data with valid standard deviations (non-negative values) from alldata to a new matrix obsdata.\n",
    "valid = alldata[:,2]>=0\n",
    "obsdata = alldata[valid,:]\n",
    "### Using print(), display the first and the last rows of the data matrix obsdata.\n",
    "print('First row of matrix obsdata : ',obsdata[0,:])\n",
    "print('Last row of matrix obsdata  : ',obsdata[-1,:])\n",
    "### Using np.genfromtxt() with keywords usecols and unpack, load standard deviations into the vector std.\n",
    "std = np.genfromtxt('SN_y_tot_V2.0.txt',usecols=(2,),unpack=True)\n",
    "### Print the first three elements of the vector std.\n",
    "print('First three elements of std : ',std[:3])\n",
    "### Print the last three elements of the vector std.\n",
    "print('Last three elements of std  : ',std[-3:])"
   ]
  },
  {
   "cell_type": "markdown",
   "metadata": {},
   "source": [
    "### Solution: Numerical grids and grid functions"
   ]
  },
  {
   "cell_type": "code",
   "execution_count": null,
   "metadata": {},
   "outputs": [],
   "source": [
    "### Using np.linspace(), store an equidistant discretization of [-3,3] with grid spacing 0.5 in the array z.\n",
    "z = np.linspace(-3,3,num=13)\n",
    "print(z)\n",
    "### Store the square of the array z and in the array sqz.\n",
    "sqz = z**2\n",
    "print(sqz)\n",
    "### Store the square root of the array sqz in the array sqrsqz.\n",
    "sqrsqz = np.sqrt(sqz)\n",
    "print(sqrsqz)"
   ]
  },
  {
   "cell_type": "markdown",
   "metadata": {},
   "source": [
    "### Solution: Line plots and scatter diagrams"
   ]
  },
  {
   "cell_type": "code",
   "execution_count": null,
   "metadata": {},
   "outputs": [],
   "source": [
    "### Using np.linspace(), store an equidistant discretization of [0,2] with grid spacing 0.1 in the array x.\n",
    "x = np.linspace(0,2,21)\n",
    "### Store grid functions e^{-x} and (x-1)^2 in arrays y1 and y2, respectively.\n",
    "y1 = np.exp(-x)\n",
    "y2 = (x-1)**2\n",
    "### Using figure(), open a new figure object of default size.\n",
    "plt.figure()\n",
    "### Plot y1 and y2 versus x using the line styles and colors in the diagram.\n",
    "plt.plot(x,y1,'b-',label='$e^{-x}$')\n",
    "plt.plot(x,y2,'r:',label='$(x-1)^2$')\n",
    "### Add title and axes annotations.\n",
    "plt.title('Another simple plot')\n",
    "plt.xlabel('$x$ coordinate')\n",
    "plt.ylabel('$y$ coordinate')\n",
    "### Add a legend.\n",
    "plt.legend()\n",
    "### Store the figure in png format.\n",
    "#plt.savefig('anotherplot.png',facecolor=None,bbox_inches='tight')"
   ]
  },
  {
   "cell_type": "markdown",
   "metadata": {},
   "source": [
    "### Solution: Multiple plots in one diagram"
   ]
  },
  {
   "cell_type": "code",
   "execution_count": null,
   "metadata": {},
   "outputs": [],
   "source": [
    "### Equidistant discretization of [0,2] with spacing 0.2.\n",
    "x = np.linspace(0,2,11)\n",
    "### Definition of grid functions.\n",
    "y1 = (x+1)**2\n",
    "y2 = x**2 + 1\n",
    "### Open a new figure object to store a (2,2) array of plots.\n",
    "fig,axs = plt.subplots(2,2,figsize=(7,6))\n",
    "### Plot at the [0,0] position.\n",
    "axs[0,0].plot(x,y1,color='r')\n",
    "axs[0,0].set_title(r'Function $y=(x+1)^2$')\n",
    "axs[0,0].set_ylabel('y axis')\n",
    "### Plot at the [0,1] position.\n",
    "axs[0,1].plot(x,y2,color='g')\n",
    "axs[0,1].set_title(r'Function $y=x^2+1$')\n",
    "### Plot at the [1,0] position.\n",
    "axs[1,0].plot(x,y1,'b*')\n",
    "axs[1,0].set_xlabel('x axis')\n",
    "axs[1,0].set_ylabel('y axis')\n",
    "### Plot at the [1,1] position.\n",
    "axs[1,1].plot(x,y2,'kd')\n",
    "axs[1,1].set_xlabel('x axis')\n",
    "### Store figure in png format.\n",
    "#fig.savefig('subplots22.png')"
   ]
  },
  {
   "cell_type": "markdown",
   "metadata": {},
   "source": [
    "### Solution: Color image taken by Landsat"
   ]
  },
  {
   "cell_type": "code",
   "execution_count": null,
   "metadata": {},
   "outputs": [],
   "source": [
    "### Load the color image.\n",
    "from PIL import Image\n",
    "data = np.asarray(Image.open('march2014_1920x1200.jpeg'))\n",
    "print('Shape of the data array: {}'.format(data.shape))\n",
    "### Open a figure object with a (2,2) array of subplots.\n",
    "fig,axs = plt.subplots(2,2,figsize=(13,8))\n",
    "### Subplot in position [0,0]: Color image, all channels.\n",
    "axs[0,0].imshow(data)\n",
    "axs[0,0].set_title('Color image: all channels')\n",
    "axs[0,0].set_ylabel('Vertical dimension [pixels]')\n",
    "### Subplot in position [0,1]: Color image, channel 0 (red).\n",
    "axs[0,1].imshow(data[...,0],cmap='gray')\n",
    "axs[0,1].set_title('Color image: channel 0 (red)')\n",
    "### Subplot in position [1,0]: Color image, channel 1 (green).\n",
    "axs[1,0].imshow(data[...,1],cmap='gray')\n",
    "axs[1,0].set_title('Color image: channel 1 (green)')\n",
    "axs[1,0].set_xlabel('Horizontal dimension [pixels]')\n",
    "axs[1,0].set_ylabel('Vertical dimension [pixels]')\n",
    "### Subplot in position [1,1]: Color image, channel 2 (blue).\n",
    "axs[1,1].imshow(data[...,2],cmap='gray')\n",
    "axs[1,1].set_title('Color image: channel 2 (blue)')\n",
    "axs[1,1].set_xlabel('Horizontal dimension [pixels]')\n",
    "### Save figure in png format.\n",
    "#---fig.savefig('landsat8_color_channels.png',facecolor=None,bbox_inches='tight')"
   ]
  },
  {
   "cell_type": "markdown",
   "metadata": {},
   "source": [
    "---\n",
    "---"
   ]
  }
 ],
 "metadata": {
  "anaconda-cloud": {},
  "kernelspec": {
   "display_name": "Python 3 (ipykernel)",
   "language": "python",
   "name": "python3"
  },
  "language_info": {
   "codemirror_mode": {
    "name": "ipython",
    "version": 3
   },
   "file_extension": ".py",
   "mimetype": "text/x-python",
   "name": "python",
   "nbconvert_exporter": "python",
   "pygments_lexer": "ipython3",
   "version": "3.9.13"
  }
 },
 "nbformat": 4,
 "nbformat_minor": 1
}
